{
 "cells": [
  {
   "cell_type": "markdown",
   "metadata": {},
   "source": [
    "# Load the data\n",
    "We first load the weird t7 converted files containing the data. The conversion step is in the <a href=\"data_loading.ipynb\">data loading notebook</a>."
   ]
  },
  {
   "cell_type": "code",
   "execution_count": 1,
   "metadata": {
    "collapsed": true
   },
   "outputs": [],
   "source": [
    "file = torch.DiskFile('dat/facies_vectors.t7', 'r')\n",
    "facies = file:readObject()\n",
    "file:close()\n",
    "file = torch.DiskFile('dat/validation_data_nofacies.t7', 'r')\n",
    "validate = file:readObject()\n",
    "file:close()"
   ]
  },
  {
   "cell_type": "markdown",
   "metadata": {
    "collapsed": true
   },
   "source": [
    "Let's pick out the well logs and the \"geologic constraining variables\" by simply dropping the facies and the depth data."
   ]
  },
  {
   "cell_type": "code",
   "execution_count": 48,
   "metadata": {
    "collapsed": false
   },
   "outputs": [
    {
     "data": {
      "text/plain": [
       "facies size: \t4149\tx\t9\t\n",
       "validate size: \t830\tx\t8\t\n"
      ]
     },
     "execution_count": 48,
     "metadata": {},
     "output_type": "execute_result"
    }
   ],
   "source": [
    "print(\"facies size: \", facies:size()[1], \"x\", facies:size()[2])\n",
    "print(\"validate size: \", validate:size()[1], \"x\", validate:size()[2])"
   ]
  },
  {
   "cell_type": "code",
   "execution_count": 53,
   "metadata": {
    "collapsed": false
   },
   "outputs": [
    {
     "data": {
      "text/plain": [
       "training data size: \t4149\tx\t7\t\n",
       "testing data size: \t830\tx\t7\t\n"
      ]
     },
     "execution_count": 53,
     "metadata": {},
     "output_type": "execute_result"
    }
   ],
   "source": [
    "training_data = facies[{{},{3,9}}];\n",
    "print(\"training data size: \", training_data:size()[1], \"x\", training_data:size()[2])\n",
    "testing_data = validate[{{}, {2,8}}];\n",
    "print(\"testing data size: \", testing_data:size()[1], \"x\", testing_data:size()[2])\n"
   ]
  },
  {
   "cell_type": "code",
   "execution_count": null,
   "metadata": {
    "collapsed": true
   },
   "outputs": [],
   "source": []
  }
 ],
 "metadata": {
  "kernelspec": {
   "display_name": "iTorch",
   "language": "lua",
   "name": "itorch"
  },
  "language_info": {
   "name": "lua",
   "version": "5.1"
  }
 },
 "nbformat": 4,
 "nbformat_minor": 1
}
