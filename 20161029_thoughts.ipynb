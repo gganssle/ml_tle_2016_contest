{
 "cells": [
  {
   "cell_type": "markdown",
   "metadata": {},
   "source": [
    "# Getting the data into Torch\n",
    "Torch is really bad at handling external data. It's native data format is t7. This is a collection of notes on getting data loaded in for use in the ML contest."
   ]
  },
  {
   "cell_type": "markdown",
   "metadata": {},
   "source": [
    "I've included Scott Locklin's <a href=\"https://github.com/locklin/torch-things/blob/master/csv2t7.sh\">script</a> in this directory for converting csv to t7. The raw CSV files must be stripped of text (t7 only accepts numerals) including headers before feeding them into the script."
   ]
  },
  {
   "cell_type": "code",
   "execution_count": 11,
   "metadata": {
    "collapsed": false
   },
   "outputs": [
    {
     "ename": "/home/gram/torch/install/share/lua/5.1/torch/File.lua:351: read error: read 36424 blocks instead of 37341 at /home/gram/torch/pkg/torch/lib/TH/THDiskFile.c:363\nstack traceback:\n\t[C]: in function 'read'\n\t/home/gram/torch/install/share/lua/5.1/torch/File.lua:351: in function </home/gram/torch/install/share/lua/5.1/torch/File.lua:245>\n\t[C]: in function 'read'\n\t/home/gram/torch/install/share/lua/5.1/torch/File.lua:351: in function 'readObject'\n\t[string \"file = torch.DiskFile('dat/facies_vectors.t7'...\"]:2: in main chunk\n\t[C]: in function 'xpcall'\n\t/home/gram/torch/install/share/lua/5.1/itorch/main.lua:210: in function </home/gram/torch/install/share/lua/5.1/itorch/main.lua:174>\n\t/home/gram/torch/install/share/lua/5.1/lzmq/poller.lua:75: in function 'poll'\n\t/home/gram/torch/install/share/lua/5.1/lzmq/impl/loop.lua:307: in function 'poll'\n\t/home/gram/torch/install/share/lua/5.1/lzmq/impl/loop.lua:325: in function 'sleep_ex'\n\t/home/gram/torch/install/share/lua/5.1/lzmq/impl/loop.lua:370: in function 'start'\n\t/home/gram/torch/install/share/lua/5.1/itorch/main.lua:389: in main chunk\n\t[C]: in function 'require'\n\t(command line):1: in main chunk\n\t[C]: at 0x00405d50",
     "evalue": "",
     "output_type": "error",
     "traceback": [
      "/home/gram/torch/install/share/lua/5.1/torch/File.lua:351: read error: read 36424 blocks instead of 37341 at /home/gram/torch/pkg/torch/lib/TH/THDiskFile.c:363\nstack traceback:\n\t[C]: in function 'read'\n\t/home/gram/torch/install/share/lua/5.1/torch/File.lua:351: in function </home/gram/torch/install/share/lua/5.1/torch/File.lua:245>\n\t[C]: in function 'read'\n\t/home/gram/torch/install/share/lua/5.1/torch/File.lua:351: in function 'readObject'\n\t[string \"file = torch.DiskFile('dat/facies_vectors.t7'...\"]:2: in main chunk\n\t[C]: in function 'xpcall'\n\t/home/gram/torch/install/share/lua/5.1/itorch/main.lua:210: in function </home/gram/torch/install/share/lua/5.1/itorch/main.lua:174>\n\t/home/gram/torch/install/share/lua/5.1/lzmq/poller.lua:75: in function 'poll'\n\t/home/gram/torch/install/share/lua/5.1/lzmq/impl/loop.lua:307: in function 'poll'\n\t/home/gram/torch/install/share/lua/5.1/lzmq/impl/loop.lua:325: in function 'sleep_ex'\n\t/home/gram/torch/install/share/lua/5.1/lzmq/impl/loop.lua:370: in function 'start'\n\t/home/gram/torch/install/share/lua/5.1/itorch/main.lua:389: in main chunk\n\t[C]: in function 'require'\n\t(command line):1: in main chunk\n\t[C]: at 0x00405d50"
     ]
    }
   ],
   "source": [
    "file = torch.DiskFile('dat/facies_vectors.t7', 'r')\n",
    "nofacies = file:readObject()\n",
    "file:close()\n",
    "--[[file = torch.DiskFile('dat/nofacies_data.t7', 'r')\n",
    "nofacies = file:readObject()\n",
    "file:close()\n",
    "file = torch.DiskFile('dat/training_data.t7', 'r')\n",
    "nofacies = file:readObject()\n",
    "file:close()\n",
    "file = torch.DiskFile('dat/validation_data_nofacies.t7', 'r')\n",
    "nofacies = file:readObject()\n",
    "file:close()\n",
    "file = torch.DiskFile('dat/well_data_with_facies.t7', 'r')\n",
    "nofacies = file:readObject()\n",
    "file:close()]]--"
   ]
  },
  {
   "cell_type": "code",
   "execution_count": 8,
   "metadata": {
    "collapsed": false
   },
   "outputs": [
    {
     "data": {
      "text/plain": [
       " 830\n",
       "   8\n",
       "[torch.LongStorage of size 2]\n",
       "\n"
      ]
     },
     "execution_count": 8,
     "metadata": {},
     "output_type": "execute_result"
    }
   ],
   "source": [
    "nofacies:size()"
   ]
  },
  {
   "cell_type": "code",
   "execution_count": 9,
   "metadata": {
    "collapsed": false
   },
   "outputs": [
    {
     "data": {
      "text/plain": [
       "2808\t\n"
      ]
     },
     "execution_count": 9,
     "metadata": {},
     "output_type": "execute_result"
    }
   ],
   "source": [
    "nofacies[1][1]"
   ]
  },
  {
   "cell_type": "code",
   "execution_count": null,
   "metadata": {
    "collapsed": true
   },
   "outputs": [],
   "source": []
  }
 ],
 "metadata": {
  "kernelspec": {
   "display_name": "iTorch",
   "language": "lua",
   "name": "itorch"
  },
  "language_info": {
   "name": "lua",
   "version": "5.1"
  }
 },
 "nbformat": 4,
 "nbformat_minor": 1
}
