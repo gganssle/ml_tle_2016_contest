{
 "cells": [
  {
   "cell_type": "code",
   "execution_count": 13,
   "metadata": {
    "collapsed": false
   },
   "outputs": [
    {
     "data": {
      "text/plain": [
       "starting training\t\n",
       "# StochasticGradient: training\t\n"
      ]
     },
     "execution_count": 13,
     "metadata": {},
     "output_type": "execute_result"
    },
    {
     "data": {
      "text/plain": [
       "# current error = 1.4284773336601\t\n"
      ]
     },
     "execution_count": 13,
     "metadata": {},
     "output_type": "execute_result"
    },
    {
     "data": {
      "text/plain": [
       "# current error = 1.3913725368295\t\n"
      ]
     },
     "execution_count": 13,
     "metadata": {},
     "output_type": "execute_result"
    },
    {
     "data": {
      "text/plain": [
       "# current error = 1.3777388260596\t\n"
      ]
     },
     "execution_count": 13,
     "metadata": {},
     "output_type": "execute_result"
    },
    {
     "data": {
      "text/plain": [
       "# current error = 1.3705836045289\t\n"
      ]
     },
     "execution_count": 13,
     "metadata": {},
     "output_type": "execute_result"
    },
    {
     "data": {
      "text/plain": [
       "# current error = 1.3629152866007\t\n"
      ]
     },
     "execution_count": 13,
     "metadata": {},
     "output_type": "execute_result"
    },
    {
     "data": {
      "text/plain": [
       "# current error = 1.3588016993087\t\n"
      ]
     },
     "execution_count": 13,
     "metadata": {},
     "output_type": "execute_result"
    },
    {
     "data": {
      "text/plain": [
       "# current error = 1.3557849356846\t\n"
      ]
     },
     "execution_count": 13,
     "metadata": {},
     "output_type": "execute_result"
    },
    {
     "data": {
      "text/plain": [
       "# current error = 1.3514740351991\t\n"
      ]
     },
     "execution_count": 13,
     "metadata": {},
     "output_type": "execute_result"
    },
    {
     "data": {
      "text/plain": [
       "# current error = 1.3494045682379\t\n"
      ]
     },
     "execution_count": 13,
     "metadata": {},
     "output_type": "execute_result"
    },
    {
     "data": {
      "text/plain": [
       "# current error = 1.347364597455\t\n"
      ]
     },
     "execution_count": 13,
     "metadata": {},
     "output_type": "execute_result"
    },
    {
     "data": {
      "text/plain": [
       "# current error = 1.3421732472172\t\n"
      ]
     },
     "execution_count": 13,
     "metadata": {},
     "output_type": "execute_result"
    },
    {
     "data": {
      "text/plain": [
       "# current error = 1.3453125140111\t\n"
      ]
     },
     "execution_count": 13,
     "metadata": {},
     "output_type": "execute_result"
    },
    {
     "data": {
      "text/plain": [
       "# current error = 1.3392168937499\t\n"
      ]
     },
     "execution_count": 13,
     "metadata": {},
     "output_type": "execute_result"
    },
    {
     "data": {
      "text/plain": [
       "# current error = 1.3359622328326\t\n"
      ]
     },
     "execution_count": 13,
     "metadata": {},
     "output_type": "execute_result"
    },
    {
     "data": {
      "text/plain": [
       "# current error = 1.3336686854013\t\n"
      ]
     },
     "execution_count": 13,
     "metadata": {},
     "output_type": "execute_result"
    },
    {
     "data": {
      "text/plain": [
       "# current error = 1.3345333401377\t\n"
      ]
     },
     "execution_count": 13,
     "metadata": {},
     "output_type": "execute_result"
    },
    {
     "data": {
      "text/plain": [
       "# current error = 1.3300224127793\t\n"
      ]
     },
     "execution_count": 13,
     "metadata": {},
     "output_type": "execute_result"
    },
    {
     "data": {
      "text/plain": [
       "# current error = 1.3345557901177\t\n"
      ]
     },
     "execution_count": 13,
     "metadata": {},
     "output_type": "execute_result"
    },
    {
     "data": {
      "text/plain": [
       "# current error = 1.3285169769124\t\n"
      ]
     },
     "execution_count": 13,
     "metadata": {},
     "output_type": "execute_result"
    },
    {
     "data": {
      "text/plain": [
       "# current error = 1.3315373813097\t\n",
       "# StochasticGradient: you have reached the maximum number of iterations\t\n",
       "# training error = 1.3315373813097\t\n",
       "training time =\t106.87450790405\t\n"
      ]
     },
     "execution_count": 13,
     "metadata": {},
     "output_type": "execute_result"
    },
    {
     "data": {
      "text/plain": [
       "\n",
       "correct: \t192\t41.4686825054 % \n",
       "\t\n"
      ]
     },
     "execution_count": 13,
     "metadata": {},
     "output_type": "execute_result"
    }
   ],
   "source": [
    "-- deps\n",
    "require 'nn'\n",
    "\n",
    "-- load data\n",
    "file = torch.DiskFile('dat/facies_vectors.t7', 'r')\n",
    "facies = file:readObject()\n",
    "file:close()\n",
    "file = torch.DiskFile('dat/validation_data_nofacies.t7', 'r')\n",
    "validate = file:readObject()\n",
    "file:close()\n",
    "\n",
    "-- build dicts\n",
    "--print(\"facies size: \", facies:size()[1], \"x\", facies:size()[2])\n",
    "--print(\"validate size: \", validate:size()[1], \"x\", validate:size()[2])\n",
    "\n",
    "\t-- initialize\n",
    "training_data = {}\n",
    "testing_data = {}\n",
    "depth = {}\n",
    "\n",
    "\t-- build the training wells into the table\n",
    "training_data[\"shrimplin\"] = facies[{{1,471},{3,9}}]\n",
    "training_data[\"alexander\"] = facies[{{472,937},{3,9}}]\n",
    "training_data[\"shankle\"] = facies[{{938,1386},{3,9}}]\n",
    "training_data[\"luke\"] = facies[{{1387,1847},{3,9}}]\n",
    "training_data[\"kimzey\"] = facies[{{1848,2286},{3,9}}]\n",
    "training_data[\"cross\"] = facies[{{2287,2787},{3,9}}]\n",
    "training_data[\"nolan\"] = facies[{{2788,3202},{3,9}}]\n",
    "training_data[\"recruit\"] = facies[{{3203,3282},{3,9}}]\n",
    "training_data[\"newby\"] = facies[{{3283,3745},{3,9}}]\n",
    "training_data[\"churchman\"] = facies[{{3746,4149},{3,9}}]\n",
    "\n",
    "\t-- build the testing wells into the table\n",
    "testing_data[\"stuart\"] = validate[{{1,474},{2,8}}]\n",
    "testing_data[\"crawford\"] = validate[{{475,830},{2,8}}]\n",
    "\n",
    "\t-- build a depth log for plotting\n",
    "depth[\"shrimplin\"] = facies[{{1,471},{2}}]\n",
    "depth[\"alexander\"] = facies[{{472,937},{2}}]\n",
    "depth[\"shankle\"] = facies[{{938,1386},{2}}]\n",
    "depth[\"luke\"] = facies[{{1387,1847},{2}}]\n",
    "depth[\"kimzey\"] = facies[{{1848,2286},{2}}]\n",
    "depth[\"cross\"] = facies[{{2287,2787},{2}}]\n",
    "depth[\"nolan\"] = facies[{{2788,3202},{2}}]\n",
    "depth[\"recruit\"] = facies[{{3203,3282},{2}}]\n",
    "depth[\"newby\"] = facies[{{3283,3745},{2}}]\n",
    "depth[\"churchman\"] = facies[{{3746,4149},{2}}]\n",
    "depth[\"stuart\"] = validate[{{1,474},{1}}]\n",
    "depth[\"crawford\"] = validate[{{475,830},{1}}]\n",
    "\n",
    "-- normalize the data\n",
    "\t-- training data\n",
    "mean = {}\n",
    "stdv = {}\n",
    "\n",
    "for key,value in pairs(training_data) do --over each well\n",
    "    mean[key] = torch.Tensor(7)\n",
    "    stdv[key] = torch.Tensor(7)\n",
    "    for i = 1, 7 do --over each log\n",
    "        mean[key][i] = training_data[key][{{},{i}}]:mean()\n",
    "        training_data[key][{{},{i}}]:add(-mean[key][i])\n",
    "        \n",
    "        stdv[key][i] = training_data[key][{{},{i}}]:std()\n",
    "        training_data[key][{{},{i}}]:div(stdv[key][i])\n",
    "    end\n",
    "end\n",
    "\t-- validation data\n",
    "mean = {}\n",
    "stdv = {}\n",
    "\n",
    "for key,value in pairs(testing_data) do --over each well\n",
    "    mean[key] = torch.Tensor(7)\n",
    "    stdv[key] = torch.Tensor(7)\n",
    "    for i = 1, 7 do --over each log\n",
    "        mean[key][i] = testing_data[key][{{},{i}}]:mean()\n",
    "        testing_data[key][{{},{i}}]:add(-mean[key][i])\n",
    "        \n",
    "        stdv[key][i] = testing_data[key][{{},{i}}]:std()\n",
    "        testing_data[key][{{},{i}}]:div(stdv[key][i])\n",
    "    end\n",
    "end\n",
    "\n",
    "-- facies labels for training\n",
    "facies_labels = {}\n",
    "\n",
    "facies_labels[\"shrimplin\"] = facies[{{1,471},{1}}]\n",
    "facies_labels[\"alexander\"] = facies[{{472,937},{1}}]\n",
    "facies_labels[\"shankle\"] = facies[{{938,1386},{1}}]\n",
    "facies_labels[\"luke\"] = facies[{{1387,1847},{1}}]\n",
    "facies_labels[\"kimzey\"] = facies[{{1848,2286},{1}}]\n",
    "facies_labels[\"cross\"] = facies[{{2287,2787},{1}}]\n",
    "facies_labels[\"nolan\"] = facies[{{2788,3202},{1}}]\n",
    "facies_labels[\"recruit\"] = facies[{{3203,3282},{1}}]\n",
    "facies_labels[\"newby\"] = facies[{{3283,3745},{1}}]\n",
    "facies_labels[\"churchman\"] = facies[{{3746,4149},{1}}]\n",
    "\n",
    "-- chop out blind well\n",
    "blind_well = {}\n",
    "blind_labels = {}\n",
    "\n",
    "blind_well[\"newby\"] = training_data[\"newby\"][{{},{}}]\n",
    "\n",
    "training_data[\"newby\"] = nil\n",
    "\n",
    "blind_labels[\"newby\"] = facies_labels[\"newby\"][{{},{}}]\n",
    "\n",
    "facies_labels[\"newby\"] = nil\n",
    "\n",
    "-- build the neural net ----------------------------------------\n",
    "net = nn.Sequential()\n",
    "net:add(nn.Linear(7,20000))\n",
    "net:add(nn.Tanh())\n",
    "net:add(nn.Linear(20000,9))\n",
    "net:add(nn.Tanh())\n",
    "net:add(nn.LogSoftMax())\n",
    "----------------------------------------------------------------\n",
    "\n",
    "-- test the net -> forward\n",
    "temp = torch.Tensor(7)\n",
    "for i = 1,7 do\n",
    "    temp[i] = training_data[\"shrimplin\"][1][i]\n",
    "end\n",
    "input = temp\n",
    "\n",
    "output = net:forward(input)\n",
    "\n",
    "-- calibrate gradient parameters\n",
    "net:zeroGradParameters()\n",
    "\n",
    "gradInput = net:backward(input, torch.rand(9))\n",
    "\n",
    "-- define the loss function\n",
    "criterion = nn.ClassNLLCriterion()\n",
    "\n",
    "criterion:forward(output,facies_labels[\"shrimplin\"][1])\n",
    "\n",
    "gradients = criterion:backward(output, facies_labels[\"shrimplin\"][1])\n",
    "\n",
    "gradInput = net:backward(input, gradients)\n",
    "\n",
    "-- condition the data\n",
    "trainset = {}\n",
    "\n",
    "\t-- the data\n",
    "trainset[\"data\"] = torch.Tensor(facies:size()[1]-blind_well[\"newby\"]:size()[1],7) \n",
    "\n",
    "idx = 0\n",
    "for key,value in pairs(training_data) do\n",
    "    for i = 1,training_data[key]:size()[1] do\n",
    "        trainset[\"data\"][i + idx] = training_data[key][i]\n",
    "    end\n",
    "    idx = idx + training_data[key]:size()[1]\n",
    "end\n",
    "\n",
    "\t-- the answers\n",
    "trainset[\"facies\"] = torch.Tensor(facies:size()[1]-blind_labels[\"newby\"]:size()[1])\n",
    "\n",
    "idx = 0\n",
    "for key,value in pairs(facies_labels) do\n",
    "    for i = 1, facies_labels[key]:size()[1] do\n",
    "        trainset[\"facies\"][i + idx] = facies_labels[key][i]\n",
    "    end\n",
    "    idx = idx + facies_labels[key]:size()[1]\n",
    "end\n",
    "\n",
    "\n",
    "-- write index() and size() functions\n",
    "setmetatable(trainset, \n",
    "    {__index = function(t, i) \n",
    "                    return {t.data[i], t.facies[i]} \n",
    "                end}\n",
    ");\n",
    "\n",
    "function trainset:size() \n",
    "    return self.data:size(1) \n",
    "end\n",
    "\n",
    "-- eliminate NaNs\n",
    "nan_mask = trainset.data:ne(trainset.data)\n",
    "trainset.data[nan_mask] = 0\n",
    "\n",
    "-- train the net\n",
    "trainer = nn.StochasticGradient(net, criterion)\n",
    "trainer.learningRate = .001\n",
    "trainer.maxIteration = 20\n",
    "\n",
    "print(\"starting training\")\n",
    "timer = torch.Timer()\n",
    "trainer:train(trainset)\n",
    "print(\"training time =\", timer:time().real)\n",
    "\n",
    "-- predict using the net\n",
    "\t-- condition the testing data\n",
    "testset = {}\n",
    "\n",
    "\t-- the data\n",
    "testset[\"data\"] = torch.Tensor(blind_well[\"newby\"]:size()[1],7) \n",
    "\n",
    "for i = 1,blind_well[\"newby\"]:size()[1] do\n",
    "    testset[\"data\"][i] = blind_well[\"newby\"][i]\n",
    "end\n",
    "\n",
    "\t-- the answers\n",
    "testset[\"facies\"] = torch.Tensor(blind_labels[\"newby\"]:size()[1])\n",
    "\n",
    "for i = 1, blind_labels[\"newby\"]:size()[1] do\n",
    "    testset[\"facies\"][i] = blind_labels[\"newby\"][i]\n",
    "end\n",
    "\n",
    "setmetatable(testset, \n",
    "    {__index = function(t, i) \n",
    "                    return {t.data[i], t.facies[i]} \n",
    "                end}\n",
    ");\n",
    "\n",
    "function testset:size() \n",
    "    return self.data:size(1) \n",
    "end\n",
    "\n",
    "-- calculate the accuracy\n",
    "correct = 0\n",
    "for i=1,testset:size() do\n",
    "    local groundtruth = testset.facies[i]\n",
    "    local prediction = net:forward(testset.data[i])\n",
    "    local confidences, indices = torch.sort(prediction, true)\n",
    "    if groundtruth == indices[1] then\n",
    "        correct = correct + 1\n",
    "    end\n",
    "end\n",
    "print(\"\\ncorrect: \", correct, 100*correct/testset:size() .. ' % \\n')\n"
   ]
  },
  {
   "cell_type": "code",
   "execution_count": 20,
   "metadata": {
    "collapsed": false
   },
   "outputs": [
    {
     "data": {
      "text/plain": [
       "SS\tnan %\t\n",
       "CSiS\t63 %\t\n",
       "FSiS\t53 %\t\n",
       "SiSh\t78 %\t\n",
       "MS\t7 %\t\n",
       "WS\t25 %\t\n",
       "D\t69 %\t\n",
       "PS\t75 %\t\n",
       "BS\t0 %\t\n"
      ]
     },
     "execution_count": 20,
     "metadata": {},
     "output_type": "execute_result"
    }
   ],
   "source": [
    "counts = {0,0,0,0,0,0,0,0,0}\n",
    "for i = 1,testset.facies:size()[1] do\n",
    "    temp = testset.facies[i]\n",
    "    counts[temp] = counts[temp] + 1\n",
    "end\n",
    "--print(counts)\n",
    "\n",
    "for i = 1, #classes do\n",
    "    print(classes[i], torch.round(100 * class_performance[i] / counts[i]) .. ' %')\n",
    "end"
   ]
  },
  {
   "cell_type": "code",
   "execution_count": null,
   "metadata": {
    "collapsed": true
   },
   "outputs": [],
   "source": []
  }
 ],
 "metadata": {
  "kernelspec": {
   "display_name": "iTorch",
   "language": "lua",
   "name": "itorch"
  },
  "language_info": {
   "name": "lua",
   "version": "5.1"
  }
 },
 "nbformat": 4,
 "nbformat_minor": 1
}
