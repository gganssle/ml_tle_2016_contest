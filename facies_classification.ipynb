{
 "cells": [
  {
   "cell_type": "code",
   "execution_count": 1,
   "metadata": {
    "collapsed": true
   },
   "outputs": [],
   "source": [
    "Plot = require 'itorch.Plot'\n",
    "require 'nn'"
   ]
  },
  {
   "cell_type": "markdown",
   "metadata": {},
   "source": [
    "# Load the data\n",
    "We first load the weird t7 converted files containing the data. The conversion step is in the <a href=\"data_loading.ipynb\">data loading notebook</a>."
   ]
  },
  {
   "cell_type": "code",
   "execution_count": 2,
   "metadata": {
    "collapsed": true
   },
   "outputs": [],
   "source": [
    "file = torch.DiskFile('dat/facies_vectors.t7', 'r')\n",
    "facies = file:readObject()\n",
    "file:close()\n",
    "file = torch.DiskFile('dat/validation_data_nofacies.t7', 'r')\n",
    "validate = file:readObject()\n",
    "file:close()"
   ]
  },
  {
   "cell_type": "markdown",
   "metadata": {
    "collapsed": true
   },
   "source": [
    "# Clean the data\n",
    "### Extract the useful feature vectors\n",
    "Let's pick out the well logs and the \"geologic constraining variables\" by simply dropping the facies and the depth data."
   ]
  },
  {
   "cell_type": "code",
   "execution_count": 3,
   "metadata": {
    "collapsed": false
   },
   "outputs": [
    {
     "data": {
      "text/plain": [
       "facies size: \t4149\tx\t9\t\n",
       "validate size: \t830\tx\t8\t\n"
      ]
     },
     "execution_count": 3,
     "metadata": {},
     "output_type": "execute_result"
    }
   ],
   "source": [
    "print(\"facies size: \", facies:size()[1], \"x\", facies:size()[2])\n",
    "print(\"validate size: \", validate:size()[1], \"x\", validate:size()[2])"
   ]
  },
  {
   "cell_type": "markdown",
   "metadata": {},
   "source": [
    "I've decided to map the wells into a third dimension of a tensor, so that the dims will go as 1=log, 2=depth, 3=well. I'm doing this as a table since the well lengths are variable."
   ]
  },
  {
   "cell_type": "code",
   "execution_count": 4,
   "metadata": {
    "collapsed": false
   },
   "outputs": [
    {
     "data": {
      "text/plain": [
       "{\n",
       "  nolan : DoubleTensor - size: 415x7\n",
       "  luke : DoubleTensor - size: 461x7\n",
       "  shrimplin : DoubleTensor - size: 471x7\n",
       "  kimzey : DoubleTensor - size: 439x7\n",
       "  cross : DoubleTensor - size: 501x7\n",
       "  newby : DoubleTensor - size: 463x7\n",
       "  churchman : DoubleTensor - size: 404x7\n",
       "  shankle : DoubleTensor - size: 449x7\n",
       "  alexander : DoubleTensor - size: 466x7\n",
       "  recruit : DoubleTensor - size: 80x7\n",
       "}\n",
       "{\n",
       "  stuart : DoubleTensor - size: 474x7\n",
       "  crawford : DoubleTensor - size: 356x7\n",
       "}\n",
       "{\n",
       "  nolan : DoubleTensor - size: 415x1\n",
       "  shankle : DoubleTensor - size: 449x1\n",
       "  luke : DoubleTensor - size: 461x1\n",
       "  stuart : DoubleTensor - size: 474x1\n",
       "  shrimplin : DoubleTensor - size: 471x1\n",
       "  kimzey : DoubleTensor - size: 439x1\n",
       "  cross : DoubleTensor - size: 501x1\n",
       "  newby : DoubleTensor - size: 463x1\n",
       "  churchman : DoubleTensor - size: 404x1\n",
       "  crawford : DoubleTensor - size: 356x1\n",
       "  alexander : DoubleTensor - size: 466x1\n",
       "  recruit : DoubleTensor - size: 80x1\n",
       "}\n"
      ]
     },
     "execution_count": 4,
     "metadata": {},
     "output_type": "execute_result"
    }
   ],
   "source": [
    "-- initialize\n",
    "training_data = {}\n",
    "testing_data = {}\n",
    "depth = {}\n",
    "\n",
    "-- build the training wells into the table\n",
    "training_data[\"shrimplin\"] = facies[{{1,471},{3,9}}]\n",
    "training_data[\"alexander\"] = facies[{{472,937},{3,9}}]\n",
    "training_data[\"shankle\"] = facies[{{938,1386},{3,9}}]\n",
    "training_data[\"luke\"] = facies[{{1387,1847},{3,9}}]\n",
    "training_data[\"kimzey\"] = facies[{{1848,2286},{3,9}}]\n",
    "training_data[\"cross\"] = facies[{{2287,2787},{3,9}}]\n",
    "training_data[\"nolan\"] = facies[{{2788,3202},{3,9}}]\n",
    "training_data[\"recruit\"] = facies[{{3203,3282},{3,9}}]\n",
    "training_data[\"newby\"] = facies[{{3283,3745},{3,9}}]\n",
    "training_data[\"churchman\"] = facies[{{3746,4149},{3,9}}]\n",
    "\n",
    "-- build the testing wells into the table\n",
    "testing_data[\"stuart\"] = validate[{{1,474},{2,8}}]\n",
    "testing_data[\"crawford\"] = validate[{{475,830},{2,8}}]\n",
    "\n",
    "-- build a depth log for plotting\n",
    "depth[\"shrimplin\"] = facies[{{1,471},{2}}]\n",
    "depth[\"alexander\"] = facies[{{472,937},{2}}]\n",
    "depth[\"shankle\"] = facies[{{938,1386},{2}}]\n",
    "depth[\"luke\"] = facies[{{1387,1847},{2}}]\n",
    "depth[\"kimzey\"] = facies[{{1848,2286},{2}}]\n",
    "depth[\"cross\"] = facies[{{2287,2787},{2}}]\n",
    "depth[\"nolan\"] = facies[{{2788,3202},{2}}]\n",
    "depth[\"recruit\"] = facies[{{3203,3282},{2}}]\n",
    "depth[\"newby\"] = facies[{{3283,3745},{2}}]\n",
    "depth[\"churchman\"] = facies[{{3746,4149},{2}}]\n",
    "depth[\"stuart\"] = validate[{{1,474},{1}}]\n",
    "depth[\"crawford\"] = validate[{{475,830},{1}}]\n",
    "\n",
    "-- QC\n",
    "print(training_data)\n",
    "print(testing_data)\n",
    "print(depth)"
   ]
  },
  {
   "cell_type": "markdown",
   "metadata": {},
   "source": [
    "### Normalize the data\n",
    "As per the literature and Brandon's suggestion, we now normalize the data to have zero mean and unit variance."
   ]
  },
  {
   "cell_type": "code",
   "execution_count": 5,
   "metadata": {
    "collapsed": false
   },
   "outputs": [
    {
     "data": {
      "text/plain": [
       "Well: \tnolan\t\n"
      ]
     },
     "execution_count": 5,
     "metadata": {},
     "output_type": "execute_result"
    },
    {
     "data": {
      "text/plain": [
       "Log 1, Mean: 68.693939759036\t\n",
       "Log 1, Standard Deviation: 32.730215642043\t\n",
       "Log 2, Mean: 0.5924\t\n",
       "Log 2, Standard Deviation: 0.20888527235023\t\n",
       "Log 3, Mean: 3.1340698795181\t\n",
       "Log 3, Standard Deviation: 2.4304927280085\t\n",
       "Log 4, Mean: 12.197361445783\t\n",
       "Log 4, Standard Deviation: 4.8411695655865\t\n",
       "Log 5, Mean: 3.8579469879518\t\n",
       "Log 5, Standard Deviation: 0.87767775335189\t\n",
       "Log 6, Mean: 1.5277108433735\t\n",
       "Log 6, Standard Deviation: 0.49983409155943\t\n"
      ]
     },
     "execution_count": 5,
     "metadata": {},
     "output_type": "execute_result"
    },
    {
     "data": {
      "text/plain": [
       "Log 7, Mean: 0.54900722891566\t\n",
       "Log 7, Standard Deviation: 0.28556345258955\t\n",
       "\n",
       "\t\n",
       "Well: \tluke\t\n",
       "Log 1, Mean: 64.777223427332\t\n",
       "Log 1, Standard Deviation: 27.427174260686\t\n",
       "Log 2, Mean: 0.63968980477223\t\n",
       "Log 2, Standard Deviation: 0.22662107159636\t\n",
       "Log 3, Mean: 4.2184381778742\t\n",
       "Log 3, Standard Deviation: 4.8162210685864\t\n",
       "Log 4, Mean: 12.953904555315\t\n",
       "Log 4, Standard Deviation: 6.3295181442742\t\n",
       "Log 5, Mean: 3.660704989154\t\n",
       "Log 5, Standard Deviation: 0.72724200247972\t\n",
       "Log 6, Mean: 1.4663774403471\t\n",
       "Log 6, Standard Deviation: 0.49941019631722\t\n",
       "Log 7, Mean: 0.51409544468547\t\n",
       "Log 7, Standard Deviation: 0.28690198220341\t\n",
       "\n",
       "\t\n",
       "Well: \tshrimplin\t\n",
       "Log 1, Mean: 69.40889596603\t\n",
       "Log 1, Standard Deviation: 37.299535899968\t\n",
       "Log 2, Mean: 0.65967940552017\t\n",
       "Log 2, Standard Deviation: 0.23289356801289\t\n",
       "Log 3, Mean: 7.7084925690021\t\n",
       "Log 3, Standard Deviation: 4.2794526468766\t\n",
       "Log 4, Mean: 12.173704883227\t\n",
       "Log 4, Standard Deviation: 5.3171523453616\t\n",
       "Log 5, Mean: 4.219957537155\t\n",
       "Log 5, Standard Deviation: 0.90282346611008\t\n",
       "Log 6, Mean: 1.4883227176221\t\n",
       "Log 6, Standard Deviation: 0.50039510973281\t\n",
       "Log 7, Mean: 0.51448195329087\t\n",
       "Log 7, Standard Deviation: 0.28975729240765\t\n",
       "\n",
       "\t\n",
       "Well: \tkimzey\t\n",
       "Log 1, Mean: 53.334339407745\t\n",
       "Log 1, Standard Deviation: 24.761446385212\t\n",
       "Log 2, Mean: 0.8405284738041\t\n",
       "Log 2, Standard Deviation: 0.30068025384945\t\n",
       "Log 3, Mean: 8.5153804100228\t\n",
       "Log 3, Standard Deviation: 4.2279673537054\t\n",
       "Log 4, Mean: 11.490460136674\t\n",
       "Log 4, Standard Deviation: 4.689487908596\t\n",
       "Log 5, Mean: 99999\t\n",
       "Log 5, Standard Deviation: 0\t\n",
       "Log 6, Mean: 1.6150341685649\t\n",
       "Log 6, Standard Deviation: 0.48714238607341\t\n",
       "Log 7, Mean: 0.53945330296128\t\n",
       "Log 7, Standard Deviation: 0.28410525572469\t\n",
       "\n",
       "\t\n",
       "Well: \tcross\t\n",
       "Log 1, Mean: 72.699285429142\t\n",
       "Log 1, Standard Deviation: 21.062929262768\t\n",
       "Log 2, Mean: 0.56882884838323\t\n",
       "Log 2, Standard Deviation: 0.28967861069263\t\n",
       "Log 3, Mean: 2.4666666666667\t\n",
       "Log 3, Standard Deviation: 6.536863672027\t\n",
       "Log 4, Mean: 15.574850299401\t\n",
       "Log 4, Standard Deviation: 9.6794269576016\t\n",
       "Log 5, Mean: 3.3258522954092\t\n",
       "Log 5, Standard Deviation: 0.67679195188752\t\n",
       "Log 6, Mean: 1.2974051896208\t\n",
       "Log 6, Standard Deviation: 0.4575732220017\t\n",
       "Log 7, Mean: 0.50618163672655\t\n",
       "Log 7, Standard Deviation: 0.2892806266277\t\n",
       "\n",
       "\t\n",
       "Well: \tnewby\t\n",
       "Log 1, Mean: 60.733045356371\t\n",
       "Log 1, Standard Deviation: 33.620632052063\t\n",
       "Log 2, Mean: 0.6748120950324\t\n",
       "Log 2, Standard Deviation: 0.17501719552048\t\n",
       "Log 3, Mean: 3.477969762419\t\n",
       "Log 3, Standard Deviation: 4.9763151781545\t\n",
       "Log 4, Mean: 11.625377969762\t\n",
       "Log 4, Standard Deviation: 5.1300372370773\t\n",
       "Log 5, Mean: 3.7717062634989\t\n",
       "Log 5, Standard Deviation: 0.52500124108663\t\n",
       "Log 6, Mean: 1.6155507559395\t\n"
      ]
     },
     "execution_count": 5,
     "metadata": {},
     "output_type": "execute_result"
    },
    {
     "data": {
      "text/plain": [
       "Log 6, Standard Deviation: 0.48699101424912\t\n",
       "Log 7, Mean: 0.52813822894168\t\n",
       "Log 7, Standard Deviation: 0.28509597819355\t\n",
       "\n",
       "\t\n",
       "Well: \tchurchman\t\n",
       "Log 1, Mean: 63.683452970297\t\n",
       "Log 1, Standard Deviation: 33.333991721881\t\n",
       "Log 2, Mean: 0.75875742574257\t\n",
       "Log 2, Standard Deviation: 0.24136665388419\t\n",
       "Log 3, Mean: 1.56\t\n",
       "Log 3, Standard Deviation: 3.6546989040692\t\n",
       "Log 4, Mean: 14.011116336634\t\n",
       "Log 4, Standard Deviation: 10.579451257837\t\n",
       "Log 5, Mean: 3.7899257425743\t\n",
       "Log 5, Standard Deviation: 1.0927138953098\t\n",
       "Log 6, Mean: 1.7227722772277\t\n",
       "Log 6, Standard Deviation: 0.44818491135137\t\n",
       "Log 7, Mean: 0.54431683168317\t\n",
       "Log 7, Standard Deviation: 0.29364704867391\t\n",
       "\n",
       "\t\n",
       "Well: \tshankle\t\n",
       "Log 1, Mean: 65.431180400891\t\n",
       "Log 1, Standard Deviation: 25.69641831952\t\n",
       "Log 2, Mean: 0.63083073496659\t\n",
       "Log 2, Standard Deviation: 0.24129325637305\t\n",
       "Log 3, Mean: 2.3489977728285\t\n",
       "Log 3, Standard Deviation: 6.1135428647692\t\n",
       "Log 4, Mean: 15.741124721604\t\n",
       "Log 4, Standard Deviation: 9.0804665940009\t\n",
       "Log 5, Mean: 3.2249443207127\t\n",
       "Log 5, Standard Deviation: 0.73241379247714\t\n",
       "Log 6, Mean: 1.3407572383073\t\n",
       "Log 6, Standard Deviation: 0.4744925450523\t\n",
       "Log 7, Mean: 0.50311804008909\t\n",
       "Log 7, Standard Deviation: 0.28208152769648\t\n",
       "\n",
       "\t\n",
       "Well: \talexander\t\n",
       "Log 1, Mean: 68.280236051502\t\n",
       "Log 1, Standard Deviation: 28.635640289382\t\n",
       "Log 2, Mean: 0.60266094420601\t\n",
       "Log 2, Standard Deviation: 0.19319937013847\t\n",
       "Log 3, Mean: 6.3178111587983\t\n",
       "Log 3, Standard Deviation: 4.029568713383\t\n",
       "Log 4, Mean: 12.93910944206\t\n",
       "Log 4, Standard Deviation: 4.1807884103459\t\n",
       "Log 5, Mean: 99999\t\n",
       "Log 5, Standard Deviation: 0\t\n",
       "Log 6, Mean: 1.5536480686695\t\n",
       "Log 6, Standard Deviation: 0.49764779678144\t\n",
       "Log 7, Mean: 0.51558369098712\t\n",
       "Log 7, Standard Deviation: 0.28904042667\t\n",
       "\n",
       "\t\n",
       "Well: \trecruit\t\n",
       "Log 1, Mean: 43.3550625\t\n",
       "Log 1, Standard Deviation: 30.181913663458\t\n",
       "Log 2, Mean: 0.60065\t\n",
       "Log 2, Standard Deviation: 0.32385381527919\t\n",
       "Log 3, Mean: 2.205925\t\n",
       "Log 3, Standard Deviation: 2.7526427107487\t\n",
       "Log 4, Mean: 12.70010625\t\n",
       "Log 4, Standard Deviation: 4.2035419744512\t\n",
       "Log 5, Mean: 15004.491625\t\n",
       "Log 5, Standard Deviation: 35930.104540863\t\n",
       "Log 6, Mean: 2\t\n",
       "Log 6, Standard Deviation: 0\t\n",
       "Log 7, Mean: 0.462425\t\n",
       "Log 7, Standard Deviation: 0.23717924509492\t\n",
       "\n",
       "\t\n"
      ]
     },
     "execution_count": 5,
     "metadata": {},
     "output_type": "execute_result"
    }
   ],
   "source": [
    "mean = {}\n",
    "stdv = {}\n",
    "\n",
    "for key,value in pairs(training_data) do --over each well\n",
    "    mean[key] = torch.Tensor(7)\n",
    "    stdv[key] = torch.Tensor(7)\n",
    "    print('Well: ', key)\n",
    "    for i = 1, 7 do --over each log\n",
    "        mean[key][i] = training_data[key][{{},{i}}]:mean()\n",
    "        print('Log ' .. i .. ', Mean: ' .. mean[key][i])\n",
    "        training_data[key][{{},{i}}]:add(-mean[key][i])\n",
    "        \n",
    "        stdv[key][i] = training_data[key][{{},{i}}]:std()\n",
    "        print('Log ' .. i .. ', Standard Deviation: ' .. stdv[key][i])\n",
    "        training_data[key][{{},{i}}]:div(stdv[key][i])\n",
    "    end\n",
    "    print(\"\\n\")\n",
    "end"
   ]
  },
  {
   "cell_type": "markdown",
   "metadata": {},
   "source": [
    "Here's the same jazz for the validation data"
   ]
  },
  {
   "cell_type": "code",
   "execution_count": 6,
   "metadata": {
    "collapsed": false
   },
   "outputs": [
    {
     "data": {
      "text/plain": [
       "Well: \tstuart\t\n",
       "Log 1, Mean: 56.819900843882\t\n",
       "Log 1, Standard Deviation: 28.600303331762\t\n",
       "Log 2, Mean: 0.71246624472574\t\n",
       "Log 2, Standard Deviation: 0.21809118076801\t\n",
       "Log 3, Mean: 3.2905063291139\t\n",
       "Log 3, Standard Deviation: 4.0506328371708\t\n",
       "Log 4, Mean: 11.373945147679\t\n",
       "Log 4, Standard Deviation: 4.8097374633476\t\n",
       "Log 5, Mean: 3.7441476793249\t\n",
       "Log 5, Standard Deviation: 0.58620027327333\t\n",
       "Log 6, Mean: 1.6308016877637\t\n",
       "Log 6, Standard Deviation: 0.48309759705951\t\n",
       "Log 7, Mean: 0.543\t\n",
       "Log 7, Standard Deviation: 0.27979586336928\t\n",
       "\n",
       "\t\n",
       "Well: \tcrawford\t\n",
       "Log 1, Mean: 58.666019662921\t\n",
       "Log 1, Standard Deviation: 26.033590787314\t\n",
       "Log 2, Mean: 0.6048595505618\t\n",
       "Log 2, Standard Deviation: 0.3523933340864\t\n",
       "Log 3, Mean: 2.2680617977528\t\n",
       "Log 3, Standard Deviation: 2.2819218565829\t\n",
       "Log 4, Mean: 12.029859550562\t\n",
       "Log 4, Standard Deviation: 5.6424975847849\t\n",
       "Log 5, Mean: 3.5343876404494\t\n",
       "Log 5, Standard Deviation: 0.70918906775178\t\n",
       "Log 6, Mean: 1.7415730337079\t\n",
       "Log 6, Standard Deviation: 0.43838602546969\t\n",
       "Log 7, Mean: 0.52623033707865\t\n",
       "Log 7, Standard Deviation: 0.28746797059729\t\n",
       "\n",
       "\t\n"
      ]
     },
     "execution_count": 6,
     "metadata": {},
     "output_type": "execute_result"
    }
   ],
   "source": [
    "mean = {}\n",
    "stdv = {}\n",
    "\n",
    "for key,value in pairs(testing_data) do --over each well\n",
    "    mean[key] = torch.Tensor(7)\n",
    "    stdv[key] = torch.Tensor(7)\n",
    "    print('Well: ', key)\n",
    "    for i = 1, 7 do --over each log\n",
    "        mean[key][i] = testing_data[key][{{},{i}}]:mean()\n",
    "        print('Log ' .. i .. ', Mean: ' .. mean[key][i])\n",
    "        testing_data[key][{{},{i}}]:add(-mean[key][i])\n",
    "        \n",
    "        stdv[key][i] = testing_data[key][{{},{i}}]:std()\n",
    "        print('Log ' .. i .. ', Standard Deviation: ' .. stdv[key][i])\n",
    "        testing_data[key][{{},{i}}]:div(stdv[key][i])\n",
    "    end\n",
    "    print(\"\\n\")\n",
    "end"
   ]
  },
  {
   "cell_type": "markdown",
   "metadata": {},
   "source": [
    "### See what we've done"
   ]
  },
  {
   "cell_type": "code",
   "execution_count": 7,
   "metadata": {
    "collapsed": false
   },
   "outputs": [
    {
     "data": {
      "text/html": [
       "<script type=\"text/javascript\">\n",
       "$(function() {\n",
       "    if (typeof (window._bokeh_onload_callbacks) === \"undefined\"){\n",
       "  window._bokeh_onload_callbacks = [];\n",
       "    }\n",
       "    function load_lib(url, callback){\n",
       "  window._bokeh_onload_callbacks.push(callback);\n",
       "  if (window._bokeh_is_loading){\n",
       "      console.log(\"Bokeh: BokehJS is being loaded, scheduling callback at\", new Date());\n",
       "      return null;\n",
       "  }\n",
       "  console.log(\"Bokeh: BokehJS not loaded, scheduling load and callback at\", new Date());\n",
       "  window._bokeh_is_loading = true;\n",
       "  var s = document.createElement('script');\n",
       "  s.src = url;\n",
       "  s.async = true;\n",
       "  s.onreadystatechange = s.onload = function(){\n",
       "      Bokeh.embed.inject_css(\"https://cdn.pydata.org/bokeh-0.7.0.min.css\");\n",
       "      window._bokeh_onload_callbacks.forEach(function(callback){callback()});\n",
       "  };\n",
       "  s.onerror = function(){\n",
       "      console.warn(\"failed to load library \" + url);\n",
       "  };\n",
       "  document.getElementsByTagName(\"head\")[0].appendChild(s);\n",
       "    }\n",
       "\n",
       "    bokehjs_url = \"https://cdn.pydata.org/bokeh-0.7.0.min.js\"\n",
       "\n",
       "    var elt = document.getElementById(\"c1b533d8-3c18-4cdd-cc47-403647fe1018\");\n",
       "    if(elt==null) {\n",
       "  console.log(\"Bokeh: ERROR: autoload.js configured with elementid 'c1b533d8-3c18-4cdd-cc47-403647fe1018'\"\n",
       "        + \"but no matching script tag was found. \")\n",
       "  return false;\n",
       "    }\n",
       "\n",
       "    if(typeof(Bokeh) !== \"undefined\") {\n",
       "  console.log(\"Bokeh: BokehJS loaded, going straight to plotting\");\n",
       "  var modelid = \"8065d0d8-e099-4afe-ca1c-cd2fa32b7fc2\";\n",
       "  var modeltype = \"Plot\";\n",
       "  var all_models = [{\"id\":\"b8bff12f-b404-43d6-c3ca-4404aedee39e\",\"type\":\"ColumnDataSource\",\"attributes\":{\"data\":{\"y\":[2793,2793.5,2794,2794.5,2795,2795.5,2796,2796.5,2797,2797.5,2798,2798.5,2799,2799.5,2800,2800.5,2801,2801.5,2802,2802.5,2803,2803.5,2804,2804.5,2805,2805.5,2806,2806.5,2807,2807.5,2808,2808.5,2809,2809.5,2810,2810.5,2811,2811.5,2812,2812.5,2813,2813.5,2814,2814.5,2815,2815.5,2816,2816.5,2817,2817.5,2818,2818.5,2819,2819.5,2820,2820.5,2821,2821.5,2822,2822.5,2823,2823.5,2824,2824.5,2825,2825.5,2826,2826.5,2827,2827.5,2828,2828.5,2829,2829.5,2830,2830.5,2831,2831.5,2832,2832.5,2833,2833.5,2834,2834.5,2835,2835.5,2836,2836.5,2837,2837.5,2838,2838.5,2839,2839.5,2840,2840.5,2841,2841.5,2842,2842.5,2843,2843.5,2844,2844.5,2845,2845.5,2846,2846.5,2847,2847.5,2848,2848.5,2849,2849.5,2850,2850.5,2851,2851.5,2852,2852.5,2853,2853.5,2854,2854.5,2855,2855.5,2856,2856.5,2857,2857.5,2858,2858.5,2859,2859.5,2860,2860.5,2861,2861.5,2862,2862.5,2863,2863.5,2864,2864.5,2865,2865.5,2866,2866.5,2867,2867.5,2868,2868.5,2869,2869.5,2870,2870.5,2871,2871.5,2872,2872.5,2873,2873.5,2874,2874.5,2875,2875.5,2876,2876.5,2877,2877.5,2878,2878.5,2879,2879.5,2880,2880.5,2881,2881.5,2882,2882.5,2883,2883.5,2884,2884.5,2885,2885.5,2886,2886.5,2887,2887.5,2888,2888.5,2889,2889.5,2890,2890.5,2891,2891.5,2892,2892.5,2893,2893.5,2894,2894.5,2895,2895.5,2896,2896.5,2897,2897.5,2898,2898.5,2899,2899.5,2900,2900.5,2901,2901.5,2902,2902.5,2903,2903.5,2904,2904.5,2905,2905.5,2906,2906.5,2907,2907.5,2908,2908.5,2909,2909.5,2910,2910.5,2911,2911.5,2912,2912.5,2913,2913.5,2914,2914.5,2915,2915.5,2916,2916.5,2917,2917.5,2918,2918.5,2919,2919.5,2920,2920.5,2921,2921.5,2922,2922.5,2923,2923.5,2924,2924.5,2925,2925.5,2926,2926.5,2927,2927.5,2928,2928.5,2929,2929.5,2930,2930.5,2931,2931.5,2932,2932.5,2933,2933.5,2934,2934.5,2935,2935.5,2936,2936.5,2937,2937.5,2938,2938.5,2939,2939.5,2940,2940.5,2941,2941.5,2942,2942.5,2943,2944,2944,2944.5,2945,2945.5,2946,2946.5,2947,2947.5,2948,2948.5,2949,2949.5,2950,2950.5,2951,2951.5,2952,2952.5,2953,2953.5,2954,2954.5,2955,2955.5,2956,2956.5,2957,2957.5,2958,2958.5,2959,2959.5,2960,2960.5,2961,2961.5,2962,2962.5,2963,2963.5,2964,2964.5,2965,2965.5,2966,2966.5,2967,2967.5,2968,2968.5,2969,2969.5,2970,2970.5,2971,2971.5,2972,2972.5,2973,2973.5,2974,2974.5,2975,2975.5,2976,2976.5,2977,2977.5,2978,2978.5,2979,2979.5,2980,2980.5,2981,2981.5,2982,2982.5,2983,2983.5,2984,2984.5,2985,2985.5,2986,2986.5,2987,2987.5,2988,2988.5,2989,2989.5,2990,2990.5,2991,2991.5,2992,2992.5,2993,2993.5,2994,2994.5,2995,2995.5,2996,2996.5,2997,2997.5,2998,2998.5,2999,2999.5,3000,3000.5,3001,3001.5,3002,3002.5,3003,3003.5,3004,3004.5,3005,3005.5,3006,3006.5,3007,3007.5,3008,3008.5,3009,3009.5,3010,3010.5,3011,3011.5,3012,3012.5,3013,3013.5,3014,3014.5,3015,3015.5,3016,3016.5,3017,3017.5,3018,3018.5,3019,3019.5,3020,3020.5,3021,3021.5,3022,3022.5,3023,3023.5,3024,3024.5,3025,3025.5,3026,3026.5,3027,3027.5,3028],\"x\":[0.21558187896856,0.23729796686232,0.25847785505499,0.44748824968583,0.13863722186352,0.12228313098057,0.11558063471707,0.16732390587132,0.11745733367085,0.20056828733831,0.17965649899617,0.14855691633351,0.06598216236713,0.37563748974106,0.55472818990191,0.23434886850637,-0.0029194992216998,-0.15734501313285,-0.14849771806503,-0.29729313511483,-0.34313820955721,-0.36029659999178,-0.15385971507583,-0.08603045288916,-0.21820367920548,0.0019062980880239,0.18662709511022,0.34292930797515,0.55874968766001,0.66947492593311,0.48341362965821,0.042121275669053,-0.12570923076911,-0.40533737488253,-0.7493094831256,-0.49541892466404,0.090647348616828,0.69521251158497,0.88315050681364,0.2759043453401,-0.072893560212691,0.11450823531491,0.043997974622834,-0.33214611568506,-0.70024721047675,-0.89408340241731,-0.62759215098035,-0.24420936470788,0.1557956122981,0.47671113339471,0.46786383832688,0.49842722128846,0.1624981085616,-0.26941075065865,-0.37102059401339,-0.6018545653285,-0.69005941615622,-0.38013598893175,-0.2190079787571,-0.40077967742335,-0.70185580957999,-0.66539422990652,-0.58791337310041,-0.22276137666466,-0.12302823226371,-0.36565859700258,-0.19273419340416,-0.38469368639094,0.043193675071214,0.58877687092051,1.2335570114697,1.2410638072848,1.0107660356708,0.65446133430286,-0.20855208458603,-0.62812835068143,-0.98255635309557,-0.84689782872223,-0.76888077221504,-0.96486176295992,-1.0007871429323,-0.95413776893831,-0.63912044455358,-0.4144527698009,-0.26780215155541,-0.026244186218697,0.17349020243375,0.22362487448477,0.30888062695655,0.094132646673851,-0.10238454377211,-0.12597733061965,-0.23107247203141,0.24507286252798,1.0284606258064,1.1115715794739,0.98985424732864,0.49440572353036,0.30968492650817,-0.066191063949186,-0.21257358234413,-0.29890173421808,-0.48523113034351,-0.039917278596247,-0.04393877635435,-0.04501117575651,-0.014983992496009,0.10163944248898,0.40351987419724,0.73864468737248,0.70057450859577,0.51638991127466,0.51290461321764,0.61156535821643,0.54319989632868,0.58341487390971,0.38099948675186,0.41799726612641,0.22228437523206,0.13086232619786,0.021477587177458,0.18689519496076,0.18421419645536,-0.0098900953357447,0.23327646910421,0.39601307838211,0.44078575342232,0.5413231973749,0.30030143173926,0.26678895042174,0.36571779527107,0.6860971166666,0.41906966552857,-0.62276635367063,-0.93510267954996,-0.9174080894143,-1.1141933797108,-1.2313530143969,-1.3133915686622,-1.3099062706052,-1.3249198622354,-1.2930159800211,-1.3613814419089,-1.0723698030265,-0.70560920748755,-0.548502695071,-0.631881748589,-0.65332973663221,-0.71016690494673,-0.43697315724628,-0.049836973066234,0.12281933068165,0.36679019467323,0.74722388258977,0.69038671427524,0.28073014264983,0.18689519496076,0.16812820542294,0.40700517225426,0.91210529067199,0.91156909097091,0.80057575284726,0.63086854745532,0.62979614805316,0.29252653607359,0.3812675866024,-0.042866376952189,-0.040989677998408,-0.13455652583694,-0.19890048996658,-0.18522739758903,-0.28871393989755,-0.14394002060584,0.25177535879149,0.25392015759581,0.46840003802796,0.39038298152077,0.016115590166654,-0.50158522122646,-1.0348358239509,-1.395698222778,-1.3903362257672,-1.3731778353326,-1.4029369187426,-1.4351089008074,-1.3144639680643,-1.1924785360685,-1.0948901904719,-0.93483457969942,-0.72571669627807,-0.67558202422705,-0.67719062333029,-0.80855955009499,-0.83215233694252,-0.23536206964005,0.38287618570564,0.47966023175065,0.52711390529627,0.58046577555376,0.77644676629865,0.47429823473985,0.38609338391212,0.36732639437431,0.42872126014801,0.46705953877526,0.29842473278548,0.22148007568044,0.14292681947217,0.15150601468945,0.20298118599317,0.2732233468347,0.63113664730586,0.66598962787609,0.36759449422485,0.15043361528729,-0.18227829923309,-0.025171786816536,0.0045872965934257,0.17804789989293,0.53944649842111,0.74641958303815,0.68931431487308,0.59681986643672,0.42201876388451,-0.1136447374948,-0.97880295518801,-1.3267965611892,-1.4715704804809,-1.4654041839185,-1.4584335878044,-1.4404708978182,-1.4061541169491,-1.4377898993128,-1.4396665982666,-1.3973068218813,-1.1798778430932,-0.40506927503199,0.22657397284071,0.31290212471465,-0.12249203256263,-0.029729484275719,-0.19327039310524,-0.19514709205902,-0.25493335872948,-0.071016861258909,-0.01766499100141,0.53783789931787,0.61317395731967,0.53917839857057,0.081263853847921,-0.1149852367475,-0.21391408159683,-0.14474432015746,-0.25144806067246,-0.089515750946183,0.14024582096676,0.17885219944455,0.22764637224287,0.55901778751055,0.82658143834966,0.94266867363357,1.2981690754499,1.3485718473514,1.2086237253694,0.18099699824887,-0.93590697910158,-1.3785398323434,-1.4257254060385,-1.4058860170985,-1.3600409426562,-1.0367125229047,-0.6072165623393,-0.53670630164723,-0.67504582452597,-0.38737468489634,-0.021150289058433,0.41370766851776,0.35901529900756,0.70111070829685,0.98878184792648,0.68904621502254,0.72765259350033,0.61076105866481,0.82470473939588,0.86572401652853,0.83355203446371,0.87564371099852,1.0836891950177,1.3072844703682,1.3338263555717,-0.16217081044258,-0.67129242661841,-0.84984692707818,-0.85923042184708,-0.79756745622284,-0.45037814977329,-0.4198147668117,-0.26270825439515,-0.17209050491256,0.079923354595221,0.31397452411681,4.4341330272185,4.4341330272185,5.471143249108,2.5451014803123,0.86036201951773,0.4072732721048,0.4072732721048,0.5793933761516,1.2501792022032,1.6174759974432,1.6499160793586,1.5507191346587,1.2311441128148,1.0981665869469,0.712102802169,0.60834816000994,0.61451445657237,0.39976647628967,0.44293055222664,0.44882874893853,0.49681862218522,0.46303804101716,0.42630836149315,0.47134913638391,0.50941931516061,0.43756855521584,0.28314304130469,0.078046655641439,0.0078044947999081,0.24212376417204,0.34266120812461,0.43006175940072,0.62255745208858,0.52309240753816,0.56411168467081,0.48287742995713,0.39413637942833,0.47858783234849,0.41451196806938,0.41478006791992,0.50834691575845,0.57027798123324,0.67430072324283,0.72121819708737,0.80459725060537,0.75446257855435,0.78020016420621,0.44963304849015,0.53703359976625,0.52872250439951,0.48877562666902,0.40030267599075,0.37134789213241,0.4126352691156,0.39172348077347,0.57858907659998,0.38368048525726,0.3225537193341,0.29762043323386,0.38931058211861,0.37402889063781,0.4633061408677,0.46384234056878,0.41558436747154,0.4112947698629,0.49521002308198,0.44641585028367,-0.34796400686693,-0.98443305204935,-1.1889932380115,-1.3713011363789,-1.3707649366778,-1.4745195788368,-1.4857797725595,-1.5048148619479,-1.4128566132126,-1.0203584320217,-0.53617010194615,-0.10935513988616,-0.1369694244918,-0.7219632983705,-1.0576243112468,-1.2916754807684,-1.1077589832978,-1.0265247285842,-0.87880171093652,-0.89301100301515,-0.73322349209319,-0.67290102572165,-0.70292820898215,-0.79327785861419,-0.7426069868621,-0.70748590644133,-0.71874610016402,-0.74743278417182,-0.60909326129308,-0.5471621958183,-0.47128993811542,-0.63107744903738,-0.63107744903738,-0.60533986338552,-0.58737717339932,-0.55037939402478,-0.63080934918684,-0.47665193512622,-0.53965540000317,-0.45600824663463,-0.5045343195824,-0.52812710642994,-0.61472335815442,-0.51525831360401,-0.36351379819826,0.13622432320866,1.5257858485585,5.4850844413361,7.7569625748137,7.8215746387939,4.2515570290007,1.2338251113202,0.29547563442954,-0.11659383585074,-0.52410560867184,-0.4924698263081,-0.4498419500722,-0.33589951359262,-0.23589826934113,-0.32303072076669,-0.42437246427089,-0.46619604095516,-0.42222766546656,-0.38040408878229,-0.51606261315563,-0.37021629446177,-0.41927856711062,-0.51418591420185,-0.16029411148879,-0.20050908906982,-0.021150289058433,0.12791322784192,0.11933403262463,0.056330567747683,0.27778104429388,0.30807632740493,0.73569558901654,0.6260427501456,-0.48013723318325,-0.58013847743474,-0.4090907727901,-0.50828771748997,-0.98202015339449,-1.2308168146958,-1.1013245868849,-1.0265247285842,-1.091941092116,-1.0117792368045,-0.79515455756798,-0.8806784098903,-0.8806784098903,-0.86325191960519,-0.90105399853135,-0.8806784098903,-1.1112442813549,-1.1557488565445,-1.3254560619365,-1.3804165312972,-1.3804165312972,-1.4182186102234,-1.2726403913801,-0.98845454980746,-0.58201517638852]},\"column_names\":[\"y\",\"x\"],\"cont_ranges\":{},\"discrete_ranges\":{},\"selected\":[],\"id\":\"b8bff12f-b404-43d6-c3ca-4404aedee39e\",\"doc\":null,\"tags\":[]}},{\"id\":\"90ac4a97-417d-4903-c98b-ed9a675d4918\",\"type\":\"Line\",\"attributes\":{\"fill_alpha\":{\"units\":\"data\",\"value\":0.2},\"line_alpha\":{\"units\":\"data\",\"value\":1},\"doc\":null,\"size\":{\"units\":\"screen\",\"value\":10},\"fill_color\":{\"value\":\"red\"},\"line_color\":{\"value\":\"red\"},\"x\":{\"units\":\"data\",\"field\":\"x\"},\"id\":\"90ac4a97-417d-4903-c98b-ed9a675d4918\",\"y\":{\"units\":\"data\",\"field\":\"y\"},\"tags\":[]}},{\"id\":\"50ab886e-2ffc-4562-c531-022fe52b2fa8\",\"type\":\"Line\",\"attributes\":{\"fill_alpha\":{\"units\":\"data\",\"value\":0.2},\"line_alpha\":{\"units\":\"data\",\"value\":1},\"doc\":null,\"size\":{\"units\":\"screen\",\"value\":10},\"fill_color\":{\"value\":\"red\"},\"line_color\":{\"value\":\"red\"},\"x\":{\"units\":\"data\",\"field\":\"x\"},\"id\":\"50ab886e-2ffc-4562-c531-022fe52b2fa8\",\"y\":{\"units\":\"data\",\"field\":\"y\"},\"tags\":[]}},{\"id\":\"22748664-18c5-491a-c983-aa6519a2cf3d\",\"type\":\"GlyphRenderer\",\"attributes\":{\"name\":null,\"nonselection_glyph\":{\"type\":\"Line\",\"id\":\"50ab886e-2ffc-4562-c531-022fe52b2fa8\"},\"doc\":null,\"server_data_source\":null,\"data_source\":{\"type\":\"ColumnDataSource\",\"id\":\"b8bff12f-b404-43d6-c3ca-4404aedee39e\"},\"glyph\":{\"type\":\"Line\",\"id\":\"90ac4a97-417d-4903-c98b-ed9a675d4918\"},\"selection_glyph\":null,\"id\":\"22748664-18c5-491a-c983-aa6519a2cf3d\",\"tags\":[]}},{\"id\":\"dfc5d210-21c2-4941-c9e8-e315d3e43f11\",\"type\":\"DataRange1d\",\"attributes\":{\"sources\":[{\"columns\":[\"x\"],\"source\":{\"type\":\"ColumnDataSource\",\"id\":\"b8bff12f-b404-43d6-c3ca-4404aedee39e\"}}],\"id\":\"dfc5d210-21c2-4941-c9e8-e315d3e43f11\",\"tags\":[],\"doc\":null}},{\"id\":\"dbcc3eaa-b727-47b6-c720-42663355dce0\",\"type\":\"DataRange1d\",\"attributes\":{\"sources\":[{\"columns\":[\"y\"],\"source\":{\"type\":\"ColumnDataSource\",\"id\":\"b8bff12f-b404-43d6-c3ca-4404aedee39e\"}}],\"id\":\"dbcc3eaa-b727-47b6-c720-42663355dce0\",\"tags\":[],\"doc\":null}},{\"id\":\"5009ef23-82c9-4a61-ca83-74682f17fda2\",\"type\":\"ToolEvents\",\"attributes\":{\"tags\":[],\"id\":\"5009ef23-82c9-4a61-ca83-74682f17fda2\",\"geometries\":[],\"doc\":null}},{\"id\":\"cb31dc76-94d6-465b-c6f7-be2f9280a00e\",\"type\":\"BasicTickFormatter\",\"attributes\":{\"id\":\"cb31dc76-94d6-465b-c6f7-be2f9280a00e\",\"tags\":[],\"doc\":null}},{\"id\":\"2ce6d563-645b-437e-c3e5-955c0880629e\",\"type\":\"BasicTicker\",\"attributes\":{\"num_minor_ticks\":5,\"id\":\"2ce6d563-645b-437e-c3e5-955c0880629e\",\"tags\":[],\"doc\":null}},{\"id\":\"ae9bdc2a-8636-481f-c89f-c93e65dd2be2\",\"type\":\"LinearAxis\",\"attributes\":{\"formatter\":{\"type\":\"BasicTickFormatter\",\"id\":\"cb31dc76-94d6-465b-c6f7-be2f9280a00e\"},\"ticker\":{\"type\":\"BasicTicker\",\"id\":\"2ce6d563-645b-437e-c3e5-955c0880629e\"},\"plot\":{\"id\":\"8065d0d8-e099-4afe-ca1c-cd2fa32b7fc2\",\"type\":\"Plot\",\"subtype\":\"Figure\"},\"axis_label\":null,\"id\":\"ae9bdc2a-8636-481f-c89f-c93e65dd2be2\",\"doc\":null,\"tags\":[]}},{\"id\":\"6ea307e2-93aa-4cdd-cc53-0fe234bdd645\",\"type\":\"Grid\",\"attributes\":{\"dimension\":0,\"plot\":{\"id\":\"8065d0d8-e099-4afe-ca1c-cd2fa32b7fc2\",\"type\":\"Plot\",\"subtype\":\"Figure\"},\"ticker\":{\"type\":\"BasicTicker\",\"id\":\"2ce6d563-645b-437e-c3e5-955c0880629e\"},\"id\":\"6ea307e2-93aa-4cdd-cc53-0fe234bdd645\",\"doc\":null,\"tags\":[]}},{\"id\":\"16ca4d4e-69df-4fa1-cf2a-9b4b1287e209\",\"type\":\"BasicTickFormatter\",\"attributes\":{\"id\":\"16ca4d4e-69df-4fa1-cf2a-9b4b1287e209\",\"tags\":[],\"doc\":null}},{\"id\":\"bc15cc70-ce9e-41f7-c15e-cf43818825f6\",\"type\":\"BasicTicker\",\"attributes\":{\"num_minor_ticks\":5,\"id\":\"bc15cc70-ce9e-41f7-c15e-cf43818825f6\",\"tags\":[],\"doc\":null}},{\"id\":\"f58a716c-0919-4ed1-ce81-4532f5591c71\",\"type\":\"LinearAxis\",\"attributes\":{\"formatter\":{\"type\":\"BasicTickFormatter\",\"id\":\"16ca4d4e-69df-4fa1-cf2a-9b4b1287e209\"},\"ticker\":{\"type\":\"BasicTicker\",\"id\":\"bc15cc70-ce9e-41f7-c15e-cf43818825f6\"},\"plot\":{\"id\":\"8065d0d8-e099-4afe-ca1c-cd2fa32b7fc2\",\"type\":\"Plot\",\"subtype\":\"Figure\"},\"axis_label\":null,\"id\":\"f58a716c-0919-4ed1-ce81-4532f5591c71\",\"doc\":null,\"tags\":[]}},{\"id\":\"7d0e3034-00f9-433f-c303-8ee9f15f43eb\",\"type\":\"Grid\",\"attributes\":{\"dimension\":1,\"plot\":{\"id\":\"8065d0d8-e099-4afe-ca1c-cd2fa32b7fc2\",\"type\":\"Plot\",\"subtype\":\"Figure\"},\"ticker\":{\"type\":\"BasicTicker\",\"id\":\"bc15cc70-ce9e-41f7-c15e-cf43818825f6\"},\"id\":\"7d0e3034-00f9-433f-c303-8ee9f15f43eb\",\"doc\":null,\"tags\":[]}},{\"id\":\"3f6751a2-733b-4934-c931-1d1d86374e94\",\"type\":\"PanTool\",\"attributes\":{\"plot\":{\"id\":\"8065d0d8-e099-4afe-ca1c-cd2fa32b7fc2\",\"type\":\"Plot\",\"subtype\":\"Figure\"},\"dimensions\":[\"width\",\"height\"],\"id\":\"3f6751a2-733b-4934-c931-1d1d86374e94\",\"doc\":null,\"tags\":[]}},{\"id\":\"916b9db1-7745-489e-c89f-1f690cc20823\",\"type\":\"WheelZoomTool\",\"attributes\":{\"plot\":{\"id\":\"8065d0d8-e099-4afe-ca1c-cd2fa32b7fc2\",\"type\":\"Plot\",\"subtype\":\"Figure\"},\"dimensions\":[\"width\",\"height\"],\"id\":\"916b9db1-7745-489e-c89f-1f690cc20823\",\"doc\":null,\"tags\":[]}},{\"id\":\"1abaa17f-bd72-4876-c83c-1f031df8990d\",\"type\":\"BoxZoomTool\",\"attributes\":{\"plot\":{\"id\":\"8065d0d8-e099-4afe-ca1c-cd2fa32b7fc2\",\"type\":\"Plot\",\"subtype\":\"Figure\"},\"id\":\"1abaa17f-bd72-4876-c83c-1f031df8990d\",\"tags\":[],\"doc\":null}},{\"id\":\"6b9474d1-8d60-4850-c806-e7a23f5fff7f\",\"type\":\"PreviewSaveTool\",\"attributes\":{\"plot\":{\"id\":\"8065d0d8-e099-4afe-ca1c-cd2fa32b7fc2\",\"type\":\"Plot\",\"subtype\":\"Figure\"},\"id\":\"6b9474d1-8d60-4850-c806-e7a23f5fff7f\",\"tags\":[],\"doc\":null}},{\"id\":\"a49f8f88-172c-43fc-c36e-1e4be944b303\",\"type\":\"ResizeTool\",\"attributes\":{\"plot\":{\"id\":\"8065d0d8-e099-4afe-ca1c-cd2fa32b7fc2\",\"type\":\"Plot\",\"subtype\":\"Figure\"},\"id\":\"a49f8f88-172c-43fc-c36e-1e4be944b303\",\"tags\":[],\"doc\":null}},{\"id\":\"4c92973d-d7fe-41e5-c1dd-b80d028b6905\",\"type\":\"ResetTool\",\"attributes\":{\"plot\":{\"id\":\"8065d0d8-e099-4afe-ca1c-cd2fa32b7fc2\",\"type\":\"Plot\",\"subtype\":\"Figure\"},\"id\":\"4c92973d-d7fe-41e5-c1dd-b80d028b6905\",\"tags\":[],\"doc\":null}},{\"id\":\"8065d0d8-e099-4afe-ca1c-cd2fa32b7fc2\",\"type\":\"Plot\",\"attributes\":{\"x_range\":{\"type\":\"DataRange1d\",\"id\":\"dfc5d210-21c2-4941-c9e8-e315d3e43f11\"},\"tool_events\":{\"type\":\"ToolEvents\",\"id\":\"5009ef23-82c9-4a61-ca83-74682f17fda2\"},\"below\":[{\"type\":\"LinearAxis\",\"id\":\"ae9bdc2a-8636-481f-c89f-c93e65dd2be2\"}],\"renderers\":[{\"type\":\"GlyphRenderer\",\"id\":\"22748664-18c5-491a-c983-aa6519a2cf3d\"},{\"type\":\"LinearAxis\",\"id\":\"ae9bdc2a-8636-481f-c89f-c93e65dd2be2\"},{\"type\":\"Grid\",\"id\":\"6ea307e2-93aa-4cdd-cc53-0fe234bdd645\"},{\"type\":\"LinearAxis\",\"id\":\"f58a716c-0919-4ed1-ce81-4532f5591c71\"},{\"type\":\"Grid\",\"id\":\"7d0e3034-00f9-433f-c303-8ee9f15f43eb\"}],\"above\":[],\"tools\":[{\"type\":\"PanTool\",\"id\":\"3f6751a2-733b-4934-c931-1d1d86374e94\"},{\"type\":\"WheelZoomTool\",\"id\":\"916b9db1-7745-489e-c89f-1f690cc20823\"},{\"type\":\"BoxZoomTool\",\"id\":\"1abaa17f-bd72-4876-c83c-1f031df8990d\"},{\"type\":\"PreviewSaveTool\",\"id\":\"6b9474d1-8d60-4850-c806-e7a23f5fff7f\"},{\"type\":\"ResizeTool\",\"id\":\"a49f8f88-172c-43fc-c36e-1e4be944b303\"},{\"type\":\"ResetTool\",\"id\":\"4c92973d-d7fe-41e5-c1dd-b80d028b6905\"}],\"doc\":null,\"right\":[],\"title\":\"Untitled Plot\",\"extra_x_ranges\":{},\"left\":[{\"type\":\"LinearAxis\",\"id\":\"f58a716c-0919-4ed1-ce81-4532f5591c71\"}],\"y_range\":{\"type\":\"DataRange1d\",\"id\":\"dbcc3eaa-b727-47b6-c720-42663355dce0\"},\"id\":\"8065d0d8-e099-4afe-ca1c-cd2fa32b7fc2\",\"extra_y_ranges\":{},\"tags\":[]}}];\n",
       "  Bokeh.load_models(all_models);\n",
       "  var model = Bokeh.Collections(modeltype).get(modelid);\n",
       "  $(\"#c1b533d8-3c18-4cdd-cc47-403647fe1018\").html(''); // clear any previous plot in window_id\n",
       "  var view = new model.default_view({model: model, el: \"#c1b533d8-3c18-4cdd-cc47-403647fe1018\"});\n",
       "    } else {\n",
       "  load_lib(bokehjs_url, function() {\n",
       "      console.log(\"Bokeh: BokehJS plotting callback run at\", new Date())\n",
       "      var modelid = \"8065d0d8-e099-4afe-ca1c-cd2fa32b7fc2\";\n",
       "      var modeltype = \"Plot\";\n",
       "      var all_models = [{\"id\":\"b8bff12f-b404-43d6-c3ca-4404aedee39e\",\"type\":\"ColumnDataSource\",\"attributes\":{\"data\":{\"y\":[2793,2793.5,2794,2794.5,2795,2795.5,2796,2796.5,2797,2797.5,2798,2798.5,2799,2799.5,2800,2800.5,2801,2801.5,2802,2802.5,2803,2803.5,2804,2804.5,2805,2805.5,2806,2806.5,2807,2807.5,2808,2808.5,2809,2809.5,2810,2810.5,2811,2811.5,2812,2812.5,2813,2813.5,2814,2814.5,2815,2815.5,2816,2816.5,2817,2817.5,2818,2818.5,2819,2819.5,2820,2820.5,2821,2821.5,2822,2822.5,2823,2823.5,2824,2824.5,2825,2825.5,2826,2826.5,2827,2827.5,2828,2828.5,2829,2829.5,2830,2830.5,2831,2831.5,2832,2832.5,2833,2833.5,2834,2834.5,2835,2835.5,2836,2836.5,2837,2837.5,2838,2838.5,2839,2839.5,2840,2840.5,2841,2841.5,2842,2842.5,2843,2843.5,2844,2844.5,2845,2845.5,2846,2846.5,2847,2847.5,2848,2848.5,2849,2849.5,2850,2850.5,2851,2851.5,2852,2852.5,2853,2853.5,2854,2854.5,2855,2855.5,2856,2856.5,2857,2857.5,2858,2858.5,2859,2859.5,2860,2860.5,2861,2861.5,2862,2862.5,2863,2863.5,2864,2864.5,2865,2865.5,2866,2866.5,2867,2867.5,2868,2868.5,2869,2869.5,2870,2870.5,2871,2871.5,2872,2872.5,2873,2873.5,2874,2874.5,2875,2875.5,2876,2876.5,2877,2877.5,2878,2878.5,2879,2879.5,2880,2880.5,2881,2881.5,2882,2882.5,2883,2883.5,2884,2884.5,2885,2885.5,2886,2886.5,2887,2887.5,2888,2888.5,2889,2889.5,2890,2890.5,2891,2891.5,2892,2892.5,2893,2893.5,2894,2894.5,2895,2895.5,2896,2896.5,2897,2897.5,2898,2898.5,2899,2899.5,2900,2900.5,2901,2901.5,2902,2902.5,2903,2903.5,2904,2904.5,2905,2905.5,2906,2906.5,2907,2907.5,2908,2908.5,2909,2909.5,2910,2910.5,2911,2911.5,2912,2912.5,2913,2913.5,2914,2914.5,2915,2915.5,2916,2916.5,2917,2917.5,2918,2918.5,2919,2919.5,2920,2920.5,2921,2921.5,2922,2922.5,2923,2923.5,2924,2924.5,2925,2925.5,2926,2926.5,2927,2927.5,2928,2928.5,2929,2929.5,2930,2930.5,2931,2931.5,2932,2932.5,2933,2933.5,2934,2934.5,2935,2935.5,2936,2936.5,2937,2937.5,2938,2938.5,2939,2939.5,2940,2940.5,2941,2941.5,2942,2942.5,2943,2944,2944,2944.5,2945,2945.5,2946,2946.5,2947,2947.5,2948,2948.5,2949,2949.5,2950,2950.5,2951,2951.5,2952,2952.5,2953,2953.5,2954,2954.5,2955,2955.5,2956,2956.5,2957,2957.5,2958,2958.5,2959,2959.5,2960,2960.5,2961,2961.5,2962,2962.5,2963,2963.5,2964,2964.5,2965,2965.5,2966,2966.5,2967,2967.5,2968,2968.5,2969,2969.5,2970,2970.5,2971,2971.5,2972,2972.5,2973,2973.5,2974,2974.5,2975,2975.5,2976,2976.5,2977,2977.5,2978,2978.5,2979,2979.5,2980,2980.5,2981,2981.5,2982,2982.5,2983,2983.5,2984,2984.5,2985,2985.5,2986,2986.5,2987,2987.5,2988,2988.5,2989,2989.5,2990,2990.5,2991,2991.5,2992,2992.5,2993,2993.5,2994,2994.5,2995,2995.5,2996,2996.5,2997,2997.5,2998,2998.5,2999,2999.5,3000,3000.5,3001,3001.5,3002,3002.5,3003,3003.5,3004,3004.5,3005,3005.5,3006,3006.5,3007,3007.5,3008,3008.5,3009,3009.5,3010,3010.5,3011,3011.5,3012,3012.5,3013,3013.5,3014,3014.5,3015,3015.5,3016,3016.5,3017,3017.5,3018,3018.5,3019,3019.5,3020,3020.5,3021,3021.5,3022,3022.5,3023,3023.5,3024,3024.5,3025,3025.5,3026,3026.5,3027,3027.5,3028],\"x\":[0.21558187896856,0.23729796686232,0.25847785505499,0.44748824968583,0.13863722186352,0.12228313098057,0.11558063471707,0.16732390587132,0.11745733367085,0.20056828733831,0.17965649899617,0.14855691633351,0.06598216236713,0.37563748974106,0.55472818990191,0.23434886850637,-0.0029194992216998,-0.15734501313285,-0.14849771806503,-0.29729313511483,-0.34313820955721,-0.36029659999178,-0.15385971507583,-0.08603045288916,-0.21820367920548,0.0019062980880239,0.18662709511022,0.34292930797515,0.55874968766001,0.66947492593311,0.48341362965821,0.042121275669053,-0.12570923076911,-0.40533737488253,-0.7493094831256,-0.49541892466404,0.090647348616828,0.69521251158497,0.88315050681364,0.2759043453401,-0.072893560212691,0.11450823531491,0.043997974622834,-0.33214611568506,-0.70024721047675,-0.89408340241731,-0.62759215098035,-0.24420936470788,0.1557956122981,0.47671113339471,0.46786383832688,0.49842722128846,0.1624981085616,-0.26941075065865,-0.37102059401339,-0.6018545653285,-0.69005941615622,-0.38013598893175,-0.2190079787571,-0.40077967742335,-0.70185580957999,-0.66539422990652,-0.58791337310041,-0.22276137666466,-0.12302823226371,-0.36565859700258,-0.19273419340416,-0.38469368639094,0.043193675071214,0.58877687092051,1.2335570114697,1.2410638072848,1.0107660356708,0.65446133430286,-0.20855208458603,-0.62812835068143,-0.98255635309557,-0.84689782872223,-0.76888077221504,-0.96486176295992,-1.0007871429323,-0.95413776893831,-0.63912044455358,-0.4144527698009,-0.26780215155541,-0.026244186218697,0.17349020243375,0.22362487448477,0.30888062695655,0.094132646673851,-0.10238454377211,-0.12597733061965,-0.23107247203141,0.24507286252798,1.0284606258064,1.1115715794739,0.98985424732864,0.49440572353036,0.30968492650817,-0.066191063949186,-0.21257358234413,-0.29890173421808,-0.48523113034351,-0.039917278596247,-0.04393877635435,-0.04501117575651,-0.014983992496009,0.10163944248898,0.40351987419724,0.73864468737248,0.70057450859577,0.51638991127466,0.51290461321764,0.61156535821643,0.54319989632868,0.58341487390971,0.38099948675186,0.41799726612641,0.22228437523206,0.13086232619786,0.021477587177458,0.18689519496076,0.18421419645536,-0.0098900953357447,0.23327646910421,0.39601307838211,0.44078575342232,0.5413231973749,0.30030143173926,0.26678895042174,0.36571779527107,0.6860971166666,0.41906966552857,-0.62276635367063,-0.93510267954996,-0.9174080894143,-1.1141933797108,-1.2313530143969,-1.3133915686622,-1.3099062706052,-1.3249198622354,-1.2930159800211,-1.3613814419089,-1.0723698030265,-0.70560920748755,-0.548502695071,-0.631881748589,-0.65332973663221,-0.71016690494673,-0.43697315724628,-0.049836973066234,0.12281933068165,0.36679019467323,0.74722388258977,0.69038671427524,0.28073014264983,0.18689519496076,0.16812820542294,0.40700517225426,0.91210529067199,0.91156909097091,0.80057575284726,0.63086854745532,0.62979614805316,0.29252653607359,0.3812675866024,-0.042866376952189,-0.040989677998408,-0.13455652583694,-0.19890048996658,-0.18522739758903,-0.28871393989755,-0.14394002060584,0.25177535879149,0.25392015759581,0.46840003802796,0.39038298152077,0.016115590166654,-0.50158522122646,-1.0348358239509,-1.395698222778,-1.3903362257672,-1.3731778353326,-1.4029369187426,-1.4351089008074,-1.3144639680643,-1.1924785360685,-1.0948901904719,-0.93483457969942,-0.72571669627807,-0.67558202422705,-0.67719062333029,-0.80855955009499,-0.83215233694252,-0.23536206964005,0.38287618570564,0.47966023175065,0.52711390529627,0.58046577555376,0.77644676629865,0.47429823473985,0.38609338391212,0.36732639437431,0.42872126014801,0.46705953877526,0.29842473278548,0.22148007568044,0.14292681947217,0.15150601468945,0.20298118599317,0.2732233468347,0.63113664730586,0.66598962787609,0.36759449422485,0.15043361528729,-0.18227829923309,-0.025171786816536,0.0045872965934257,0.17804789989293,0.53944649842111,0.74641958303815,0.68931431487308,0.59681986643672,0.42201876388451,-0.1136447374948,-0.97880295518801,-1.3267965611892,-1.4715704804809,-1.4654041839185,-1.4584335878044,-1.4404708978182,-1.4061541169491,-1.4377898993128,-1.4396665982666,-1.3973068218813,-1.1798778430932,-0.40506927503199,0.22657397284071,0.31290212471465,-0.12249203256263,-0.029729484275719,-0.19327039310524,-0.19514709205902,-0.25493335872948,-0.071016861258909,-0.01766499100141,0.53783789931787,0.61317395731967,0.53917839857057,0.081263853847921,-0.1149852367475,-0.21391408159683,-0.14474432015746,-0.25144806067246,-0.089515750946183,0.14024582096676,0.17885219944455,0.22764637224287,0.55901778751055,0.82658143834966,0.94266867363357,1.2981690754499,1.3485718473514,1.2086237253694,0.18099699824887,-0.93590697910158,-1.3785398323434,-1.4257254060385,-1.4058860170985,-1.3600409426562,-1.0367125229047,-0.6072165623393,-0.53670630164723,-0.67504582452597,-0.38737468489634,-0.021150289058433,0.41370766851776,0.35901529900756,0.70111070829685,0.98878184792648,0.68904621502254,0.72765259350033,0.61076105866481,0.82470473939588,0.86572401652853,0.83355203446371,0.87564371099852,1.0836891950177,1.3072844703682,1.3338263555717,-0.16217081044258,-0.67129242661841,-0.84984692707818,-0.85923042184708,-0.79756745622284,-0.45037814977329,-0.4198147668117,-0.26270825439515,-0.17209050491256,0.079923354595221,0.31397452411681,4.4341330272185,4.4341330272185,5.471143249108,2.5451014803123,0.86036201951773,0.4072732721048,0.4072732721048,0.5793933761516,1.2501792022032,1.6174759974432,1.6499160793586,1.5507191346587,1.2311441128148,1.0981665869469,0.712102802169,0.60834816000994,0.61451445657237,0.39976647628967,0.44293055222664,0.44882874893853,0.49681862218522,0.46303804101716,0.42630836149315,0.47134913638391,0.50941931516061,0.43756855521584,0.28314304130469,0.078046655641439,0.0078044947999081,0.24212376417204,0.34266120812461,0.43006175940072,0.62255745208858,0.52309240753816,0.56411168467081,0.48287742995713,0.39413637942833,0.47858783234849,0.41451196806938,0.41478006791992,0.50834691575845,0.57027798123324,0.67430072324283,0.72121819708737,0.80459725060537,0.75446257855435,0.78020016420621,0.44963304849015,0.53703359976625,0.52872250439951,0.48877562666902,0.40030267599075,0.37134789213241,0.4126352691156,0.39172348077347,0.57858907659998,0.38368048525726,0.3225537193341,0.29762043323386,0.38931058211861,0.37402889063781,0.4633061408677,0.46384234056878,0.41558436747154,0.4112947698629,0.49521002308198,0.44641585028367,-0.34796400686693,-0.98443305204935,-1.1889932380115,-1.3713011363789,-1.3707649366778,-1.4745195788368,-1.4857797725595,-1.5048148619479,-1.4128566132126,-1.0203584320217,-0.53617010194615,-0.10935513988616,-0.1369694244918,-0.7219632983705,-1.0576243112468,-1.2916754807684,-1.1077589832978,-1.0265247285842,-0.87880171093652,-0.89301100301515,-0.73322349209319,-0.67290102572165,-0.70292820898215,-0.79327785861419,-0.7426069868621,-0.70748590644133,-0.71874610016402,-0.74743278417182,-0.60909326129308,-0.5471621958183,-0.47128993811542,-0.63107744903738,-0.63107744903738,-0.60533986338552,-0.58737717339932,-0.55037939402478,-0.63080934918684,-0.47665193512622,-0.53965540000317,-0.45600824663463,-0.5045343195824,-0.52812710642994,-0.61472335815442,-0.51525831360401,-0.36351379819826,0.13622432320866,1.5257858485585,5.4850844413361,7.7569625748137,7.8215746387939,4.2515570290007,1.2338251113202,0.29547563442954,-0.11659383585074,-0.52410560867184,-0.4924698263081,-0.4498419500722,-0.33589951359262,-0.23589826934113,-0.32303072076669,-0.42437246427089,-0.46619604095516,-0.42222766546656,-0.38040408878229,-0.51606261315563,-0.37021629446177,-0.41927856711062,-0.51418591420185,-0.16029411148879,-0.20050908906982,-0.021150289058433,0.12791322784192,0.11933403262463,0.056330567747683,0.27778104429388,0.30807632740493,0.73569558901654,0.6260427501456,-0.48013723318325,-0.58013847743474,-0.4090907727901,-0.50828771748997,-0.98202015339449,-1.2308168146958,-1.1013245868849,-1.0265247285842,-1.091941092116,-1.0117792368045,-0.79515455756798,-0.8806784098903,-0.8806784098903,-0.86325191960519,-0.90105399853135,-0.8806784098903,-1.1112442813549,-1.1557488565445,-1.3254560619365,-1.3804165312972,-1.3804165312972,-1.4182186102234,-1.2726403913801,-0.98845454980746,-0.58201517638852]},\"column_names\":[\"y\",\"x\"],\"cont_ranges\":{},\"discrete_ranges\":{},\"selected\":[],\"id\":\"b8bff12f-b404-43d6-c3ca-4404aedee39e\",\"doc\":null,\"tags\":[]}},{\"id\":\"90ac4a97-417d-4903-c98b-ed9a675d4918\",\"type\":\"Line\",\"attributes\":{\"fill_alpha\":{\"units\":\"data\",\"value\":0.2},\"line_alpha\":{\"units\":\"data\",\"value\":1},\"doc\":null,\"size\":{\"units\":\"screen\",\"value\":10},\"fill_color\":{\"value\":\"red\"},\"line_color\":{\"value\":\"red\"},\"x\":{\"units\":\"data\",\"field\":\"x\"},\"id\":\"90ac4a97-417d-4903-c98b-ed9a675d4918\",\"y\":{\"units\":\"data\",\"field\":\"y\"},\"tags\":[]}},{\"id\":\"50ab886e-2ffc-4562-c531-022fe52b2fa8\",\"type\":\"Line\",\"attributes\":{\"fill_alpha\":{\"units\":\"data\",\"value\":0.2},\"line_alpha\":{\"units\":\"data\",\"value\":1},\"doc\":null,\"size\":{\"units\":\"screen\",\"value\":10},\"fill_color\":{\"value\":\"red\"},\"line_color\":{\"value\":\"red\"},\"x\":{\"units\":\"data\",\"field\":\"x\"},\"id\":\"50ab886e-2ffc-4562-c531-022fe52b2fa8\",\"y\":{\"units\":\"data\",\"field\":\"y\"},\"tags\":[]}},{\"id\":\"22748664-18c5-491a-c983-aa6519a2cf3d\",\"type\":\"GlyphRenderer\",\"attributes\":{\"name\":null,\"nonselection_glyph\":{\"type\":\"Line\",\"id\":\"50ab886e-2ffc-4562-c531-022fe52b2fa8\"},\"doc\":null,\"server_data_source\":null,\"data_source\":{\"type\":\"ColumnDataSource\",\"id\":\"b8bff12f-b404-43d6-c3ca-4404aedee39e\"},\"glyph\":{\"type\":\"Line\",\"id\":\"90ac4a97-417d-4903-c98b-ed9a675d4918\"},\"selection_glyph\":null,\"id\":\"22748664-18c5-491a-c983-aa6519a2cf3d\",\"tags\":[]}},{\"id\":\"dfc5d210-21c2-4941-c9e8-e315d3e43f11\",\"type\":\"DataRange1d\",\"attributes\":{\"sources\":[{\"columns\":[\"x\"],\"source\":{\"type\":\"ColumnDataSource\",\"id\":\"b8bff12f-b404-43d6-c3ca-4404aedee39e\"}}],\"id\":\"dfc5d210-21c2-4941-c9e8-e315d3e43f11\",\"tags\":[],\"doc\":null}},{\"id\":\"dbcc3eaa-b727-47b6-c720-42663355dce0\",\"type\":\"DataRange1d\",\"attributes\":{\"sources\":[{\"columns\":[\"y\"],\"source\":{\"type\":\"ColumnDataSource\",\"id\":\"b8bff12f-b404-43d6-c3ca-4404aedee39e\"}}],\"id\":\"dbcc3eaa-b727-47b6-c720-42663355dce0\",\"tags\":[],\"doc\":null}},{\"id\":\"5009ef23-82c9-4a61-ca83-74682f17fda2\",\"type\":\"ToolEvents\",\"attributes\":{\"tags\":[],\"id\":\"5009ef23-82c9-4a61-ca83-74682f17fda2\",\"geometries\":[],\"doc\":null}},{\"id\":\"cb31dc76-94d6-465b-c6f7-be2f9280a00e\",\"type\":\"BasicTickFormatter\",\"attributes\":{\"id\":\"cb31dc76-94d6-465b-c6f7-be2f9280a00e\",\"tags\":[],\"doc\":null}},{\"id\":\"2ce6d563-645b-437e-c3e5-955c0880629e\",\"type\":\"BasicTicker\",\"attributes\":{\"num_minor_ticks\":5,\"id\":\"2ce6d563-645b-437e-c3e5-955c0880629e\",\"tags\":[],\"doc\":null}},{\"id\":\"ae9bdc2a-8636-481f-c89f-c93e65dd2be2\",\"type\":\"LinearAxis\",\"attributes\":{\"formatter\":{\"type\":\"BasicTickFormatter\",\"id\":\"cb31dc76-94d6-465b-c6f7-be2f9280a00e\"},\"ticker\":{\"type\":\"BasicTicker\",\"id\":\"2ce6d563-645b-437e-c3e5-955c0880629e\"},\"plot\":{\"id\":\"8065d0d8-e099-4afe-ca1c-cd2fa32b7fc2\",\"type\":\"Plot\",\"subtype\":\"Figure\"},\"axis_label\":null,\"id\":\"ae9bdc2a-8636-481f-c89f-c93e65dd2be2\",\"doc\":null,\"tags\":[]}},{\"id\":\"6ea307e2-93aa-4cdd-cc53-0fe234bdd645\",\"type\":\"Grid\",\"attributes\":{\"dimension\":0,\"plot\":{\"id\":\"8065d0d8-e099-4afe-ca1c-cd2fa32b7fc2\",\"type\":\"Plot\",\"subtype\":\"Figure\"},\"ticker\":{\"type\":\"BasicTicker\",\"id\":\"2ce6d563-645b-437e-c3e5-955c0880629e\"},\"id\":\"6ea307e2-93aa-4cdd-cc53-0fe234bdd645\",\"doc\":null,\"tags\":[]}},{\"id\":\"16ca4d4e-69df-4fa1-cf2a-9b4b1287e209\",\"type\":\"BasicTickFormatter\",\"attributes\":{\"id\":\"16ca4d4e-69df-4fa1-cf2a-9b4b1287e209\",\"tags\":[],\"doc\":null}},{\"id\":\"bc15cc70-ce9e-41f7-c15e-cf43818825f6\",\"type\":\"BasicTicker\",\"attributes\":{\"num_minor_ticks\":5,\"id\":\"bc15cc70-ce9e-41f7-c15e-cf43818825f6\",\"tags\":[],\"doc\":null}},{\"id\":\"f58a716c-0919-4ed1-ce81-4532f5591c71\",\"type\":\"LinearAxis\",\"attributes\":{\"formatter\":{\"type\":\"BasicTickFormatter\",\"id\":\"16ca4d4e-69df-4fa1-cf2a-9b4b1287e209\"},\"ticker\":{\"type\":\"BasicTicker\",\"id\":\"bc15cc70-ce9e-41f7-c15e-cf43818825f6\"},\"plot\":{\"id\":\"8065d0d8-e099-4afe-ca1c-cd2fa32b7fc2\",\"type\":\"Plot\",\"subtype\":\"Figure\"},\"axis_label\":null,\"id\":\"f58a716c-0919-4ed1-ce81-4532f5591c71\",\"doc\":null,\"tags\":[]}},{\"id\":\"7d0e3034-00f9-433f-c303-8ee9f15f43eb\",\"type\":\"Grid\",\"attributes\":{\"dimension\":1,\"plot\":{\"id\":\"8065d0d8-e099-4afe-ca1c-cd2fa32b7fc2\",\"type\":\"Plot\",\"subtype\":\"Figure\"},\"ticker\":{\"type\":\"BasicTicker\",\"id\":\"bc15cc70-ce9e-41f7-c15e-cf43818825f6\"},\"id\":\"7d0e3034-00f9-433f-c303-8ee9f15f43eb\",\"doc\":null,\"tags\":[]}},{\"id\":\"3f6751a2-733b-4934-c931-1d1d86374e94\",\"type\":\"PanTool\",\"attributes\":{\"plot\":{\"id\":\"8065d0d8-e099-4afe-ca1c-cd2fa32b7fc2\",\"type\":\"Plot\",\"subtype\":\"Figure\"},\"dimensions\":[\"width\",\"height\"],\"id\":\"3f6751a2-733b-4934-c931-1d1d86374e94\",\"doc\":null,\"tags\":[]}},{\"id\":\"916b9db1-7745-489e-c89f-1f690cc20823\",\"type\":\"WheelZoomTool\",\"attributes\":{\"plot\":{\"id\":\"8065d0d8-e099-4afe-ca1c-cd2fa32b7fc2\",\"type\":\"Plot\",\"subtype\":\"Figure\"},\"dimensions\":[\"width\",\"height\"],\"id\":\"916b9db1-7745-489e-c89f-1f690cc20823\",\"doc\":null,\"tags\":[]}},{\"id\":\"1abaa17f-bd72-4876-c83c-1f031df8990d\",\"type\":\"BoxZoomTool\",\"attributes\":{\"plot\":{\"id\":\"8065d0d8-e099-4afe-ca1c-cd2fa32b7fc2\",\"type\":\"Plot\",\"subtype\":\"Figure\"},\"id\":\"1abaa17f-bd72-4876-c83c-1f031df8990d\",\"tags\":[],\"doc\":null}},{\"id\":\"6b9474d1-8d60-4850-c806-e7a23f5fff7f\",\"type\":\"PreviewSaveTool\",\"attributes\":{\"plot\":{\"id\":\"8065d0d8-e099-4afe-ca1c-cd2fa32b7fc2\",\"type\":\"Plot\",\"subtype\":\"Figure\"},\"id\":\"6b9474d1-8d60-4850-c806-e7a23f5fff7f\",\"tags\":[],\"doc\":null}},{\"id\":\"a49f8f88-172c-43fc-c36e-1e4be944b303\",\"type\":\"ResizeTool\",\"attributes\":{\"plot\":{\"id\":\"8065d0d8-e099-4afe-ca1c-cd2fa32b7fc2\",\"type\":\"Plot\",\"subtype\":\"Figure\"},\"id\":\"a49f8f88-172c-43fc-c36e-1e4be944b303\",\"tags\":[],\"doc\":null}},{\"id\":\"4c92973d-d7fe-41e5-c1dd-b80d028b6905\",\"type\":\"ResetTool\",\"attributes\":{\"plot\":{\"id\":\"8065d0d8-e099-4afe-ca1c-cd2fa32b7fc2\",\"type\":\"Plot\",\"subtype\":\"Figure\"},\"id\":\"4c92973d-d7fe-41e5-c1dd-b80d028b6905\",\"tags\":[],\"doc\":null}},{\"id\":\"8065d0d8-e099-4afe-ca1c-cd2fa32b7fc2\",\"type\":\"Plot\",\"attributes\":{\"x_range\":{\"type\":\"DataRange1d\",\"id\":\"dfc5d210-21c2-4941-c9e8-e315d3e43f11\"},\"tool_events\":{\"type\":\"ToolEvents\",\"id\":\"5009ef23-82c9-4a61-ca83-74682f17fda2\"},\"below\":[{\"type\":\"LinearAxis\",\"id\":\"ae9bdc2a-8636-481f-c89f-c93e65dd2be2\"}],\"renderers\":[{\"type\":\"GlyphRenderer\",\"id\":\"22748664-18c5-491a-c983-aa6519a2cf3d\"},{\"type\":\"LinearAxis\",\"id\":\"ae9bdc2a-8636-481f-c89f-c93e65dd2be2\"},{\"type\":\"Grid\",\"id\":\"6ea307e2-93aa-4cdd-cc53-0fe234bdd645\"},{\"type\":\"LinearAxis\",\"id\":\"f58a716c-0919-4ed1-ce81-4532f5591c71\"},{\"type\":\"Grid\",\"id\":\"7d0e3034-00f9-433f-c303-8ee9f15f43eb\"}],\"above\":[],\"tools\":[{\"type\":\"PanTool\",\"id\":\"3f6751a2-733b-4934-c931-1d1d86374e94\"},{\"type\":\"WheelZoomTool\",\"id\":\"916b9db1-7745-489e-c89f-1f690cc20823\"},{\"type\":\"BoxZoomTool\",\"id\":\"1abaa17f-bd72-4876-c83c-1f031df8990d\"},{\"type\":\"PreviewSaveTool\",\"id\":\"6b9474d1-8d60-4850-c806-e7a23f5fff7f\"},{\"type\":\"ResizeTool\",\"id\":\"a49f8f88-172c-43fc-c36e-1e4be944b303\"},{\"type\":\"ResetTool\",\"id\":\"4c92973d-d7fe-41e5-c1dd-b80d028b6905\"}],\"doc\":null,\"right\":[],\"title\":\"Untitled Plot\",\"extra_x_ranges\":{},\"left\":[{\"type\":\"LinearAxis\",\"id\":\"f58a716c-0919-4ed1-ce81-4532f5591c71\"}],\"y_range\":{\"type\":\"DataRange1d\",\"id\":\"dbcc3eaa-b727-47b6-c720-42663355dce0\"},\"id\":\"8065d0d8-e099-4afe-ca1c-cd2fa32b7fc2\",\"extra_y_ranges\":{},\"tags\":[]}}];\n",
       "      Bokeh.load_models(all_models);\n",
       "      var model = Bokeh.Collections(modeltype).get(modelid);\n",
       "      $(\"#c1b533d8-3c18-4cdd-cc47-403647fe1018\").html(''); // clear any previous plot in window_id\n",
       "      var view = new model.default_view({model: model, el: \"#c1b533d8-3c18-4cdd-cc47-403647fe1018\"});\n",
       "  });\n",
       "    }\n",
       "});\n",
       "</script>\n",
       "<div class=\"plotdiv\" id=\"c1b533d8-3c18-4cdd-cc47-403647fe1018\"></div>\n"
      ]
     },
     "metadata": {},
     "output_type": "display_data"
    },
    {
     "data": {
      "text/html": [
       "<script type=\"text/javascript\">\n",
       "$(function() {\n",
       "    if (typeof (window._bokeh_onload_callbacks) === \"undefined\"){\n",
       "  window._bokeh_onload_callbacks = [];\n",
       "    }\n",
       "    function load_lib(url, callback){\n",
       "  window._bokeh_onload_callbacks.push(callback);\n",
       "  if (window._bokeh_is_loading){\n",
       "      console.log(\"Bokeh: BokehJS is being loaded, scheduling callback at\", new Date());\n",
       "      return null;\n",
       "  }\n",
       "  console.log(\"Bokeh: BokehJS not loaded, scheduling load and callback at\", new Date());\n",
       "  window._bokeh_is_loading = true;\n",
       "  var s = document.createElement('script');\n",
       "  s.src = url;\n",
       "  s.async = true;\n",
       "  s.onreadystatechange = s.onload = function(){\n",
       "      Bokeh.embed.inject_css(\"https://cdn.pydata.org/bokeh-0.7.0.min.css\");\n",
       "      window._bokeh_onload_callbacks.forEach(function(callback){callback()});\n",
       "  };\n",
       "  s.onerror = function(){\n",
       "      console.warn(\"failed to load library \" + url);\n",
       "  };\n",
       "  document.getElementsByTagName(\"head\")[0].appendChild(s);\n",
       "    }\n",
       "\n",
       "    bokehjs_url = \"https://cdn.pydata.org/bokeh-0.7.0.min.js\"\n",
       "\n",
       "    var elt = document.getElementById(\"c1b533d8-3c18-4cdd-cc47-403647fe1018\");\n",
       "    if(elt==null) {\n",
       "  console.log(\"Bokeh: ERROR: autoload.js configured with elementid 'c1b533d8-3c18-4cdd-cc47-403647fe1018'\"\n",
       "        + \"but no matching script tag was found. \")\n",
       "  return false;\n",
       "    }\n",
       "\n",
       "    if(typeof(Bokeh) !== \"undefined\") {\n",
       "  console.log(\"Bokeh: BokehJS loaded, going straight to plotting\");\n",
       "  var modelid = \"fc73a7e6-7404-4f02-cf0e-21bbb4c021ef\";\n",
       "  var modeltype = \"Plot\";\n",
       "  var all_models = [{\"id\":\"3341b4ae-cbb7-4b06-cb09-af6b68284b67\",\"type\":\"ColumnDataSource\",\"attributes\":{\"data\":{\"y\":[2793,2793.5,2794,2794.5,2795,2795.5,2796,2796.5,2797,2797.5,2798,2798.5,2799,2799.5,2800,2800.5,2801,2801.5,2802,2802.5,2803,2803.5,2804,2804.5,2805,2805.5,2806,2806.5,2807,2807.5,2808,2808.5,2809,2809.5,2810,2810.5,2811,2811.5,2812,2812.5,2813,2813.5,2814,2814.5,2815,2815.5,2816,2816.5,2817,2817.5,2818,2818.5,2819,2819.5,2820,2820.5,2821,2821.5,2822,2822.5,2823,2823.5,2824,2824.5,2825,2825.5,2826,2826.5,2827,2827.5,2828,2828.5,2829,2829.5,2830,2830.5,2831,2831.5,2832,2832.5,2833,2833.5,2834,2834.5,2835,2835.5,2836,2836.5,2837,2837.5,2838,2838.5,2839,2839.5,2840,2840.5,2841,2841.5,2842,2842.5,2843,2843.5,2844,2844.5,2845,2845.5,2846,2846.5,2847,2847.5,2848,2848.5,2849,2849.5,2850,2850.5,2851,2851.5,2852,2852.5,2853,2853.5,2854,2854.5,2855,2855.5,2856,2856.5,2857,2857.5,2858,2858.5,2859,2859.5,2860,2860.5,2861,2861.5,2862,2862.5,2863,2863.5,2864,2864.5,2865,2865.5,2866,2866.5,2867,2867.5,2868,2868.5,2869,2869.5,2870,2870.5,2871,2871.5,2872,2872.5,2873,2873.5,2874,2874.5,2875,2875.5,2876,2876.5,2877,2877.5,2878,2878.5,2879,2879.5,2880,2880.5,2881,2881.5,2882,2882.5,2883,2883.5,2884,2884.5,2885,2885.5,2886,2886.5,2887,2887.5,2888,2888.5,2889,2889.5,2890,2890.5,2891,2891.5,2892,2892.5,2893,2893.5,2894,2894.5,2895,2895.5,2896,2896.5,2897,2897.5,2898,2898.5,2899,2899.5,2900,2900.5,2901,2901.5,2902,2902.5,2903,2903.5,2904,2904.5,2905,2905.5,2906,2906.5,2907,2907.5,2908,2908.5,2909,2909.5,2910,2910.5,2911,2911.5,2912,2912.5,2913,2913.5,2914,2914.5,2915,2915.5,2916,2916.5,2917,2917.5,2918,2918.5,2919,2919.5,2920,2920.5,2921,2921.5,2922,2922.5,2923,2923.5,2924,2924.5,2925,2925.5,2926,2926.5,2927,2927.5,2928,2928.5,2929,2929.5,2930,2930.5,2931,2931.5,2932,2932.5,2933,2933.5,2934,2934.5,2935,2935.5,2936,2936.5,2937,2937.5,2938,2938.5,2939,2939.5,2940,2940.5,2941,2941.5,2942,2942.5,2943,2944,2944,2944.5,2945,2945.5,2946,2946.5,2947,2947.5,2948,2948.5,2949,2949.5,2950,2950.5,2951,2951.5,2952,2952.5,2953,2953.5,2954,2954.5,2955,2955.5,2956,2956.5,2957,2957.5,2958,2958.5,2959,2959.5,2960,2960.5,2961,2961.5,2962,2962.5,2963,2963.5,2964,2964.5,2965,2965.5,2966,2966.5,2967,2967.5,2968,2968.5,2969,2969.5,2970,2970.5,2971,2971.5,2972,2972.5,2973,2973.5,2974,2974.5,2975,2975.5,2976,2976.5,2977,2977.5,2978,2978.5,2979,2979.5,2980,2980.5,2981,2981.5,2982,2982.5,2983,2983.5,2984,2984.5,2985,2985.5,2986,2986.5,2987,2987.5,2988,2988.5,2989,2989.5,2990,2990.5,2991,2991.5,2992,2992.5,2993,2993.5,2994,2994.5,2995,2995.5,2996,2996.5,2997,2997.5,2998,2998.5,2999,2999.5,3000,3000.5,3001,3001.5,3002,3002.5,3003,3003.5,3004,3004.5,3005,3005.5,3006,3006.5,3007,3007.5,3008,3008.5,3009,3009.5,3010,3010.5,3011,3011.5,3012,3012.5,3013,3013.5,3014,3014.5,3015,3015.5,3016,3016.5,3017,3017.5,3018,3018.5,3019,3019.5,3020,3020.5,3021,3021.5,3022,3022.5,3023,3023.5,3024,3024.5,3025,3025.5,3026,3026.5,3027,3027.5,3028],\"x\":[0.21558187896856,0.23729796686232,0.25847785505499,0.44748824968583,0.13863722186352,0.12228313098057,0.11558063471707,0.16732390587132,0.11745733367085,0.20056828733831,0.17965649899617,0.14855691633351,0.06598216236713,0.37563748974106,0.55472818990191,0.23434886850637,-0.0029194992216998,-0.15734501313285,-0.14849771806503,-0.29729313511483,-0.34313820955721,-0.36029659999178,-0.15385971507583,-0.08603045288916,-0.21820367920548,0.0019062980880239,0.18662709511022,0.34292930797515,0.55874968766001,0.66947492593311,0.48341362965821,0.042121275669053,-0.12570923076911,-0.40533737488253,-0.7493094831256,-0.49541892466404,0.090647348616828,0.69521251158497,0.88315050681364,0.2759043453401,-0.072893560212691,0.11450823531491,0.043997974622834,-0.33214611568506,-0.70024721047675,-0.89408340241731,-0.62759215098035,-0.24420936470788,0.1557956122981,0.47671113339471,0.46786383832688,0.49842722128846,0.1624981085616,-0.26941075065865,-0.37102059401339,-0.6018545653285,-0.69005941615622,-0.38013598893175,-0.2190079787571,-0.40077967742335,-0.70185580957999,-0.66539422990652,-0.58791337310041,-0.22276137666466,-0.12302823226371,-0.36565859700258,-0.19273419340416,-0.38469368639094,0.043193675071214,0.58877687092051,1.2335570114697,1.2410638072848,1.0107660356708,0.65446133430286,-0.20855208458603,-0.62812835068143,-0.98255635309557,-0.84689782872223,-0.76888077221504,-0.96486176295992,-1.0007871429323,-0.95413776893831,-0.63912044455358,-0.4144527698009,-0.26780215155541,-0.026244186218697,0.17349020243375,0.22362487448477,0.30888062695655,0.094132646673851,-0.10238454377211,-0.12597733061965,-0.23107247203141,0.24507286252798,1.0284606258064,1.1115715794739,0.98985424732864,0.49440572353036,0.30968492650817,-0.066191063949186,-0.21257358234413,-0.29890173421808,-0.48523113034351,-0.039917278596247,-0.04393877635435,-0.04501117575651,-0.014983992496009,0.10163944248898,0.40351987419724,0.73864468737248,0.70057450859577,0.51638991127466,0.51290461321764,0.61156535821643,0.54319989632868,0.58341487390971,0.38099948675186,0.41799726612641,0.22228437523206,0.13086232619786,0.021477587177458,0.18689519496076,0.18421419645536,-0.0098900953357447,0.23327646910421,0.39601307838211,0.44078575342232,0.5413231973749,0.30030143173926,0.26678895042174,0.36571779527107,0.6860971166666,0.41906966552857,-0.62276635367063,-0.93510267954996,-0.9174080894143,-1.1141933797108,-1.2313530143969,-1.3133915686622,-1.3099062706052,-1.3249198622354,-1.2930159800211,-1.3613814419089,-1.0723698030265,-0.70560920748755,-0.548502695071,-0.631881748589,-0.65332973663221,-0.71016690494673,-0.43697315724628,-0.049836973066234,0.12281933068165,0.36679019467323,0.74722388258977,0.69038671427524,0.28073014264983,0.18689519496076,0.16812820542294,0.40700517225426,0.91210529067199,0.91156909097091,0.80057575284726,0.63086854745532,0.62979614805316,0.29252653607359,0.3812675866024,-0.042866376952189,-0.040989677998408,-0.13455652583694,-0.19890048996658,-0.18522739758903,-0.28871393989755,-0.14394002060584,0.25177535879149,0.25392015759581,0.46840003802796,0.39038298152077,0.016115590166654,-0.50158522122646,-1.0348358239509,-1.395698222778,-1.3903362257672,-1.3731778353326,-1.4029369187426,-1.4351089008074,-1.3144639680643,-1.1924785360685,-1.0948901904719,-0.93483457969942,-0.72571669627807,-0.67558202422705,-0.67719062333029,-0.80855955009499,-0.83215233694252,-0.23536206964005,0.38287618570564,0.47966023175065,0.52711390529627,0.58046577555376,0.77644676629865,0.47429823473985,0.38609338391212,0.36732639437431,0.42872126014801,0.46705953877526,0.29842473278548,0.22148007568044,0.14292681947217,0.15150601468945,0.20298118599317,0.2732233468347,0.63113664730586,0.66598962787609,0.36759449422485,0.15043361528729,-0.18227829923309,-0.025171786816536,0.0045872965934257,0.17804789989293,0.53944649842111,0.74641958303815,0.68931431487308,0.59681986643672,0.42201876388451,-0.1136447374948,-0.97880295518801,-1.3267965611892,-1.4715704804809,-1.4654041839185,-1.4584335878044,-1.4404708978182,-1.4061541169491,-1.4377898993128,-1.4396665982666,-1.3973068218813,-1.1798778430932,-0.40506927503199,0.22657397284071,0.31290212471465,-0.12249203256263,-0.029729484275719,-0.19327039310524,-0.19514709205902,-0.25493335872948,-0.071016861258909,-0.01766499100141,0.53783789931787,0.61317395731967,0.53917839857057,0.081263853847921,-0.1149852367475,-0.21391408159683,-0.14474432015746,-0.25144806067246,-0.089515750946183,0.14024582096676,0.17885219944455,0.22764637224287,0.55901778751055,0.82658143834966,0.94266867363357,1.2981690754499,1.3485718473514,1.2086237253694,0.18099699824887,-0.93590697910158,-1.3785398323434,-1.4257254060385,-1.4058860170985,-1.3600409426562,-1.0367125229047,-0.6072165623393,-0.53670630164723,-0.67504582452597,-0.38737468489634,-0.021150289058433,0.41370766851776,0.35901529900756,0.70111070829685,0.98878184792648,0.68904621502254,0.72765259350033,0.61076105866481,0.82470473939588,0.86572401652853,0.83355203446371,0.87564371099852,1.0836891950177,1.3072844703682,1.3338263555717,-0.16217081044258,-0.67129242661841,-0.84984692707818,-0.85923042184708,-0.79756745622284,-0.45037814977329,-0.4198147668117,-0.26270825439515,-0.17209050491256,0.079923354595221,0.31397452411681,4.4341330272185,4.4341330272185,5.471143249108,2.5451014803123,0.86036201951773,0.4072732721048,0.4072732721048,0.5793933761516,1.2501792022032,1.6174759974432,1.6499160793586,1.5507191346587,1.2311441128148,1.0981665869469,0.712102802169,0.60834816000994,0.61451445657237,0.39976647628967,0.44293055222664,0.44882874893853,0.49681862218522,0.46303804101716,0.42630836149315,0.47134913638391,0.50941931516061,0.43756855521584,0.28314304130469,0.078046655641439,0.0078044947999081,0.24212376417204,0.34266120812461,0.43006175940072,0.62255745208858,0.52309240753816,0.56411168467081,0.48287742995713,0.39413637942833,0.47858783234849,0.41451196806938,0.41478006791992,0.50834691575845,0.57027798123324,0.67430072324283,0.72121819708737,0.80459725060537,0.75446257855435,0.78020016420621,0.44963304849015,0.53703359976625,0.52872250439951,0.48877562666902,0.40030267599075,0.37134789213241,0.4126352691156,0.39172348077347,0.57858907659998,0.38368048525726,0.3225537193341,0.29762043323386,0.38931058211861,0.37402889063781,0.4633061408677,0.46384234056878,0.41558436747154,0.4112947698629,0.49521002308198,0.44641585028367,-0.34796400686693,-0.98443305204935,-1.1889932380115,-1.3713011363789,-1.3707649366778,-1.4745195788368,-1.4857797725595,-1.5048148619479,-1.4128566132126,-1.0203584320217,-0.53617010194615,-0.10935513988616,-0.1369694244918,-0.7219632983705,-1.0576243112468,-1.2916754807684,-1.1077589832978,-1.0265247285842,-0.87880171093652,-0.89301100301515,-0.73322349209319,-0.67290102572165,-0.70292820898215,-0.79327785861419,-0.7426069868621,-0.70748590644133,-0.71874610016402,-0.74743278417182,-0.60909326129308,-0.5471621958183,-0.47128993811542,-0.63107744903738,-0.63107744903738,-0.60533986338552,-0.58737717339932,-0.55037939402478,-0.63080934918684,-0.47665193512622,-0.53965540000317,-0.45600824663463,-0.5045343195824,-0.52812710642994,-0.61472335815442,-0.51525831360401,-0.36351379819826,0.13622432320866,1.5257858485585,5.4850844413361,7.7569625748137,7.8215746387939,4.2515570290007,1.2338251113202,0.29547563442954,-0.11659383585074,-0.52410560867184,-0.4924698263081,-0.4498419500722,-0.33589951359262,-0.23589826934113,-0.32303072076669,-0.42437246427089,-0.46619604095516,-0.42222766546656,-0.38040408878229,-0.51606261315563,-0.37021629446177,-0.41927856711062,-0.51418591420185,-0.16029411148879,-0.20050908906982,-0.021150289058433,0.12791322784192,0.11933403262463,0.056330567747683,0.27778104429388,0.30807632740493,0.73569558901654,0.6260427501456,-0.48013723318325,-0.58013847743474,-0.4090907727901,-0.50828771748997,-0.98202015339449,-1.2308168146958,-1.1013245868849,-1.0265247285842,-1.091941092116,-1.0117792368045,-0.79515455756798,-0.8806784098903,-0.8806784098903,-0.86325191960519,-0.90105399853135,-0.8806784098903,-1.1112442813549,-1.1557488565445,-1.3254560619365,-1.3804165312972,-1.3804165312972,-1.4182186102234,-1.2726403913801,-0.98845454980746,-0.58201517638852]},\"column_names\":[\"y\",\"x\"],\"cont_ranges\":{},\"discrete_ranges\":{},\"selected\":[],\"id\":\"3341b4ae-cbb7-4b06-cb09-af6b68284b67\",\"doc\":null,\"tags\":[]}},{\"id\":\"4790005a-184c-44cd-c430-d44d8e4487c9\",\"type\":\"Line\",\"attributes\":{\"fill_alpha\":{\"units\":\"data\",\"value\":0.2},\"line_alpha\":{\"units\":\"data\",\"value\":1},\"doc\":null,\"size\":{\"units\":\"screen\",\"value\":10},\"fill_color\":{\"value\":\"red\"},\"line_color\":{\"value\":\"red\"},\"x\":{\"units\":\"data\",\"field\":\"x\"},\"id\":\"4790005a-184c-44cd-c430-d44d8e4487c9\",\"y\":{\"units\":\"data\",\"field\":\"y\"},\"tags\":[]}},{\"id\":\"851d1b8b-11ef-4d4f-cd56-15c4c5291a50\",\"type\":\"Line\",\"attributes\":{\"fill_alpha\":{\"units\":\"data\",\"value\":0.2},\"line_alpha\":{\"units\":\"data\",\"value\":1},\"doc\":null,\"size\":{\"units\":\"screen\",\"value\":10},\"fill_color\":{\"value\":\"red\"},\"line_color\":{\"value\":\"red\"},\"x\":{\"units\":\"data\",\"field\":\"x\"},\"id\":\"851d1b8b-11ef-4d4f-cd56-15c4c5291a50\",\"y\":{\"units\":\"data\",\"field\":\"y\"},\"tags\":[]}},{\"id\":\"edb83bf6-05e3-44b6-c4a2-4de8e78dc2eb\",\"type\":\"GlyphRenderer\",\"attributes\":{\"name\":null,\"nonselection_glyph\":{\"type\":\"Line\",\"id\":\"851d1b8b-11ef-4d4f-cd56-15c4c5291a50\"},\"doc\":null,\"server_data_source\":null,\"data_source\":{\"type\":\"ColumnDataSource\",\"id\":\"3341b4ae-cbb7-4b06-cb09-af6b68284b67\"},\"glyph\":{\"type\":\"Line\",\"id\":\"4790005a-184c-44cd-c430-d44d8e4487c9\"},\"selection_glyph\":null,\"id\":\"edb83bf6-05e3-44b6-c4a2-4de8e78dc2eb\",\"tags\":[]}},{\"id\":\"9ad64c8d-0dc1-490d-c9da-0dd82bac1e91\",\"type\":\"ColumnDataSource\",\"attributes\":{\"data\":{\"y\":[2793,2793.5,2794,2794.5,2795,2795.5,2796,2796.5,2797,2797.5,2798,2798.5,2799,2799.5,2800,2800.5,2801,2801.5,2802,2802.5,2803,2803.5,2804,2804.5,2805,2805.5,2806,2806.5,2807,2807.5,2808,2808.5,2809,2809.5,2810,2810.5,2811,2811.5,2812,2812.5,2813,2813.5,2814,2814.5,2815,2815.5,2816,2816.5,2817,2817.5,2818,2818.5,2819,2819.5,2820,2820.5,2821,2821.5,2822,2822.5,2823,2823.5,2824,2824.5,2825,2825.5,2826,2826.5,2827,2827.5,2828,2828.5,2829,2829.5,2830,2830.5,2831,2831.5,2832,2832.5,2833,2833.5,2834,2834.5,2835,2835.5,2836,2836.5,2837,2837.5,2838,2838.5,2839,2839.5,2840,2840.5,2841,2841.5,2842,2842.5,2843,2843.5,2844,2844.5,2845,2845.5,2846,2846.5,2847,2847.5,2848,2848.5,2849,2849.5,2850,2850.5,2851,2851.5,2852,2852.5,2853,2853.5,2854,2854.5,2855,2855.5,2856,2856.5,2857,2857.5,2858,2858.5,2859,2859.5,2860,2860.5,2861,2861.5,2862,2862.5,2863,2863.5,2864,2864.5,2865,2865.5,2866,2866.5,2867,2867.5,2868,2868.5,2869,2869.5,2870,2870.5,2871,2871.5,2872,2872.5,2873,2873.5,2874,2874.5,2875,2875.5,2876,2876.5,2877,2877.5,2878,2878.5,2879,2879.5,2880,2880.5,2881,2881.5,2882,2882.5,2883,2883.5,2884,2884.5,2885,2885.5,2886,2886.5,2887,2887.5,2888,2888.5,2889,2889.5,2890,2890.5,2891,2891.5,2892,2892.5,2893,2893.5,2894,2894.5,2895,2895.5,2896,2896.5,2897,2897.5,2898,2898.5,2899,2899.5,2900,2900.5,2901,2901.5,2902,2902.5,2903,2903.5,2904,2904.5,2905,2905.5,2906,2906.5,2907,2907.5,2908,2908.5,2909,2909.5,2910,2910.5,2911,2911.5,2912,2912.5,2913,2913.5,2914,2914.5,2915,2915.5,2916,2916.5,2917,2917.5,2918,2918.5,2919,2919.5,2920,2920.5,2921,2921.5,2922,2922.5,2923,2923.5,2924,2924.5,2925,2925.5,2926,2926.5,2927,2927.5,2928,2928.5,2929,2929.5,2930,2930.5,2931,2931.5,2932,2932.5,2933,2933.5,2934,2934.5,2935,2935.5,2936,2936.5,2937,2937.5,2938,2938.5,2939,2939.5,2940,2940.5,2941,2941.5,2942,2942.5,2943,2944,2944,2944.5,2945,2945.5,2946,2946.5,2947,2947.5,2948,2948.5,2949,2949.5,2950,2950.5,2951,2951.5,2952,2952.5,2953,2953.5,2954,2954.5,2955,2955.5,2956,2956.5,2957,2957.5,2958,2958.5,2959,2959.5,2960,2960.5,2961,2961.5,2962,2962.5,2963,2963.5,2964,2964.5,2965,2965.5,2966,2966.5,2967,2967.5,2968,2968.5,2969,2969.5,2970,2970.5,2971,2971.5,2972,2972.5,2973,2973.5,2974,2974.5,2975,2975.5,2976,2976.5,2977,2977.5,2978,2978.5,2979,2979.5,2980,2980.5,2981,2981.5,2982,2982.5,2983,2983.5,2984,2984.5,2985,2985.5,2986,2986.5,2987,2987.5,2988,2988.5,2989,2989.5,2990,2990.5,2991,2991.5,2992,2992.5,2993,2993.5,2994,2994.5,2995,2995.5,2996,2996.5,2997,2997.5,2998,2998.5,2999,2999.5,3000,3000.5,3001,3001.5,3002,3002.5,3003,3003.5,3004,3004.5,3005,3005.5,3006,3006.5,3007,3007.5,3008,3008.5,3009,3009.5,3010,3010.5,3011,3011.5,3012,3012.5,3013,3013.5,3014,3014.5,3015,3015.5,3016,3016.5,3017,3017.5,3018,3018.5,3019,3019.5,3020,3020.5,3021,3021.5,3022,3022.5,3023,3023.5,3024,3024.5,3025,3025.5,3026,3026.5,3027,3027.5,3028],\"x\":[4.0185517982171,4.0056703776369,3.9927889570567,3.9799075364764,3.9455570815959,3.8983252061351,3.8725623649747,3.8510933306743,3.8467995238143,3.8081552620736,3.7437481591726,3.6707534425514,3.5762896916298,3.4732383269881,3.3959498035069,3.1726718467832,3.0481514478412,2.9622753106398,2.8892805940186,2.8248734911175,2.7518787744963,2.6788840578751,2.6445336029946,2.6359459892744,2.6531212167147,2.6874716715953,2.6874716715953,2.6617088304348,2.6531212167147,2.7046468990355,2.7862292293769,2.8892805940186,3.0524452547012,3.1855532673634,3.284310825145,3.4174188378072,3.4990011681486,3.5505268504694,3.5634082710496,3.524764009309,3.4431816789676,3.404537417227,3.464650713268,3.8639747512545,4.1817164588997,4.439344870504,4.7012670889683,5.0962973200947,5.4569770963406,5.6544922119039,5.7360745422452,5.6802550530643,5.538559426682,5.3410443111187,5.2551681739173,5.1349415818354,4.928838852552,4.7141485095485,4.503751973405,4.2933554372616,4.1688350383195,4.0958403216983,4.0700774805379,4.0486084462376,4.0872527079782,4.2160669137803,4.3620563470227,4.5423962351457,4.7699679987294,4.9503078868523,5.0791220926545,5.2036424915965,5.3410443111187,5.4956213580813,5.723193121665,5.7876002245661,5.7661311902657,5.7103117010848,5.6244355638834,5.4827399375011,5.3238690836785,5.2165239121767,5.1349415818354,5.0318902171937,4.9245450456919,4.8343751016304,4.8129060673301,4.8773131702311,5.0619468652142,5.1692920367159,5.1177663543951,4.9717769211527,4.7270299301287,4.4049944156234,4.2289483343605,4.1130155491386,4.0228456050771,3.9155004335754,3.7480419660326,3.6063463396503,3.5762896916298,3.6063463396503,3.6793410562715,3.6707534425514,3.5977587259302,3.4990011681486,3.3830683829267,3.2971922457253,3.2542541771245,3.2413727565443,3.2542541771245,3.284310825145,3.3186612800256,3.3186612800256,3.2757232114249,3.1855532673634,3.035270027261,2.8892805940186,2.7604663882165,2.6015955343939,2.485662749172,2.4427246805713,2.4598999080115,2.5157193971924,2.6187707618341,2.7862292293769,3.0052133792405,3.1855532673634,3.3530117349062,3.4818259407083,3.5204702024489,3.5548206573295,3.8682685581146,4.0357270256574,4.1860102657598,4.3620563470227,4.6153909517669,5.0877097063746,5.5943789158629,6.0924605116311,6.7150625063413,7.2002626815292,7.4020716039525,7.4578910931334,7.5222981960345,7.5180043891744,7.3376645010515,7.007041372826,6.5304288113582,5.907826816648,5.3152814699583,4.868725556511,4.6282723723471,4.443638677364,4.2332421412206,4.0056703776369,3.7523357728927,3.5762896916298,3.4732383269881,3.4217126446673,3.4088312240871,3.4002436103669,3.3830683829267,3.344424121186,3.3315427006058,3.3658931554864,3.4388878721076,3.5677020779097,3.6965162837118,3.7609233866129,3.7609233866129,3.6578720219712,3.4990011681486,3.3959498035069,3.3229550868857,3.3143674731655,3.3959498035069,3.4990011681486,3.6020525327902,3.7480419660326,3.9842013433365,4.3749377676029,4.8386689084905,5.3839823797194,5.9207082372282,6.1912180694127,6.2040994899929,6.1053419322113,5.9550586921088,5.7360745422452,5.4956213580813,5.2165239121767,4.9460140799923,4.6540352135075,4.3448811195824,4.1044279354185,3.9498508884559,3.8253304895139,3.6750472494114,3.5677020779097,3.5204702024489,3.4947073612885,3.464650713268,3.4388878721076,3.4174188378072,3.3787745760666,3.3186612800256,3.2671355977048,3.2327851428242,3.2156099153839,3.1898470742235,3.1726718467832,3.1726718467832,3.1726718467832,3.1898470742235,3.2284913359641,3.2585479839846,3.2456665634044,3.2241975291041,3.1898470742235,3.159790426203,3.2027284948037,3.3186612800256,3.404537417227,3.4603569064079,3.5161763955888,3.524764009309,3.524764009309,3.5634082710496,3.5934649190701,3.5719958847698,3.5290578161691,3.4603569064079,3.344424121186,3.2456665634044,3.2113161085238,3.2284913359641,3.284310825145,3.2971922457253,3.2671355977048,3.2113161085238,3.1254399713224,3.0867957095818,3.0867957095818,3.0825019027217,3.0610328684214,3.0180947998207,2.9708629243599,2.9279248557592,2.8892805940186,2.8377549116977,2.7776416156567,2.7218221264758,2.6874716715953,2.6617088304348,2.6445336029946,2.6445336029946,2.670296444155,2.6874716715953,2.7218221264758,2.7432911607762,2.8076982636772,2.8978682077387,3.039563834121,3.1984346879436,3.3530117349062,3.5204702024489,3.7308667385924,4.0400208325174,4.3663501538828,4.5080457802651,4.4951643596849,4.3105306647019,4.0400208325174,3.7523357728927,3.5290578161691,3.344424121186,3.1512028124829,2.9923319586603,2.8892805940186,2.8592239459981,2.8463425254179,2.8463425254179,2.8463425254179,2.8291672979776,2.7991106499571,2.7518787744963,2.7046468990355,2.6874716715953,2.7046468990355,2.8162858773974,2.8763991734384,2.9408062763394,3.0481514478412,3.1726718467832,3.2585479839846,3.3186612800256,3.3315427006058,3.3186612800256,3.2971922457253,3.2971922457253,3.3787745760666,3.3787745760666,3.4775321338482,3.6278153739507,3.7437481591726,3.8124490689337,3.8124490689337,3.833918103234,3.7652171934729,3.6321091808107,3.5075887818687,3.3959498035069,3.2456665634044,3.1125585507422,3.0266824135408,2.9493938900596,2.8892805940186,2.8892805940186,2.9064558214588,2.9279248557592,2.9622753106398,2.9923319586603,3.0180947998207,3.0610328684214,3.1254399713224,3.1898470742235,3.2284913359641,3.2671355977048,3.2971922457253,3.3315427006058,3.3530117349062,3.3530117349062,3.3487179280461,3.344424121186,3.3358365074659,3.3315427006058,3.344424121186,3.3530117349062,3.3615993486263,3.344424121186,3.284310825145,3.2284913359641,3.1898470742235,3.1512028124829,3.1254399713224,3.1125585507422,3.099677130162,3.1082647438822,3.1469090056228,3.1898470742235,3.2456665634044,3.3229550868857,3.3873621897867,3.4217126446673,3.4474754858277,3.464650713268,3.4732383269881,3.4775321338482,3.4775321338482,3.4818259407083,3.464650713268,3.4388878721076,3.404537417227,3.3787745760666,3.3830683829267,3.4990011681486,3.6750472494114,3.8596809443945,4.0314332187973,4.2074793000602,4.4736953253845,4.9202512388318,5.233699139617,5.3882761865795,5.3882761865795,5.2294053327569,5.0619468652142,4.9503078868523,4.868725556511,4.7785556124495,4.684091861528,4.5767466900262,4.4822829391047,4.4651077116644,4.4951643596849,4.5166333939852,4.5295148145654,4.5466900420057,4.5681590763061,4.6153909517669,4.688385668388,4.7699679987294,4.8816069770912,4.9846583417329,5.0576530583541,5.1091787406749,5.1564106161357,5.1864672641562,5.2036424915965,5.2036424915965,5.2165239121767,5.2294053327569,5.233699139617,5.2422867533371,5.2551681739173,5.2637557876375,5.2723434013576,5.2895186287979,5.3024000493781,5.3195752768184,5.3410443111187,5.3281628905385,5.2637557876375,5.1864672641562,5.1177663543951,5.0447716377739,5.0147149897534,5.0061273760333,5.0018335691732,5.0018335691732,5.0233026034735,5.0748282857944,5.1392353886954,5.2122301053166,5.353925731699,5.3839823797194,5.3968638002997,5.4011576071597,5.4011576071597,5.4011576071597,5.3968638002997,5.3839823797194,5.3367505042587,5.2680495944975,5.1907610710163,5.0962973200947,4.9846583417329,4.8730193633711,4.7570865781492,4.6712104409478,4.5939219174665,4.5252210077054,4.499458166545,4.4951643596849,4.4779891322446,4.439344870504,4.4135820293435,4.3921129950432,4.3448811195824,4.2718864029612,4.2203607206404,4.19889168634,4.1903040726199,4.2117731069202,4.2632987892411,4.3148244715619,4.3749377676029,4.3749377676029,4.4479324842241,4.503751973405,4.5338086214255,4.563865269446,4.5896281106064,4.6153909517669,4.6368599860672,4.6368599860672,4.6626228272276,4.688385668388,4.6926794752481,4.6626228272276]},\"column_names\":[\"y\",\"x\"],\"cont_ranges\":{},\"discrete_ranges\":{},\"selected\":[],\"id\":\"9ad64c8d-0dc1-490d-c9da-0dd82bac1e91\",\"doc\":null,\"tags\":[]}},{\"id\":\"88fe02b4-c305-4443-c4bc-51a48e8ab53c\",\"type\":\"Line\",\"attributes\":{\"fill_alpha\":{\"units\":\"data\",\"value\":0.2},\"line_alpha\":{\"units\":\"data\",\"value\":1},\"doc\":null,\"size\":{\"units\":\"screen\",\"value\":10},\"fill_color\":{\"value\":\"blue\"},\"line_color\":{\"value\":\"blue\"},\"x\":{\"units\":\"data\",\"field\":\"x\"},\"id\":\"88fe02b4-c305-4443-c4bc-51a48e8ab53c\",\"y\":{\"units\":\"data\",\"field\":\"y\"},\"tags\":[]}},{\"id\":\"3de3aa81-2bc2-4514-c55b-552a597be5ee\",\"type\":\"Line\",\"attributes\":{\"fill_alpha\":{\"units\":\"data\",\"value\":0.2},\"line_alpha\":{\"units\":\"data\",\"value\":1},\"doc\":null,\"size\":{\"units\":\"screen\",\"value\":10},\"fill_color\":{\"value\":\"blue\"},\"line_color\":{\"value\":\"blue\"},\"x\":{\"units\":\"data\",\"field\":\"x\"},\"id\":\"3de3aa81-2bc2-4514-c55b-552a597be5ee\",\"y\":{\"units\":\"data\",\"field\":\"y\"},\"tags\":[]}},{\"id\":\"30478146-1415-43bc-c354-2f11b7f63741\",\"type\":\"GlyphRenderer\",\"attributes\":{\"name\":null,\"nonselection_glyph\":{\"type\":\"Line\",\"id\":\"3de3aa81-2bc2-4514-c55b-552a597be5ee\"},\"doc\":null,\"server_data_source\":null,\"data_source\":{\"type\":\"ColumnDataSource\",\"id\":\"9ad64c8d-0dc1-490d-c9da-0dd82bac1e91\"},\"glyph\":{\"type\":\"Line\",\"id\":\"88fe02b4-c305-4443-c4bc-51a48e8ab53c\"},\"selection_glyph\":null,\"id\":\"30478146-1415-43bc-c354-2f11b7f63741\",\"tags\":[]}},{\"id\":\"67fedde7-77f3-4be4-cbee-f8d7e302e1f3\",\"type\":\"ColumnDataSource\",\"attributes\":{\"data\":{\"y\":[2793,2793.5,2794,2794.5,2795,2795.5,2796,2796.5,2797,2797.5,2798,2798.5,2799,2799.5,2800,2800.5,2801,2801.5,2802,2802.5,2803,2803.5,2804,2804.5,2805,2805.5,2806,2806.5,2807,2807.5,2808,2808.5,2809,2809.5,2810,2810.5,2811,2811.5,2812,2812.5,2813,2813.5,2814,2814.5,2815,2815.5,2816,2816.5,2817,2817.5,2818,2818.5,2819,2819.5,2820,2820.5,2821,2821.5,2822,2822.5,2823,2823.5,2824,2824.5,2825,2825.5,2826,2826.5,2827,2827.5,2828,2828.5,2829,2829.5,2830,2830.5,2831,2831.5,2832,2832.5,2833,2833.5,2834,2834.5,2835,2835.5,2836,2836.5,2837,2837.5,2838,2838.5,2839,2839.5,2840,2840.5,2841,2841.5,2842,2842.5,2843,2843.5,2844,2844.5,2845,2845.5,2846,2846.5,2847,2847.5,2848,2848.5,2849,2849.5,2850,2850.5,2851,2851.5,2852,2852.5,2853,2853.5,2854,2854.5,2855,2855.5,2856,2856.5,2857,2857.5,2858,2858.5,2859,2859.5,2860,2860.5,2861,2861.5,2862,2862.5,2863,2863.5,2864,2864.5,2865,2865.5,2866,2866.5,2867,2867.5,2868,2868.5,2869,2869.5,2870,2870.5,2871,2871.5,2872,2872.5,2873,2873.5,2874,2874.5,2875,2875.5,2876,2876.5,2877,2877.5,2878,2878.5,2879,2879.5,2880,2880.5,2881,2881.5,2882,2882.5,2883,2883.5,2884,2884.5,2885,2885.5,2886,2886.5,2887,2887.5,2888,2888.5,2889,2889.5,2890,2890.5,2891,2891.5,2892,2892.5,2893,2893.5,2894,2894.5,2895,2895.5,2896,2896.5,2897,2897.5,2898,2898.5,2899,2899.5,2900,2900.5,2901,2901.5,2902,2902.5,2903,2903.5,2904,2904.5,2905,2905.5,2906,2906.5,2907,2907.5,2908,2908.5,2909,2909.5,2910,2910.5,2911,2911.5,2912,2912.5,2913,2913.5,2914,2914.5,2915,2915.5,2916,2916.5,2917,2917.5,2918,2918.5,2919,2919.5,2920,2920.5,2921,2921.5,2922,2922.5,2923,2923.5,2924,2924.5,2925,2925.5,2926,2926.5,2927,2927.5,2928,2928.5,2929,2929.5,2930,2930.5,2931,2931.5,2932,2932.5,2933,2933.5,2934,2934.5,2935,2935.5,2936,2936.5,2937,2937.5,2938,2938.5,2939,2939.5,2940,2940.5,2941,2941.5,2942,2942.5,2943,2944,2944,2944.5,2945,2945.5,2946,2946.5,2947,2947.5,2948,2948.5,2949,2949.5,2950,2950.5,2951,2951.5,2952,2952.5,2953,2953.5,2954,2954.5,2955,2955.5,2956,2956.5,2957,2957.5,2958,2958.5,2959,2959.5,2960,2960.5,2961,2961.5,2962,2962.5,2963,2963.5,2964,2964.5,2965,2965.5,2966,2966.5,2967,2967.5,2968,2968.5,2969,2969.5,2970,2970.5,2971,2971.5,2972,2972.5,2973,2973.5,2974,2974.5,2975,2975.5,2976,2976.5,2977,2977.5,2978,2978.5,2979,2979.5,2980,2980.5,2981,2981.5,2982,2982.5,2983,2983.5,2984,2984.5,2985,2985.5,2986,2986.5,2987,2987.5,2988,2988.5,2989,2989.5,2990,2990.5,2991,2991.5,2992,2992.5,2993,2993.5,2994,2994.5,2995,2995.5,2996,2996.5,2997,2997.5,2998,2998.5,2999,2999.5,3000,3000.5,3001,3001.5,3002,3002.5,3003,3003.5,3004,3004.5,3005,3005.5,3006,3006.5,3007,3007.5,3008,3008.5,3009,3009.5,3010,3010.5,3011,3011.5,3012,3012.5,3013,3013.5,3014,3014.5,3015,3015.5,3016,3016.5,3017,3017.5,3018,3018.5,3019,3019.5,3020,3020.5,3021,3021.5,3022,3022.5,3023,3023.5,3024,3024.5,3025,3025.5,3026,3026.5,3027,3027.5,3028],\"x\":[8.5120999370322,9.5169013345049,9.6571061806639,9.4467989114254,9.3533290139861,9.4701663857853,9.8440459755426,10.054353244781,9.9842508217016,10.14782314222,9.6571061806639,9.3065940652665,8.8392445780698,9.3065940652665,9.5402688088648,8.956081949869,8.4186300395929,8.2550577190741,7.8811781293168,7.7409732831578,7.4839310651997,7.6241359113586,7.6007684369988,7.7877082318775,7.6241359113586,7.5540334882792,7.4138286421202,7.9279130780364,8.8859795267895,9.5169013345049,9.4467989114254,8.8859795267895,8.6055698344715,8.5120999370322,8.7925096293502,9.0261843729485,8.8392445780698,9.4935338601451,9.8907809242622,9.8206785011827,9.4701663857853,9.6337387063041,10.2179255653,8.9093470011493,7.9045456036766,7.5306660139193,7.3904611677603,7.2736237959612,7.2268888472415,7.296991270321,7.4138286421202,7.717605808798,8.0213829754758,8.535467411392,8.2083227703544,7.4605635908398,7.0399490523629,7.3904611677603,8.4653649883126,9.1897566934673,9.6804736550238,9.9375158729819,10.054353244781,9.7505760781032,8.3251601421536,7.6241359113586,7.2035213728817,6.8763767318441,6.9231116805637,7.1100514754424,7.4138286421202,7.577400962639,7.6007684369988,7.5540334882792,7.0399490523629,7.0399490523629,6.8997442062039,7.0399490523629,6.7361718856851,6.7128044113252,6.7128044113252,6.6894369369654,6.4557621933671,6.6427019882458,7.2035213728817,8.1382203472749,8.7691421549904,8.8392445780698,8.4419975139527,7.9045456036766,7.5306660139193,7.0399490523629,6.8763767318441,6.6660694626056,6.6193345138859,7.6007684369988,8.2083227703544,8.4419975139527,8.3017926677937,8.81587710371,9.0028168985887,9.096286796028,9.1663892191075,9.2832265909066,9.4935338601451,9.5636362832246,9.0261843729485,8.4653649883126,7.6241359113586,7.8344431805971,8.3952625652331,9.2832265909066,9.2598591165468,8.81587710371,7.3437262190407,6.7128044113252,7.3904611677603,8.1382203472749,7.9512805523963,7.6241359113586,7.4605635908398,7.296991270321,7.2268888472415,7.156786424162,7.5540334882792,7.7877082318775,7.7409732831578,7.2268888472415,7.0399490523629,7.9512805523963,8.0914853985553,8.3485276165134,7.6942383344381,7.2035213728817,7.3437262190407,8.0447504498356,8.0213829754758,7.6007684369988,7.3670936934005,7.156786424162,7.296991270321,7.4138286421202,7.296991270321,7.1801538985219,6.9231116805637,7.1801538985219,7.156786424162,7.1801538985219,7.0399490523629,6.9698466292834,7.1801538985219,7.6241359113586,8.3952625652331,8.6523047831912,8.4419975139527,8.2083227703544,8.2784251934339,8.8626120524297,9.3299615396263,9.6103712319443,9.6337387063041,9.236491642187,9.0261843729485,8.8626120524297,8.7691421549904,8.5588348857519,8.3952625652331,8.4653649883126,8.1615878216348,7.8110757062373,7.4839310651997,7.43719611648,7.5306660139193,7.4605635908398,6.6660694626056,5.3107559497354,5.7313704882124,5.1939185779362,6.5725995651663,6.6427019882458,7.1801538985219,7.296991270321,7.5072985395595,7.4605635908398,7.4839310651997,7.3670936934005,7.3904611677603,7.2502563216014,7.3670936934005,7.43719611648,7.4839310651997,7.156786424162,7.1100514754424,7.5306660139193,8.3251601421536,9.096286796028,9.4000639627058,9.4000639627058,9.2131241678271,9.0028168985887,8.8392445780698,8.7457746806305,8.6289373088314,8.7925096293502,8.8859795267895,8.81587710371,8.6055698344715,8.2784251934339,8.2550577190741,8.1382203472749,8.1849552959946,8.2083227703544,8.3017926677937,8.3251601421536,8.3485276165134,8.2316902447142,8.1148528729151,7.9045456036766,7.9512805523963,8.1615878216348,8.3251601421536,8.0914853985553,7.6942383344381,7.0633165267227,6.7829068344047,6.7361718856851,6.6427019882458,6.7595393600449,7.016581578003,7.1100514754424,7.0633165267227,6.8997442062039,6.9231116805637,7.1100514754424,7.0399490523629,7.016581578003,7.5306660139193,8.0681179241954,8.2083227703544,7.7877082318775,7.6708708600783,7.6007684369988,7.7877082318775,7.9512805523963,7.9746480267561,8.1615878216348,8.535467411392,9.0729193216682,9.376696488346,8.9093470011493,8.6289373088314,7.9279130780364,7.6942383344381,7.2502563216014,7.2268888472415,7.3670936934005,7.577400962639,7.7877082318775,7.857810654957,7.8110757062373,8.0681179241954,8.2083227703544,9.0495518473083,9.4000639627058,9.1663892191075,8.1148528729151,6.9231116805637,6.5959670395261,6.5024971420868,6.7361718856851,7.0399490523629,7.0399490523629,7.1100514754424,7.5306660139193,7.9045456036766,8.5120999370322,8.7691421549904,8.9794494242288,8.7691421549904,8.1615878216348,8.0213829754758,8.1148528729151,8.7925096293502,8.9093470011493,8.9794494242288,9.4234314370656,9.8206785011827,9.7505760781032,10.521702731978,10.381497885819,8.1148528729151,7.6241359113586,7.296991270321,7.2268888472415,7.2736237959612,7.3904611677603,7.4138286421202,7.4839310651997,7.3904611677603,7.2736237959612,7.2035213728817,7.296991270321,7.296991270321,7.43719611648,7.577400962639,7.577400962639,7.2035213728817,7.2035213728817,7.016581578003,7.0866840010825,7.3670936934005,7.6475033857185,7.9512805523963,8.6289373088314,9.2832265909066,9.2131241678271,9.6804736550238,9.6337387063041,9.6804736550238,9.4935338601451,9.3533290139861,9.376696488346,9.4935338601451,9.6337387063041,9.4467989114254,9.3299615396263,9.376696488346,9.2598591165468,9.3299615396263,9.236491642187,9.3533290139861,9.0495518473083,9.1430217447476,9.4000639627058,9.6103712319443,9.4000639627058,9.1663892191075,9.1196542703878,9.0028168985887,9.0028168985887,8.8392445780698,8.6523047831912,8.7925096293502,9.0729193216682,9.7038411293836,10.2179255653,10.101088193501,9.7739435524631,9.3533290139861,9.0495518473083,8.9327144755092,9.0261843729485,9.0729193216682,9.0729193216682,9.1196542703878,8.7224072062707,8.7457746806305,8.8626120524297,8.7457746806305,8.5588348857519,8.535467411392,8.5588348857519,8.7457746806305,8.675672257551,8.7691421549904,9.376696488346,9.9842508217016,9.7038411293836,8.6289373088314,7.6475033857185,7.577400962639,7.43719611648,7.3437262190407,7.1100514754424,6.7361718856851,6.2220874497688,6.2220874497688,7.0633165267227,8.3952625652331,9.3065940652665,8.7925096293502,7.857810654957,7.3203587446808,7.016581578003,6.7128044113252,6.5492320908064,6.4090272446474,6.3155573472081,6.338924821568,6.5492320908064,6.6894369369654,6.7361718856851,6.7361718856851,6.7829068344047,6.7595393600449,6.8296417831244,6.6894369369654,6.7595393600449,6.6894369369654,6.8296417831244,6.8296417831244,6.7595393600449,6.8763767318441,6.9231116805637,7.2736237959612,7.2035213728817,7.1100514754424,7.0633165267227,7.2035213728817,7.2502563216014,7.3203587446808,7.2736237959612,7.296991270321,7.3203587446808,7.4138286421202,7.8110757062373,8.1849552959946,8.5120999370322,8.6055698344715,8.535467411392,8.3718950908732,8.1615878216348,7.9746480267561,7.9045456036766,7.9746480267561,8.0213829754758,8.0213829754758,7.9746480267561,7.8811781293168,7.857810654957,7.9279130780364,7.9980155011159,7.8811781293168,7.857810654957,7.7877082318775,7.857810654957,7.857810654957,8.0681179241954,8.0914853985553,8.1148528729151,8.0681179241954,8.2784251934339,8.535467411392,8.7691421549904,8.3952625652331,8.0213829754758,7.7409732831578,7.9279130780364,7.6942383344381,7.2035213728817,6.4791296677269,6.2688223984885,6.3155573472081,6.5959670395261,6.6427019882458,6.5725995651663,6.4090272446474,6.6660694626056,6.6660694626056,6.8296417831244,6.7829068344047,6.5258646164466,6.5725995651663,6.6894369369654,6.6427019882458,6.5492320908064,6.5492320908064,6.6660694626056,6.9698466292834,6.7829068344047,6.5725995651663]},\"column_names\":[\"y\",\"x\"],\"cont_ranges\":{},\"discrete_ranges\":{},\"selected\":[],\"id\":\"67fedde7-77f3-4be4-cbee-f8d7e302e1f3\",\"doc\":null,\"tags\":[]}},{\"id\":\"bf1c741c-5060-4927-c9b9-07391de6e8a4\",\"type\":\"Line\",\"attributes\":{\"fill_alpha\":{\"units\":\"data\",\"value\":0.2},\"line_alpha\":{\"units\":\"data\",\"value\":1},\"doc\":null,\"size\":{\"units\":\"screen\",\"value\":10},\"fill_color\":{\"value\":\"green\"},\"line_color\":{\"value\":\"green\"},\"x\":{\"units\":\"data\",\"field\":\"x\"},\"id\":\"bf1c741c-5060-4927-c9b9-07391de6e8a4\",\"y\":{\"units\":\"data\",\"field\":\"y\"},\"tags\":[]}},{\"id\":\"e4375cef-c895-46d0-c6a9-fab205519e72\",\"type\":\"Line\",\"attributes\":{\"fill_alpha\":{\"units\":\"data\",\"value\":0.2},\"line_alpha\":{\"units\":\"data\",\"value\":1},\"doc\":null,\"size\":{\"units\":\"screen\",\"value\":10},\"fill_color\":{\"value\":\"green\"},\"line_color\":{\"value\":\"green\"},\"x\":{\"units\":\"data\",\"field\":\"x\"},\"id\":\"e4375cef-c895-46d0-c6a9-fab205519e72\",\"y\":{\"units\":\"data\",\"field\":\"y\"},\"tags\":[]}},{\"id\":\"648b2e60-e405-4c40-cc5b-fff61141078a\",\"type\":\"GlyphRenderer\",\"attributes\":{\"name\":null,\"nonselection_glyph\":{\"type\":\"Line\",\"id\":\"e4375cef-c895-46d0-c6a9-fab205519e72\"},\"doc\":null,\"server_data_source\":null,\"data_source\":{\"type\":\"ColumnDataSource\",\"id\":\"67fedde7-77f3-4be4-cbee-f8d7e302e1f3\"},\"glyph\":{\"type\":\"Line\",\"id\":\"bf1c741c-5060-4927-c9b9-07391de6e8a4\"},\"selection_glyph\":null,\"id\":\"648b2e60-e405-4c40-cc5b-fff61141078a\",\"tags\":[]}},{\"id\":\"489e075e-014c-4ef5-ce93-ac111bcdfad3\",\"type\":\"ColumnDataSource\",\"attributes\":{\"data\":{\"y\":[2793,2793.5,2794,2794.5,2795,2795.5,2796,2796.5,2797,2797.5,2798,2798.5,2799,2799.5,2800,2800.5,2801,2801.5,2802,2802.5,2803,2803.5,2804,2804.5,2805,2805.5,2806,2806.5,2807,2807.5,2808,2808.5,2809,2809.5,2810,2810.5,2811,2811.5,2812,2812.5,2813,2813.5,2814,2814.5,2815,2815.5,2816,2816.5,2817,2817.5,2818,2818.5,2819,2819.5,2820,2820.5,2821,2821.5,2822,2822.5,2823,2823.5,2824,2824.5,2825,2825.5,2826,2826.5,2827,2827.5,2828,2828.5,2829,2829.5,2830,2830.5,2831,2831.5,2832,2832.5,2833,2833.5,2834,2834.5,2835,2835.5,2836,2836.5,2837,2837.5,2838,2838.5,2839,2839.5,2840,2840.5,2841,2841.5,2842,2842.5,2843,2843.5,2844,2844.5,2845,2845.5,2846,2846.5,2847,2847.5,2848,2848.5,2849,2849.5,2850,2850.5,2851,2851.5,2852,2852.5,2853,2853.5,2854,2854.5,2855,2855.5,2856,2856.5,2857,2857.5,2858,2858.5,2859,2859.5,2860,2860.5,2861,2861.5,2862,2862.5,2863,2863.5,2864,2864.5,2865,2865.5,2866,2866.5,2867,2867.5,2868,2868.5,2869,2869.5,2870,2870.5,2871,2871.5,2872,2872.5,2873,2873.5,2874,2874.5,2875,2875.5,2876,2876.5,2877,2877.5,2878,2878.5,2879,2879.5,2880,2880.5,2881,2881.5,2882,2882.5,2883,2883.5,2884,2884.5,2885,2885.5,2886,2886.5,2887,2887.5,2888,2888.5,2889,2889.5,2890,2890.5,2891,2891.5,2892,2892.5,2893,2893.5,2894,2894.5,2895,2895.5,2896,2896.5,2897,2897.5,2898,2898.5,2899,2899.5,2900,2900.5,2901,2901.5,2902,2902.5,2903,2903.5,2904,2904.5,2905,2905.5,2906,2906.5,2907,2907.5,2908,2908.5,2909,2909.5,2910,2910.5,2911,2911.5,2912,2912.5,2913,2913.5,2914,2914.5,2915,2915.5,2916,2916.5,2917,2917.5,2918,2918.5,2919,2919.5,2920,2920.5,2921,2921.5,2922,2922.5,2923,2923.5,2924,2924.5,2925,2925.5,2926,2926.5,2927,2927.5,2928,2928.5,2929,2929.5,2930,2930.5,2931,2931.5,2932,2932.5,2933,2933.5,2934,2934.5,2935,2935.5,2936,2936.5,2937,2937.5,2938,2938.5,2939,2939.5,2940,2940.5,2941,2941.5,2942,2942.5,2943,2944,2944,2944.5,2945,2945.5,2946,2946.5,2947,2947.5,2948,2948.5,2949,2949.5,2950,2950.5,2951,2951.5,2952,2952.5,2953,2953.5,2954,2954.5,2955,2955.5,2956,2956.5,2957,2957.5,2958,2958.5,2959,2959.5,2960,2960.5,2961,2961.5,2962,2962.5,2963,2963.5,2964,2964.5,2965,2965.5,2966,2966.5,2967,2967.5,2968,2968.5,2969,2969.5,2970,2970.5,2971,2971.5,2972,2972.5,2973,2973.5,2974,2974.5,2975,2975.5,2976,2976.5,2977,2977.5,2978,2978.5,2979,2979.5,2980,2980.5,2981,2981.5,2982,2982.5,2983,2983.5,2984,2984.5,2985,2985.5,2986,2986.5,2987,2987.5,2988,2988.5,2989,2989.5,2990,2990.5,2991,2991.5,2992,2992.5,2993,2993.5,2994,2994.5,2995,2995.5,2996,2996.5,2997,2997.5,2998,2998.5,2999,2999.5,3000,3000.5,3001,3001.5,3002,3002.5,3003,3003.5,3004,3004.5,3005,3005.5,3006,3006.5,3007,3007.5,3008,3008.5,3009,3009.5,3010,3010.5,3011,3011.5,3012,3012.5,3013,3013.5,3014,3014.5,3015,3015.5,3016,3016.5,3017,3017.5,3018,3018.5,3019,3019.5,3020,3020.5,3021,3021.5,3022,3022.5,3023,3023.5,3024,3024.5,3025,3025.5,3026,3026.5,3027,3027.5,3028],\"x\":[11.95134521894,12.073591105042,12.164805343134,12.177029931744,12.211822991635,12.227808992125,12.330307465857,12.328426759917,12.339710995557,12.384847938118,12.225928286185,12.097099929293,12.056664751582,12.518378059861,12.823992775117,12.712090771685,12.554111472721,12.567276414302,12.604890533102,12.509914883131,12.49392888264,12.429984880679,12.48358499997,12.556932531632,12.621816886563,12.47042005839,12.274826640626,12.541886884111,13.51515220808,14.226999406384,14.145188697992,13.170042668083,12.308679347547,11.485870498781,10.698795062876,10.700675768816,11.922194276869,13.032751134461,13.49916620759,13.108919725032,12.666953829124,12.715852183565,13.099516195332,11.98425757289,10.971497424181,10.574668470833,10.579370235683,10.652717767345,10.706317886636,10.711019651486,10.798472477698,10.91037448113,11.067413427123,11.389014142869,11.469884498291,11.4256879087,11.257364727066,11.191540019165,11.323189434968,11.715316623465,12.037857692182,12.256959934196,12.134714048093,11.926896041719,11.397477319599,11.389954495839,11.44355461513,11.497154734421,11.382431672079,11.226333079056,11.003469425161,10.854893655899,10.864297185599,10.959272835571,11.001588719221,10.885925303909,10.881223539059,10.874641068269,10.90943412816,10.953630717751,11.093743310283,11.277112139437,11.373028142379,11.238557667666,11.185897901345,11.340115788428,11.598712855183,11.751050036326,11.556396971532,11.116311781564,10.700675768816,10.471229644131,10.530471881242,11.552635559652,13.386323851188,14.722565421583,14.777105893844,13.804780922846,12.717732889505,12.073591105042,11.909029335289,12.020931338721,11.917492512019,11.916552159049,12.056664751582,12.173268519864,12.221226521335,12.554111472721,13.562169856581,14.078423637121,13.717328096634,12.951880779039,12.853143717187,13.222702434404,13.548064562031,13.52831714966,12.937775484489,12.695164418224,12.879473600348,12.964105367649,13.01488442803,12.944357955279,12.797662891956,12.379205820298,12.202419461935,12.666953829124,13.480359148189,13.557468091731,12.866308658768,11.925955688749,12.445970881169,14.192206346493,14.726326833464,12.834336657787,11.256424374096,10.596296589144,10.507903409962,10.504141998082,10.42233128969,10.301966109528,10.123299045224,10.009516335852,10.040547983863,10.154330693235,10.295383638738,10.265292343697,10.280337991218,10.278457285277,10.358387287729,10.480633173831,10.675286238625,11.184957548375,11.816874744227,12.337830289617,12.147878989674,11.671120033874,11.362684259708,11.648551562594,12.295514405966,12.843740187487,13.025228310701,12.765690890976,12.503332412341,12.206180873815,12.057605104552,11.877997687278,11.837562509568,11.753871095236,11.659835798234,11.475526616111,11.314726258238,11.327891199818,11.587428619543,12.295514405966,13.826409041156,16.065389462769,16.757489248703,15.647872744081,12.727136419205,10.787188242057,10.223916813016,10.260590578847,10.328295992688,10.460885761461,10.526710469362,10.584072000533,10.607580824784,10.599117648054,10.531412234212,10.537994705002,10.624507178244,10.739230240586,10.821040948978,11.051427426632,11.46518273344,11.837562509568,11.96262945458,11.97955580804,12.006826044171,12.058545457522,12.010587456051,11.905267923409,11.95980839567,12.164805343134,12.293633700026,12.268244169836,12.137535107003,12.075471810982,12.024692750601,12.033155927331,12.128131577303,12.399893585639,12.382967232178,12.275766993596,12.061366516432,11.95228557191,11.898685452619,11.829099332837,11.849787098178,12.020931338721,12.556932531632,13.834872217886,14.734790010194,14.576810711231,13.268779729935,12.007766397141,11.709674505645,11.790544861067,11.995541808531,12.185493108474,12.347233819317,12.391430408908,12.099920988203,11.797127331857,11.633505915074,11.743527212566,11.94194168924,11.928776747659,11.844144980358,11.704032387825,11.758572860086,11.930657453599,12.005885691201,12.060426163462,12.074531458012,12.067948987222,12.165745696104,12.429984880679,12.678238064764,12.640623945963,12.549409707871,12.46007617572,12.594546650432,12.531543001441,12.426223468799,12.314321465367,12.379205820298,12.413998880189,12.357577701988,12.196777344115,12.46195688166,13.275362200725,14.385919058317,14.645456478042,13.780331745625,12.618995827653,11.93535921845,11.560158383412,11.128536370174,10.825742713828,10.806935654428,10.92730083459,10.968676365271,11.212227784506,11.641969091804,12.220286168365,12.48358499997,12.788259362256,13.102337254242,13.716387743664,13.815124805516,13.554647032821,13.045916076041,13.116442548792,13.305453495766,13.118323254732,12.9876141919,13.231165611135,13.715447390694,14.406606823657,13.631755976362,12.431865586619,11.999303220411,12.069829693162,12.157282519374,12.124370165423,12.100861341173,12.117787694633,12.136594754033,12.116847341663,12.079233222862,11.856369568968,11.856369568968,11.599653208153,11.305322728537,11.178375077585,11.136059193934,11.136059193934,11.176494371645,11.164269783035,11.329771905758,11.999303220411,13.01770548694,13.484120560069,13.402309851678,13.085410900782,12.943417602309,12.880413953318,12.915207013208,12.855964776097,12.814589245417,12.857845482037,12.896399953808,13.066603841381,13.181326903724,13.105158313152,12.650967828633,12.290812641116,12.164805343134,12.303037229727,12.308679347547,12.395191820788,12.571978179152,12.807066421656,12.886056071138,12.776034773646,12.573858885092,12.554111472721,12.558813237572,12.49769029452,12.406476056429,12.662252064274,13.097635489392,13.612948916962,13.852738924317,14.03046563565,13.870605630747,13.537720679361,13.00736160427,12.777915479586,12.696104771194,12.694224065254,12.660371358334,12.574799238062,12.49016747076,12.619936180623,12.575739591032,12.390490055938,12.346293466347,12.430925233649,12.552230766781,12.668834535064,12.553171119751,12.342532054467,12.355696996048,13.471895971459,14.108514932162,13.626113858542,11.988959337741,10.91789730489,10.621686119334,10.593475530234,10.588773765383,10.783426830177,11.092802957313,11.283694610227,11.314726258238,11.345757906248,11.595891796273,11.550754853712,11.44825637998,11.218810255296,11.117252134534,11.211287431536,11.270529668647,11.311905199327,11.246080491426,11.236676961726,11.116311781564,10.983722012791,10.879342833119,10.846430479168,10.953630717751,11.028858955352,11.089041545433,11.015694013772,10.971497424181,10.967736012301,11.040143190992,11.110669663744,11.110669663744,11.150164488484,11.159568018185,11.089041545433,11.001588719221,11.004409778132,11.042964249902,11.046725661782,10.963974600421,10.960213188541,10.968676365271,10.992185189521,10.92824118756,10.865237538569,10.91601659895,11.149224135514,11.597772502213,12.015289220901,12.093338517413,11.824397567987,11.413463320089,11.239498020636,11.136999546904,11.176494371645,11.184957548375,11.271470021617,11.278052492407,11.228213784996,11.239498020636,11.246080491426,11.301561316657,11.316606964178,11.286515669137,11.270529668647,11.221631314206,11.376789554259,11.581786501723,11.852608157088,12.019990985751,11.999303220411,12.036917339211,12.144117577794,12.387668997028,12.505213118281,12.294574052996,11.869534510548,11.219750608266,11.483049439871,11.910910041229,12.219345815395,12.176089578774,12.023752397631,11.927836394689,11.840383568478,11.810292273437,11.691807799215,11.598712855183,11.317547317148,11.317547317148,11.164269783035,11.251722609246,11.645730503684,11.989899690711,12.039738398122,11.801829096707,11.540410971042,11.540410971042,11.266768256767,11.154866253334,11.110669663744,11.090922251373]},\"column_names\":[\"y\",\"x\"],\"cont_ranges\":{},\"discrete_ranges\":{},\"selected\":[],\"id\":\"489e075e-014c-4ef5-ce93-ac111bcdfad3\",\"doc\":null,\"tags\":[]}},{\"id\":\"4323d333-fe4b-47ae-c720-624cf01f3eae\",\"type\":\"Line\",\"attributes\":{\"fill_alpha\":{\"units\":\"data\",\"value\":0.2},\"line_alpha\":{\"units\":\"data\",\"value\":1},\"doc\":null,\"size\":{\"units\":\"screen\",\"value\":10},\"fill_color\":{\"value\":\"brown\"},\"line_color\":{\"value\":\"brown\"},\"x\":{\"units\":\"data\",\"field\":\"x\"},\"id\":\"4323d333-fe4b-47ae-c720-624cf01f3eae\",\"y\":{\"units\":\"data\",\"field\":\"y\"},\"tags\":[]}},{\"id\":\"1aa638fb-0aeb-4e45-cebe-45eea8d8a6e4\",\"type\":\"Line\",\"attributes\":{\"fill_alpha\":{\"units\":\"data\",\"value\":0.2},\"line_alpha\":{\"units\":\"data\",\"value\":1},\"doc\":null,\"size\":{\"units\":\"screen\",\"value\":10},\"fill_color\":{\"value\":\"brown\"},\"line_color\":{\"value\":\"brown\"},\"x\":{\"units\":\"data\",\"field\":\"x\"},\"id\":\"1aa638fb-0aeb-4e45-cebe-45eea8d8a6e4\",\"y\":{\"units\":\"data\",\"field\":\"y\"},\"tags\":[]}},{\"id\":\"a5b6de1d-d2b3-4e39-ce5e-d76a30234d47\",\"type\":\"GlyphRenderer\",\"attributes\":{\"name\":null,\"nonselection_glyph\":{\"type\":\"Line\",\"id\":\"1aa638fb-0aeb-4e45-cebe-45eea8d8a6e4\"},\"doc\":null,\"server_data_source\":null,\"data_source\":{\"type\":\"ColumnDataSource\",\"id\":\"489e075e-014c-4ef5-ce93-ac111bcdfad3\"},\"glyph\":{\"type\":\"Line\",\"id\":\"4323d333-fe4b-47ae-c720-624cf01f3eae\"},\"selection_glyph\":null,\"id\":\"a5b6de1d-d2b3-4e39-ce5e-d76a30234d47\",\"tags\":[]}},{\"id\":\"d8769ff3-60c1-4be2-cbef-3376017c54e6\",\"type\":\"ColumnDataSource\",\"attributes\":{\"data\":{\"y\":[2793,2793.5,2794,2794.5,2795,2795.5,2796,2796.5,2797,2797.5,2798,2798.5,2799,2799.5,2800,2800.5,2801,2801.5,2802,2802.5,2803,2803.5,2804,2804.5,2805,2805.5,2806,2806.5,2807,2807.5,2808,2808.5,2809,2809.5,2810,2810.5,2811,2811.5,2812,2812.5,2813,2813.5,2814,2814.5,2815,2815.5,2816,2816.5,2817,2817.5,2818,2818.5,2819,2819.5,2820,2820.5,2821,2821.5,2822,2822.5,2823,2823.5,2824,2824.5,2825,2825.5,2826,2826.5,2827,2827.5,2828,2828.5,2829,2829.5,2830,2830.5,2831,2831.5,2832,2832.5,2833,2833.5,2834,2834.5,2835,2835.5,2836,2836.5,2837,2837.5,2838,2838.5,2839,2839.5,2840,2840.5,2841,2841.5,2842,2842.5,2843,2843.5,2844,2844.5,2845,2845.5,2846,2846.5,2847,2847.5,2848,2848.5,2849,2849.5,2850,2850.5,2851,2851.5,2852,2852.5,2853,2853.5,2854,2854.5,2855,2855.5,2856,2856.5,2857,2857.5,2858,2858.5,2859,2859.5,2860,2860.5,2861,2861.5,2862,2862.5,2863,2863.5,2864,2864.5,2865,2865.5,2866,2866.5,2867,2867.5,2868,2868.5,2869,2869.5,2870,2870.5,2871,2871.5,2872,2872.5,2873,2873.5,2874,2874.5,2875,2875.5,2876,2876.5,2877,2877.5,2878,2878.5,2879,2879.5,2880,2880.5,2881,2881.5,2882,2882.5,2883,2883.5,2884,2884.5,2885,2885.5,2886,2886.5,2887,2887.5,2888,2888.5,2889,2889.5,2890,2890.5,2891,2891.5,2892,2892.5,2893,2893.5,2894,2894.5,2895,2895.5,2896,2896.5,2897,2897.5,2898,2898.5,2899,2899.5,2900,2900.5,2901,2901.5,2902,2902.5,2903,2903.5,2904,2904.5,2905,2905.5,2906,2906.5,2907,2907.5,2908,2908.5,2909,2909.5,2910,2910.5,2911,2911.5,2912,2912.5,2913,2913.5,2914,2914.5,2915,2915.5,2916,2916.5,2917,2917.5,2918,2918.5,2919,2919.5,2920,2920.5,2921,2921.5,2922,2922.5,2923,2923.5,2924,2924.5,2925,2925.5,2926,2926.5,2927,2927.5,2928,2928.5,2929,2929.5,2930,2930.5,2931,2931.5,2932,2932.5,2933,2933.5,2934,2934.5,2935,2935.5,2936,2936.5,2937,2937.5,2938,2938.5,2939,2939.5,2940,2940.5,2941,2941.5,2942,2942.5,2943,2944,2944,2944.5,2945,2945.5,2946,2946.5,2947,2947.5,2948,2948.5,2949,2949.5,2950,2950.5,2951,2951.5,2952,2952.5,2953,2953.5,2954,2954.5,2955,2955.5,2956,2956.5,2957,2957.5,2958,2958.5,2959,2959.5,2960,2960.5,2961,2961.5,2962,2962.5,2963,2963.5,2964,2964.5,2965,2965.5,2966,2966.5,2967,2967.5,2968,2968.5,2969,2969.5,2970,2970.5,2971,2971.5,2972,2972.5,2973,2973.5,2974,2974.5,2975,2975.5,2976,2976.5,2977,2977.5,2978,2978.5,2979,2979.5,2980,2980.5,2981,2981.5,2982,2982.5,2983,2983.5,2984,2984.5,2985,2985.5,2986,2986.5,2987,2987.5,2988,2988.5,2989,2989.5,2990,2990.5,2991,2991.5,2992,2992.5,2993,2993.5,2994,2994.5,2995,2995.5,2996,2996.5,2997,2997.5,2998,2998.5,2999,2999.5,3000,3000.5,3001,3001.5,3002,3002.5,3003,3003.5,3004,3004.5,3005,3005.5,3006,3006.5,3007,3007.5,3008,3008.5,3009,3009.5,3010,3010.5,3011,3011.5,3012,3012.5,3013,3013.5,3014,3014.5,3015,3015.5,3016,3016.5,3017,3017.5,3018,3018.5,3019,3019.5,3020,3020.5,3021,3021.5,3022,3022.5,3023,3023.5,3024,3024.5,3025,3025.5,3026,3026.5,3027,3027.5,3028],\"x\":[16.420948809054,15.867130683176,15.313312557297,15.202548932122,15.091785306946,15.313312557297,15.424076182473,15.202548932122,15.091785306946,15.202548932122,15.313312557297,15.424076182473,15.202548932122,15.091785306946,14.870258056595,14.759494431419,14.759494431419,14.648730806244,14.537967181068,14.427203555892,14.648730806244,14.648730806244,14.648730806244,14.648730806244,14.648730806244,14.648730806244,14.648730806244,14.648730806244,14.759494431419,14.648730806244,14.759494431419,14.759494431419,14.759494431419,14.870258056595,15.091785306946,16.420948809054,15.867130683176,15.202548932122,14.870258056595,14.870258056595,14.98102168177,14.98102168177,14.98102168177,15.202548932122,15.756367058,16.864003309757,17.417821435635,17.52858506081,17.417821435635,17.307057810459,17.307057810459,17.307057810459,17.417821435635,16.753239684581,16.310185183878,16.088657933527,15.867130683176,16.088657933527,16.088657933527,16.199421558703,15.756367058,15.645603432824,15.424076182473,15.424076182473,16.310185183878,16.974766934932,17.417821435635,17.52858506081,17.307057810459,17.196294185284,17.196294185284,17.085530560108,17.52858506081,17.52858506081,18.082403186689,18.193166811864,17.750112311162,17.639348685986,17.417821435635,17.307057810459,17.196294185284,16.753239684581,16.53171243423,16.420948809054,16.420948809054,16.642476059405,16.420948809054,16.53171243423,16.420948809054,16.53171243423,16.864003309757,17.307057810459,17.417821435635,17.639348685986,15.756367058,14.98102168177,14.427203555892,14.316439930717,14.537967181068,15.202548932122,15.977894308351,15.977894308351,15.645603432824,15.645603432824,15.645603432824,15.534839807649,15.424076182473,15.313312557297,15.313312557297,15.091785306946,15.202548932122,15.091785306946,15.202548932122,15.202548932122,14.98102168177,14.759494431419,14.427203555892,14.427203555892,14.537967181068,14.537967181068,14.537967181068,14.648730806244,14.648730806244,14.870258056595,15.091785306946,15.534839807649,15.202548932122,14.98102168177,14.759494431419,14.98102168177,15.424076182473,15.313312557297,14.759494431419,14.759494431419,15.202548932122,16.420948809054,16.642476059405,16.53171243423,16.420948809054,16.974766934932,17.307057810459,17.860875936337,18.082403186689,17.971639561513,17.750112311162,17.52858506081,17.52858506081,17.639348685986,17.639348685986,17.860875936337,16.974766934932,16.420948809054,15.645603432824,15.313312557297,15.091785306946,14.98102168177,15.202548932122,15.313312557297,15.645603432824,15.645603432824,15.645603432824,15.534839807649,15.424076182473,15.534839807649,15.424076182473,15.756367058,15.867130683176,16.088657933527,16.199421558703,16.199421558703,16.088657933527,15.977894308351,15.756367058,15.424076182473,15.424076182473,14.870258056595,14.648730806244,14.427203555892,14.537967181068,15.313312557297,16.864003309757,17.750112311162,18.193166811864,18.30393043704,18.193166811864,17.860875936337,17.750112311162,17.750112311162,17.639348685986,17.639348685986,17.417821435635,17.52858506081,17.52858506081,17.307057810459,16.53171243423,15.756367058,15.313312557297,15.313312557297,15.424076182473,15.424076182473,15.424076182473,15.202548932122,15.091785306946,14.98102168177,14.98102168177,14.98102168177,14.870258056595,14.98102168177,14.870258056595,14.870258056595,14.870258056595,14.98102168177,14.98102168177,14.98102168177,15.091785306946,14.98102168177,14.98102168177,14.98102168177,15.202548932122,15.202548932122,15.202548932122,15.202548932122,14.98102168177,14.870258056595,14.870258056595,15.424076182473,16.642476059405,17.085530560108,17.307057810459,17.085530560108,17.085530560108,17.196294185284,17.417821435635,17.639348685986,17.639348685986,17.52858506081,16.974766934932,15.756367058,15.313312557297,14.98102168177,15.202548932122,15.091785306946,15.091785306946,15.091785306946,14.98102168177,15.091785306946,14.98102168177,14.98102168177,14.870258056595,14.98102168177,14.870258056595,14.870258056595,14.648730806244,14.648730806244,14.759494431419,14.870258056595,14.98102168177,14.98102168177,14.870258056595,14.870258056595,14.870258056595,15.091785306946,15.202548932122,14.870258056595,14.759494431419,15.091785306946,16.53171243423,17.860875936337,17.639348685986,17.639348685986,17.750112311162,17.52858506081,17.196294185284,16.864003309757,15.977894308351,15.313312557297,14.759494431419,14.870258056595,15.091785306946,14.870258056595,14.870258056595,14.759494431419,14.98102168177,14.870258056595,14.870258056595,14.870258056595,15.091785306946,15.424076182473,15.645603432824,15.534839807649,14.98102168177,15.091785306946,15.756367058,16.864003309757,16.864003309757,17.196294185284,17.971639561513,18.082403186689,17.52858506081,16.974766934932,16.864003309757,16.642476059405,16.642476059405,16.974766934932,17.196294185284,17.639348685986,17.639348685986,17.639348685986,17.639348685986,17.417821435635,16.53171243423,15.977894308351,15.313312557297,14.98102168177,14.870258056595,14.870258056595,15.202548932122,15.313312557297,15.424076182473,15.424076182473,15.424076182473,15.313312557297,15.313312557297,15.202548932122,15.202548932122,15.313312557297,15.534839807649,15.867130683176,16.088657933527,15.977894308351,15.867130683176,15.756367058,15.756367058,15.645603432824,15.645603432824,15.534839807649,15.756367058,15.756367058,15.645603432824,15.645603432824,15.645603432824,15.977894308351,15.977894308351,15.645603432824,15.313312557297,15.091785306946,15.091785306946,15.313312557297,15.424076182473,15.534839807649,15.645603432824,15.534839807649,15.645603432824,15.534839807649,15.756367058,15.645603432824,15.645603432824,15.645603432824,15.756367058,15.645603432824,15.534839807649,15.424076182473,15.534839807649,15.424076182473,15.645603432824,15.424076182473,15.313312557297,14.98102168177,15.424076182473,16.199421558703,17.417821435635,17.085530560108,16.864003309757,16.974766934932,17.085530560108,17.307057810459,17.307057810459,16.864003309757,16.310185183878,15.756367058,16.088657933527,16.53171243423,16.642476059405,16.864003309757,16.974766934932,17.085530560108,16.642476059405,16.088657933527,15.756367058,15.756367058,15.867130683176,16.088657933527,16.199421558703,16.088657933527,15.977894308351,15.756367058,15.977894308351,16.088657933527,16.310185183878,15.977894308351,15.977894308351,16.199421558703,15.756367058,15.756367058,15.534839807649,15.867130683176,16.088657933527,16.199421558703,16.310185183878,16.420948809054,16.420948809054,16.310185183878,16.088657933527,15.977894308351,15.977894308351,16.310185183878,16.420948809054,16.642476059405,16.53171243423,16.420948809054,16.088657933527,16.310185183878,16.642476059405,16.974766934932,16.864003309757,16.753239684581,16.753239684581,16.53171243423,16.420948809054,16.53171243423,16.642476059405,16.642476059405,16.53171243423,16.310185183878,16.310185183878,16.420948809054,16.864003309757,17.085530560108,16.974766934932,16.642476059405,16.53171243423,16.420948809054,16.199421558703,16.088657933527,16.088657933527,16.199421558703,15.867130683176,15.867130683176,16.753239684581,16.864003309757,16.974766934932,17.085530560108,17.196294185284,17.196294185284,17.307057810459,17.307057810459,17.417821435635,17.196294185284,17.196294185284,17.52858506081,17.639348685986,17.750112311162,17.417821435635,17.307057810459,17.417821435635,17.307057810459,17.307057810459,17.417821435635,17.307057810459,17.750112311162,17.750112311162]},\"column_names\":[\"y\",\"x\"],\"cont_ranges\":{},\"discrete_ranges\":{},\"selected\":[],\"id\":\"d8769ff3-60c1-4be2-cbef-3376017c54e6\",\"doc\":null,\"tags\":[]}},{\"id\":\"5cff97a7-73c3-432a-c325-b8d3f3c8984a\",\"type\":\"Line\",\"attributes\":{\"fill_alpha\":{\"units\":\"data\",\"value\":0.2},\"line_alpha\":{\"units\":\"data\",\"value\":1},\"doc\":null,\"size\":{\"units\":\"screen\",\"value\":10},\"fill_color\":{\"value\":\"grey\"},\"line_color\":{\"value\":\"grey\"},\"x\":{\"units\":\"data\",\"field\":\"x\"},\"id\":\"5cff97a7-73c3-432a-c325-b8d3f3c8984a\",\"y\":{\"units\":\"data\",\"field\":\"y\"},\"tags\":[]}},{\"id\":\"8fece7b3-34f4-4a7d-ca00-df339eec392a\",\"type\":\"Line\",\"attributes\":{\"fill_alpha\":{\"units\":\"data\",\"value\":0.2},\"line_alpha\":{\"units\":\"data\",\"value\":1},\"doc\":null,\"size\":{\"units\":\"screen\",\"value\":10},\"fill_color\":{\"value\":\"grey\"},\"line_color\":{\"value\":\"grey\"},\"x\":{\"units\":\"data\",\"field\":\"x\"},\"id\":\"8fece7b3-34f4-4a7d-ca00-df339eec392a\",\"y\":{\"units\":\"data\",\"field\":\"y\"},\"tags\":[]}},{\"id\":\"51b3bdeb-9054-46ac-c68b-ae4a6f851315\",\"type\":\"GlyphRenderer\",\"attributes\":{\"name\":null,\"nonselection_glyph\":{\"type\":\"Line\",\"id\":\"8fece7b3-34f4-4a7d-ca00-df339eec392a\"},\"doc\":null,\"server_data_source\":null,\"data_source\":{\"type\":\"ColumnDataSource\",\"id\":\"d8769ff3-60c1-4be2-cbef-3376017c54e6\"},\"glyph\":{\"type\":\"Line\",\"id\":\"5cff97a7-73c3-432a-c325-b8d3f3c8984a\"},\"selection_glyph\":null,\"id\":\"51b3bdeb-9054-46ac-c68b-ae4a6f851315\",\"tags\":[]}},{\"id\":\"4e5f4750-9a88-4fca-cf9f-cd4ce3b7a203\",\"type\":\"DataRange1d\",\"attributes\":{\"sources\":[{\"columns\":[\"x\"],\"source\":{\"type\":\"ColumnDataSource\",\"id\":\"3341b4ae-cbb7-4b06-cb09-af6b68284b67\"}},{\"columns\":[\"x\"],\"source\":{\"type\":\"ColumnDataSource\",\"id\":\"9ad64c8d-0dc1-490d-c9da-0dd82bac1e91\"}},{\"columns\":[\"x\"],\"source\":{\"type\":\"ColumnDataSource\",\"id\":\"67fedde7-77f3-4be4-cbee-f8d7e302e1f3\"}},{\"columns\":[\"x\"],\"source\":{\"type\":\"ColumnDataSource\",\"id\":\"489e075e-014c-4ef5-ce93-ac111bcdfad3\"}},{\"columns\":[\"x\"],\"source\":{\"type\":\"ColumnDataSource\",\"id\":\"d8769ff3-60c1-4be2-cbef-3376017c54e6\"}}],\"id\":\"4e5f4750-9a88-4fca-cf9f-cd4ce3b7a203\",\"tags\":[],\"doc\":null}},{\"id\":\"49fd7e0a-99e4-42c9-c230-569e198fd904\",\"type\":\"DataRange1d\",\"attributes\":{\"sources\":[{\"columns\":[\"y\"],\"source\":{\"type\":\"ColumnDataSource\",\"id\":\"3341b4ae-cbb7-4b06-cb09-af6b68284b67\"}},{\"columns\":[\"y\"],\"source\":{\"type\":\"ColumnDataSource\",\"id\":\"9ad64c8d-0dc1-490d-c9da-0dd82bac1e91\"}},{\"columns\":[\"y\"],\"source\":{\"type\":\"ColumnDataSource\",\"id\":\"67fedde7-77f3-4be4-cbee-f8d7e302e1f3\"}},{\"columns\":[\"y\"],\"source\":{\"type\":\"ColumnDataSource\",\"id\":\"489e075e-014c-4ef5-ce93-ac111bcdfad3\"}},{\"columns\":[\"y\"],\"source\":{\"type\":\"ColumnDataSource\",\"id\":\"d8769ff3-60c1-4be2-cbef-3376017c54e6\"}}],\"id\":\"49fd7e0a-99e4-42c9-c230-569e198fd904\",\"tags\":[],\"doc\":null}},{\"id\":\"71c762a4-7339-4c46-cc34-a9cde1830045\",\"type\":\"ToolEvents\",\"attributes\":{\"tags\":[],\"id\":\"71c762a4-7339-4c46-cc34-a9cde1830045\",\"geometries\":[],\"doc\":null}},{\"id\":\"c743e878-2950-4f7e-cfc8-7835840a558a\",\"type\":\"BasicTickFormatter\",\"attributes\":{\"id\":\"c743e878-2950-4f7e-cfc8-7835840a558a\",\"tags\":[],\"doc\":null}},{\"id\":\"80916607-4ec3-4111-c1ce-45221464354c\",\"type\":\"BasicTicker\",\"attributes\":{\"num_minor_ticks\":5,\"id\":\"80916607-4ec3-4111-c1ce-45221464354c\",\"tags\":[],\"doc\":null}},{\"id\":\"38bd9b0b-8d2c-432c-c33c-6353b5ddd497\",\"type\":\"LinearAxis\",\"attributes\":{\"formatter\":{\"type\":\"BasicTickFormatter\",\"id\":\"c743e878-2950-4f7e-cfc8-7835840a558a\"},\"ticker\":{\"type\":\"BasicTicker\",\"id\":\"80916607-4ec3-4111-c1ce-45221464354c\"},\"plot\":{\"id\":\"fc73a7e6-7404-4f02-cf0e-21bbb4c021ef\",\"type\":\"Plot\",\"subtype\":\"Figure\"},\"axis_label\":null,\"id\":\"38bd9b0b-8d2c-432c-c33c-6353b5ddd497\",\"doc\":null,\"tags\":[]}},{\"id\":\"38e71985-908a-4f41-cfdb-a4f2127a8589\",\"type\":\"Grid\",\"attributes\":{\"dimension\":0,\"plot\":{\"id\":\"fc73a7e6-7404-4f02-cf0e-21bbb4c021ef\",\"type\":\"Plot\",\"subtype\":\"Figure\"},\"ticker\":{\"type\":\"BasicTicker\",\"id\":\"80916607-4ec3-4111-c1ce-45221464354c\"},\"id\":\"38e71985-908a-4f41-cfdb-a4f2127a8589\",\"doc\":null,\"tags\":[]}},{\"id\":\"fb1c0a8c-3974-4ba7-cb54-d027d9fce98f\",\"type\":\"BasicTickFormatter\",\"attributes\":{\"id\":\"fb1c0a8c-3974-4ba7-cb54-d027d9fce98f\",\"tags\":[],\"doc\":null}},{\"id\":\"3d45818a-b5bc-48e0-c871-129881dfe385\",\"type\":\"BasicTicker\",\"attributes\":{\"num_minor_ticks\":5,\"id\":\"3d45818a-b5bc-48e0-c871-129881dfe385\",\"tags\":[],\"doc\":null}},{\"id\":\"bb20367c-45be-4187-c160-91a65e1b87ee\",\"type\":\"LinearAxis\",\"attributes\":{\"formatter\":{\"type\":\"BasicTickFormatter\",\"id\":\"fb1c0a8c-3974-4ba7-cb54-d027d9fce98f\"},\"ticker\":{\"type\":\"BasicTicker\",\"id\":\"3d45818a-b5bc-48e0-c871-129881dfe385\"},\"plot\":{\"id\":\"fc73a7e6-7404-4f02-cf0e-21bbb4c021ef\",\"type\":\"Plot\",\"subtype\":\"Figure\"},\"axis_label\":null,\"id\":\"bb20367c-45be-4187-c160-91a65e1b87ee\",\"doc\":null,\"tags\":[]}},{\"id\":\"75deb4e1-de4b-4277-c2b6-03402a290f7d\",\"type\":\"Grid\",\"attributes\":{\"dimension\":1,\"plot\":{\"id\":\"fc73a7e6-7404-4f02-cf0e-21bbb4c021ef\",\"type\":\"Plot\",\"subtype\":\"Figure\"},\"ticker\":{\"type\":\"BasicTicker\",\"id\":\"3d45818a-b5bc-48e0-c871-129881dfe385\"},\"id\":\"75deb4e1-de4b-4277-c2b6-03402a290f7d\",\"doc\":null,\"tags\":[]}},{\"id\":\"c77fc70e-c027-4bdd-cb74-9efe64b30c3f\",\"type\":\"PanTool\",\"attributes\":{\"plot\":{\"id\":\"fc73a7e6-7404-4f02-cf0e-21bbb4c021ef\",\"type\":\"Plot\",\"subtype\":\"Figure\"},\"dimensions\":[\"width\",\"height\"],\"id\":\"c77fc70e-c027-4bdd-cb74-9efe64b30c3f\",\"doc\":null,\"tags\":[]}},{\"id\":\"6761a806-b16f-4d65-cdfb-ac8a32d052d3\",\"type\":\"WheelZoomTool\",\"attributes\":{\"plot\":{\"id\":\"fc73a7e6-7404-4f02-cf0e-21bbb4c021ef\",\"type\":\"Plot\",\"subtype\":\"Figure\"},\"dimensions\":[\"width\",\"height\"],\"id\":\"6761a806-b16f-4d65-cdfb-ac8a32d052d3\",\"doc\":null,\"tags\":[]}},{\"id\":\"94195310-aa19-4ca4-ccff-ddd71d30ae2e\",\"type\":\"BoxZoomTool\",\"attributes\":{\"plot\":{\"id\":\"fc73a7e6-7404-4f02-cf0e-21bbb4c021ef\",\"type\":\"Plot\",\"subtype\":\"Figure\"},\"id\":\"94195310-aa19-4ca4-ccff-ddd71d30ae2e\",\"tags\":[],\"doc\":null}},{\"id\":\"1a51a132-5544-45d0-c517-c7413397c262\",\"type\":\"PreviewSaveTool\",\"attributes\":{\"plot\":{\"id\":\"fc73a7e6-7404-4f02-cf0e-21bbb4c021ef\",\"type\":\"Plot\",\"subtype\":\"Figure\"},\"id\":\"1a51a132-5544-45d0-c517-c7413397c262\",\"tags\":[],\"doc\":null}},{\"id\":\"bb1614d0-945b-49bc-c939-478134e839e5\",\"type\":\"ResizeTool\",\"attributes\":{\"plot\":{\"id\":\"fc73a7e6-7404-4f02-cf0e-21bbb4c021ef\",\"type\":\"Plot\",\"subtype\":\"Figure\"},\"id\":\"bb1614d0-945b-49bc-c939-478134e839e5\",\"tags\":[],\"doc\":null}},{\"id\":\"ba89f1af-8906-4b2e-cb32-cc24feeefc78\",\"type\":\"ResetTool\",\"attributes\":{\"plot\":{\"id\":\"fc73a7e6-7404-4f02-cf0e-21bbb4c021ef\",\"type\":\"Plot\",\"subtype\":\"Figure\"},\"id\":\"ba89f1af-8906-4b2e-cb32-cc24feeefc78\",\"tags\":[],\"doc\":null}},{\"id\":\"6a3bde1f-0946-44d8-c4ae-464b440e8a88\",\"type\":\"Legend\",\"attributes\":{\"plot\":{\"id\":\"fc73a7e6-7404-4f02-cf0e-21bbb4c021ef\",\"type\":\"Plot\",\"subtype\":\"Figure\"},\"legends\":[[\"gamma\",[{\"type\":\"GlyphRenderer\",\"id\":\"edb83bf6-05e3-44b6-c4a2-4de8e78dc2eb\"}]],[\"ILD\",[{\"type\":\"GlyphRenderer\",\"id\":\"30478146-1415-43bc-c354-2f11b7f63741\"}]],[\"dPhi\",[{\"type\":\"GlyphRenderer\",\"id\":\"648b2e60-e405-4c40-cc5b-fff61141078a\"}]],[\"nPor\",[{\"type\":\"GlyphRenderer\",\"id\":\"a5b6de1d-d2b3-4e39-ce5e-d76a30234d47\"}]],[\"PE\",[{\"type\":\"GlyphRenderer\",\"id\":\"51b3bdeb-9054-46ac-c68b-ae4a6f851315\"}]]],\"id\":\"6a3bde1f-0946-44d8-c4ae-464b440e8a88\",\"doc\":null,\"tags\":[]}},{\"id\":\"fc73a7e6-7404-4f02-cf0e-21bbb4c021ef\",\"type\":\"Plot\",\"attributes\":{\"x_range\":{\"type\":\"DataRange1d\",\"id\":\"4e5f4750-9a88-4fca-cf9f-cd4ce3b7a203\"},\"tool_events\":{\"type\":\"ToolEvents\",\"id\":\"71c762a4-7339-4c46-cc34-a9cde1830045\"},\"below\":[{\"type\":\"LinearAxis\",\"id\":\"38bd9b0b-8d2c-432c-c33c-6353b5ddd497\"}],\"renderers\":[{\"type\":\"GlyphRenderer\",\"id\":\"edb83bf6-05e3-44b6-c4a2-4de8e78dc2eb\"},{\"type\":\"GlyphRenderer\",\"id\":\"30478146-1415-43bc-c354-2f11b7f63741\"},{\"type\":\"GlyphRenderer\",\"id\":\"648b2e60-e405-4c40-cc5b-fff61141078a\"},{\"type\":\"GlyphRenderer\",\"id\":\"a5b6de1d-d2b3-4e39-ce5e-d76a30234d47\"},{\"type\":\"GlyphRenderer\",\"id\":\"51b3bdeb-9054-46ac-c68b-ae4a6f851315\"},{\"type\":\"LinearAxis\",\"id\":\"38bd9b0b-8d2c-432c-c33c-6353b5ddd497\"},{\"type\":\"Grid\",\"id\":\"38e71985-908a-4f41-cfdb-a4f2127a8589\"},{\"type\":\"LinearAxis\",\"id\":\"bb20367c-45be-4187-c160-91a65e1b87ee\"},{\"type\":\"Grid\",\"id\":\"75deb4e1-de4b-4277-c2b6-03402a290f7d\"},{\"type\":\"Legend\",\"id\":\"6a3bde1f-0946-44d8-c4ae-464b440e8a88\"}],\"above\":[],\"tools\":[{\"type\":\"PanTool\",\"id\":\"c77fc70e-c027-4bdd-cb74-9efe64b30c3f\"},{\"type\":\"WheelZoomTool\",\"id\":\"6761a806-b16f-4d65-cdfb-ac8a32d052d3\"},{\"type\":\"BoxZoomTool\",\"id\":\"94195310-aa19-4ca4-ccff-ddd71d30ae2e\"},{\"type\":\"PreviewSaveTool\",\"id\":\"1a51a132-5544-45d0-c517-c7413397c262\"},{\"type\":\"ResizeTool\",\"id\":\"bb1614d0-945b-49bc-c939-478134e839e5\"},{\"type\":\"ResetTool\",\"id\":\"ba89f1af-8906-4b2e-cb32-cc24feeefc78\"}],\"doc\":null,\"right\":[],\"title\":\"Shrimplin Logs\",\"extra_x_ranges\":{},\"left\":[{\"type\":\"LinearAxis\",\"id\":\"bb20367c-45be-4187-c160-91a65e1b87ee\"}],\"y_range\":{\"type\":\"DataRange1d\",\"id\":\"49fd7e0a-99e4-42c9-c230-569e198fd904\"},\"id\":\"fc73a7e6-7404-4f02-cf0e-21bbb4c021ef\",\"extra_y_ranges\":{},\"tags\":[]}}];\n",
       "  Bokeh.load_models(all_models);\n",
       "  var model = Bokeh.Collections(modeltype).get(modelid);\n",
       "  $(\"#c1b533d8-3c18-4cdd-cc47-403647fe1018\").html(''); // clear any previous plot in window_id\n",
       "  var view = new model.default_view({model: model, el: \"#c1b533d8-3c18-4cdd-cc47-403647fe1018\"});\n",
       "    } else {\n",
       "  load_lib(bokehjs_url, function() {\n",
       "      console.log(\"Bokeh: BokehJS plotting callback run at\", new Date())\n",
       "      var modelid = \"fc73a7e6-7404-4f02-cf0e-21bbb4c021ef\";\n",
       "      var modeltype = \"Plot\";\n",
       "      var all_models = [{\"id\":\"3341b4ae-cbb7-4b06-cb09-af6b68284b67\",\"type\":\"ColumnDataSource\",\"attributes\":{\"data\":{\"y\":[2793,2793.5,2794,2794.5,2795,2795.5,2796,2796.5,2797,2797.5,2798,2798.5,2799,2799.5,2800,2800.5,2801,2801.5,2802,2802.5,2803,2803.5,2804,2804.5,2805,2805.5,2806,2806.5,2807,2807.5,2808,2808.5,2809,2809.5,2810,2810.5,2811,2811.5,2812,2812.5,2813,2813.5,2814,2814.5,2815,2815.5,2816,2816.5,2817,2817.5,2818,2818.5,2819,2819.5,2820,2820.5,2821,2821.5,2822,2822.5,2823,2823.5,2824,2824.5,2825,2825.5,2826,2826.5,2827,2827.5,2828,2828.5,2829,2829.5,2830,2830.5,2831,2831.5,2832,2832.5,2833,2833.5,2834,2834.5,2835,2835.5,2836,2836.5,2837,2837.5,2838,2838.5,2839,2839.5,2840,2840.5,2841,2841.5,2842,2842.5,2843,2843.5,2844,2844.5,2845,2845.5,2846,2846.5,2847,2847.5,2848,2848.5,2849,2849.5,2850,2850.5,2851,2851.5,2852,2852.5,2853,2853.5,2854,2854.5,2855,2855.5,2856,2856.5,2857,2857.5,2858,2858.5,2859,2859.5,2860,2860.5,2861,2861.5,2862,2862.5,2863,2863.5,2864,2864.5,2865,2865.5,2866,2866.5,2867,2867.5,2868,2868.5,2869,2869.5,2870,2870.5,2871,2871.5,2872,2872.5,2873,2873.5,2874,2874.5,2875,2875.5,2876,2876.5,2877,2877.5,2878,2878.5,2879,2879.5,2880,2880.5,2881,2881.5,2882,2882.5,2883,2883.5,2884,2884.5,2885,2885.5,2886,2886.5,2887,2887.5,2888,2888.5,2889,2889.5,2890,2890.5,2891,2891.5,2892,2892.5,2893,2893.5,2894,2894.5,2895,2895.5,2896,2896.5,2897,2897.5,2898,2898.5,2899,2899.5,2900,2900.5,2901,2901.5,2902,2902.5,2903,2903.5,2904,2904.5,2905,2905.5,2906,2906.5,2907,2907.5,2908,2908.5,2909,2909.5,2910,2910.5,2911,2911.5,2912,2912.5,2913,2913.5,2914,2914.5,2915,2915.5,2916,2916.5,2917,2917.5,2918,2918.5,2919,2919.5,2920,2920.5,2921,2921.5,2922,2922.5,2923,2923.5,2924,2924.5,2925,2925.5,2926,2926.5,2927,2927.5,2928,2928.5,2929,2929.5,2930,2930.5,2931,2931.5,2932,2932.5,2933,2933.5,2934,2934.5,2935,2935.5,2936,2936.5,2937,2937.5,2938,2938.5,2939,2939.5,2940,2940.5,2941,2941.5,2942,2942.5,2943,2944,2944,2944.5,2945,2945.5,2946,2946.5,2947,2947.5,2948,2948.5,2949,2949.5,2950,2950.5,2951,2951.5,2952,2952.5,2953,2953.5,2954,2954.5,2955,2955.5,2956,2956.5,2957,2957.5,2958,2958.5,2959,2959.5,2960,2960.5,2961,2961.5,2962,2962.5,2963,2963.5,2964,2964.5,2965,2965.5,2966,2966.5,2967,2967.5,2968,2968.5,2969,2969.5,2970,2970.5,2971,2971.5,2972,2972.5,2973,2973.5,2974,2974.5,2975,2975.5,2976,2976.5,2977,2977.5,2978,2978.5,2979,2979.5,2980,2980.5,2981,2981.5,2982,2982.5,2983,2983.5,2984,2984.5,2985,2985.5,2986,2986.5,2987,2987.5,2988,2988.5,2989,2989.5,2990,2990.5,2991,2991.5,2992,2992.5,2993,2993.5,2994,2994.5,2995,2995.5,2996,2996.5,2997,2997.5,2998,2998.5,2999,2999.5,3000,3000.5,3001,3001.5,3002,3002.5,3003,3003.5,3004,3004.5,3005,3005.5,3006,3006.5,3007,3007.5,3008,3008.5,3009,3009.5,3010,3010.5,3011,3011.5,3012,3012.5,3013,3013.5,3014,3014.5,3015,3015.5,3016,3016.5,3017,3017.5,3018,3018.5,3019,3019.5,3020,3020.5,3021,3021.5,3022,3022.5,3023,3023.5,3024,3024.5,3025,3025.5,3026,3026.5,3027,3027.5,3028],\"x\":[0.21558187896856,0.23729796686232,0.25847785505499,0.44748824968583,0.13863722186352,0.12228313098057,0.11558063471707,0.16732390587132,0.11745733367085,0.20056828733831,0.17965649899617,0.14855691633351,0.06598216236713,0.37563748974106,0.55472818990191,0.23434886850637,-0.0029194992216998,-0.15734501313285,-0.14849771806503,-0.29729313511483,-0.34313820955721,-0.36029659999178,-0.15385971507583,-0.08603045288916,-0.21820367920548,0.0019062980880239,0.18662709511022,0.34292930797515,0.55874968766001,0.66947492593311,0.48341362965821,0.042121275669053,-0.12570923076911,-0.40533737488253,-0.7493094831256,-0.49541892466404,0.090647348616828,0.69521251158497,0.88315050681364,0.2759043453401,-0.072893560212691,0.11450823531491,0.043997974622834,-0.33214611568506,-0.70024721047675,-0.89408340241731,-0.62759215098035,-0.24420936470788,0.1557956122981,0.47671113339471,0.46786383832688,0.49842722128846,0.1624981085616,-0.26941075065865,-0.37102059401339,-0.6018545653285,-0.69005941615622,-0.38013598893175,-0.2190079787571,-0.40077967742335,-0.70185580957999,-0.66539422990652,-0.58791337310041,-0.22276137666466,-0.12302823226371,-0.36565859700258,-0.19273419340416,-0.38469368639094,0.043193675071214,0.58877687092051,1.2335570114697,1.2410638072848,1.0107660356708,0.65446133430286,-0.20855208458603,-0.62812835068143,-0.98255635309557,-0.84689782872223,-0.76888077221504,-0.96486176295992,-1.0007871429323,-0.95413776893831,-0.63912044455358,-0.4144527698009,-0.26780215155541,-0.026244186218697,0.17349020243375,0.22362487448477,0.30888062695655,0.094132646673851,-0.10238454377211,-0.12597733061965,-0.23107247203141,0.24507286252798,1.0284606258064,1.1115715794739,0.98985424732864,0.49440572353036,0.30968492650817,-0.066191063949186,-0.21257358234413,-0.29890173421808,-0.48523113034351,-0.039917278596247,-0.04393877635435,-0.04501117575651,-0.014983992496009,0.10163944248898,0.40351987419724,0.73864468737248,0.70057450859577,0.51638991127466,0.51290461321764,0.61156535821643,0.54319989632868,0.58341487390971,0.38099948675186,0.41799726612641,0.22228437523206,0.13086232619786,0.021477587177458,0.18689519496076,0.18421419645536,-0.0098900953357447,0.23327646910421,0.39601307838211,0.44078575342232,0.5413231973749,0.30030143173926,0.26678895042174,0.36571779527107,0.6860971166666,0.41906966552857,-0.62276635367063,-0.93510267954996,-0.9174080894143,-1.1141933797108,-1.2313530143969,-1.3133915686622,-1.3099062706052,-1.3249198622354,-1.2930159800211,-1.3613814419089,-1.0723698030265,-0.70560920748755,-0.548502695071,-0.631881748589,-0.65332973663221,-0.71016690494673,-0.43697315724628,-0.049836973066234,0.12281933068165,0.36679019467323,0.74722388258977,0.69038671427524,0.28073014264983,0.18689519496076,0.16812820542294,0.40700517225426,0.91210529067199,0.91156909097091,0.80057575284726,0.63086854745532,0.62979614805316,0.29252653607359,0.3812675866024,-0.042866376952189,-0.040989677998408,-0.13455652583694,-0.19890048996658,-0.18522739758903,-0.28871393989755,-0.14394002060584,0.25177535879149,0.25392015759581,0.46840003802796,0.39038298152077,0.016115590166654,-0.50158522122646,-1.0348358239509,-1.395698222778,-1.3903362257672,-1.3731778353326,-1.4029369187426,-1.4351089008074,-1.3144639680643,-1.1924785360685,-1.0948901904719,-0.93483457969942,-0.72571669627807,-0.67558202422705,-0.67719062333029,-0.80855955009499,-0.83215233694252,-0.23536206964005,0.38287618570564,0.47966023175065,0.52711390529627,0.58046577555376,0.77644676629865,0.47429823473985,0.38609338391212,0.36732639437431,0.42872126014801,0.46705953877526,0.29842473278548,0.22148007568044,0.14292681947217,0.15150601468945,0.20298118599317,0.2732233468347,0.63113664730586,0.66598962787609,0.36759449422485,0.15043361528729,-0.18227829923309,-0.025171786816536,0.0045872965934257,0.17804789989293,0.53944649842111,0.74641958303815,0.68931431487308,0.59681986643672,0.42201876388451,-0.1136447374948,-0.97880295518801,-1.3267965611892,-1.4715704804809,-1.4654041839185,-1.4584335878044,-1.4404708978182,-1.4061541169491,-1.4377898993128,-1.4396665982666,-1.3973068218813,-1.1798778430932,-0.40506927503199,0.22657397284071,0.31290212471465,-0.12249203256263,-0.029729484275719,-0.19327039310524,-0.19514709205902,-0.25493335872948,-0.071016861258909,-0.01766499100141,0.53783789931787,0.61317395731967,0.53917839857057,0.081263853847921,-0.1149852367475,-0.21391408159683,-0.14474432015746,-0.25144806067246,-0.089515750946183,0.14024582096676,0.17885219944455,0.22764637224287,0.55901778751055,0.82658143834966,0.94266867363357,1.2981690754499,1.3485718473514,1.2086237253694,0.18099699824887,-0.93590697910158,-1.3785398323434,-1.4257254060385,-1.4058860170985,-1.3600409426562,-1.0367125229047,-0.6072165623393,-0.53670630164723,-0.67504582452597,-0.38737468489634,-0.021150289058433,0.41370766851776,0.35901529900756,0.70111070829685,0.98878184792648,0.68904621502254,0.72765259350033,0.61076105866481,0.82470473939588,0.86572401652853,0.83355203446371,0.87564371099852,1.0836891950177,1.3072844703682,1.3338263555717,-0.16217081044258,-0.67129242661841,-0.84984692707818,-0.85923042184708,-0.79756745622284,-0.45037814977329,-0.4198147668117,-0.26270825439515,-0.17209050491256,0.079923354595221,0.31397452411681,4.4341330272185,4.4341330272185,5.471143249108,2.5451014803123,0.86036201951773,0.4072732721048,0.4072732721048,0.5793933761516,1.2501792022032,1.6174759974432,1.6499160793586,1.5507191346587,1.2311441128148,1.0981665869469,0.712102802169,0.60834816000994,0.61451445657237,0.39976647628967,0.44293055222664,0.44882874893853,0.49681862218522,0.46303804101716,0.42630836149315,0.47134913638391,0.50941931516061,0.43756855521584,0.28314304130469,0.078046655641439,0.0078044947999081,0.24212376417204,0.34266120812461,0.43006175940072,0.62255745208858,0.52309240753816,0.56411168467081,0.48287742995713,0.39413637942833,0.47858783234849,0.41451196806938,0.41478006791992,0.50834691575845,0.57027798123324,0.67430072324283,0.72121819708737,0.80459725060537,0.75446257855435,0.78020016420621,0.44963304849015,0.53703359976625,0.52872250439951,0.48877562666902,0.40030267599075,0.37134789213241,0.4126352691156,0.39172348077347,0.57858907659998,0.38368048525726,0.3225537193341,0.29762043323386,0.38931058211861,0.37402889063781,0.4633061408677,0.46384234056878,0.41558436747154,0.4112947698629,0.49521002308198,0.44641585028367,-0.34796400686693,-0.98443305204935,-1.1889932380115,-1.3713011363789,-1.3707649366778,-1.4745195788368,-1.4857797725595,-1.5048148619479,-1.4128566132126,-1.0203584320217,-0.53617010194615,-0.10935513988616,-0.1369694244918,-0.7219632983705,-1.0576243112468,-1.2916754807684,-1.1077589832978,-1.0265247285842,-0.87880171093652,-0.89301100301515,-0.73322349209319,-0.67290102572165,-0.70292820898215,-0.79327785861419,-0.7426069868621,-0.70748590644133,-0.71874610016402,-0.74743278417182,-0.60909326129308,-0.5471621958183,-0.47128993811542,-0.63107744903738,-0.63107744903738,-0.60533986338552,-0.58737717339932,-0.55037939402478,-0.63080934918684,-0.47665193512622,-0.53965540000317,-0.45600824663463,-0.5045343195824,-0.52812710642994,-0.61472335815442,-0.51525831360401,-0.36351379819826,0.13622432320866,1.5257858485585,5.4850844413361,7.7569625748137,7.8215746387939,4.2515570290007,1.2338251113202,0.29547563442954,-0.11659383585074,-0.52410560867184,-0.4924698263081,-0.4498419500722,-0.33589951359262,-0.23589826934113,-0.32303072076669,-0.42437246427089,-0.46619604095516,-0.42222766546656,-0.38040408878229,-0.51606261315563,-0.37021629446177,-0.41927856711062,-0.51418591420185,-0.16029411148879,-0.20050908906982,-0.021150289058433,0.12791322784192,0.11933403262463,0.056330567747683,0.27778104429388,0.30807632740493,0.73569558901654,0.6260427501456,-0.48013723318325,-0.58013847743474,-0.4090907727901,-0.50828771748997,-0.98202015339449,-1.2308168146958,-1.1013245868849,-1.0265247285842,-1.091941092116,-1.0117792368045,-0.79515455756798,-0.8806784098903,-0.8806784098903,-0.86325191960519,-0.90105399853135,-0.8806784098903,-1.1112442813549,-1.1557488565445,-1.3254560619365,-1.3804165312972,-1.3804165312972,-1.4182186102234,-1.2726403913801,-0.98845454980746,-0.58201517638852]},\"column_names\":[\"y\",\"x\"],\"cont_ranges\":{},\"discrete_ranges\":{},\"selected\":[],\"id\":\"3341b4ae-cbb7-4b06-cb09-af6b68284b67\",\"doc\":null,\"tags\":[]}},{\"id\":\"4790005a-184c-44cd-c430-d44d8e4487c9\",\"type\":\"Line\",\"attributes\":{\"fill_alpha\":{\"units\":\"data\",\"value\":0.2},\"line_alpha\":{\"units\":\"data\",\"value\":1},\"doc\":null,\"size\":{\"units\":\"screen\",\"value\":10},\"fill_color\":{\"value\":\"red\"},\"line_color\":{\"value\":\"red\"},\"x\":{\"units\":\"data\",\"field\":\"x\"},\"id\":\"4790005a-184c-44cd-c430-d44d8e4487c9\",\"y\":{\"units\":\"data\",\"field\":\"y\"},\"tags\":[]}},{\"id\":\"851d1b8b-11ef-4d4f-cd56-15c4c5291a50\",\"type\":\"Line\",\"attributes\":{\"fill_alpha\":{\"units\":\"data\",\"value\":0.2},\"line_alpha\":{\"units\":\"data\",\"value\":1},\"doc\":null,\"size\":{\"units\":\"screen\",\"value\":10},\"fill_color\":{\"value\":\"red\"},\"line_color\":{\"value\":\"red\"},\"x\":{\"units\":\"data\",\"field\":\"x\"},\"id\":\"851d1b8b-11ef-4d4f-cd56-15c4c5291a50\",\"y\":{\"units\":\"data\",\"field\":\"y\"},\"tags\":[]}},{\"id\":\"edb83bf6-05e3-44b6-c4a2-4de8e78dc2eb\",\"type\":\"GlyphRenderer\",\"attributes\":{\"name\":null,\"nonselection_glyph\":{\"type\":\"Line\",\"id\":\"851d1b8b-11ef-4d4f-cd56-15c4c5291a50\"},\"doc\":null,\"server_data_source\":null,\"data_source\":{\"type\":\"ColumnDataSource\",\"id\":\"3341b4ae-cbb7-4b06-cb09-af6b68284b67\"},\"glyph\":{\"type\":\"Line\",\"id\":\"4790005a-184c-44cd-c430-d44d8e4487c9\"},\"selection_glyph\":null,\"id\":\"edb83bf6-05e3-44b6-c4a2-4de8e78dc2eb\",\"tags\":[]}},{\"id\":\"9ad64c8d-0dc1-490d-c9da-0dd82bac1e91\",\"type\":\"ColumnDataSource\",\"attributes\":{\"data\":{\"y\":[2793,2793.5,2794,2794.5,2795,2795.5,2796,2796.5,2797,2797.5,2798,2798.5,2799,2799.5,2800,2800.5,2801,2801.5,2802,2802.5,2803,2803.5,2804,2804.5,2805,2805.5,2806,2806.5,2807,2807.5,2808,2808.5,2809,2809.5,2810,2810.5,2811,2811.5,2812,2812.5,2813,2813.5,2814,2814.5,2815,2815.5,2816,2816.5,2817,2817.5,2818,2818.5,2819,2819.5,2820,2820.5,2821,2821.5,2822,2822.5,2823,2823.5,2824,2824.5,2825,2825.5,2826,2826.5,2827,2827.5,2828,2828.5,2829,2829.5,2830,2830.5,2831,2831.5,2832,2832.5,2833,2833.5,2834,2834.5,2835,2835.5,2836,2836.5,2837,2837.5,2838,2838.5,2839,2839.5,2840,2840.5,2841,2841.5,2842,2842.5,2843,2843.5,2844,2844.5,2845,2845.5,2846,2846.5,2847,2847.5,2848,2848.5,2849,2849.5,2850,2850.5,2851,2851.5,2852,2852.5,2853,2853.5,2854,2854.5,2855,2855.5,2856,2856.5,2857,2857.5,2858,2858.5,2859,2859.5,2860,2860.5,2861,2861.5,2862,2862.5,2863,2863.5,2864,2864.5,2865,2865.5,2866,2866.5,2867,2867.5,2868,2868.5,2869,2869.5,2870,2870.5,2871,2871.5,2872,2872.5,2873,2873.5,2874,2874.5,2875,2875.5,2876,2876.5,2877,2877.5,2878,2878.5,2879,2879.5,2880,2880.5,2881,2881.5,2882,2882.5,2883,2883.5,2884,2884.5,2885,2885.5,2886,2886.5,2887,2887.5,2888,2888.5,2889,2889.5,2890,2890.5,2891,2891.5,2892,2892.5,2893,2893.5,2894,2894.5,2895,2895.5,2896,2896.5,2897,2897.5,2898,2898.5,2899,2899.5,2900,2900.5,2901,2901.5,2902,2902.5,2903,2903.5,2904,2904.5,2905,2905.5,2906,2906.5,2907,2907.5,2908,2908.5,2909,2909.5,2910,2910.5,2911,2911.5,2912,2912.5,2913,2913.5,2914,2914.5,2915,2915.5,2916,2916.5,2917,2917.5,2918,2918.5,2919,2919.5,2920,2920.5,2921,2921.5,2922,2922.5,2923,2923.5,2924,2924.5,2925,2925.5,2926,2926.5,2927,2927.5,2928,2928.5,2929,2929.5,2930,2930.5,2931,2931.5,2932,2932.5,2933,2933.5,2934,2934.5,2935,2935.5,2936,2936.5,2937,2937.5,2938,2938.5,2939,2939.5,2940,2940.5,2941,2941.5,2942,2942.5,2943,2944,2944,2944.5,2945,2945.5,2946,2946.5,2947,2947.5,2948,2948.5,2949,2949.5,2950,2950.5,2951,2951.5,2952,2952.5,2953,2953.5,2954,2954.5,2955,2955.5,2956,2956.5,2957,2957.5,2958,2958.5,2959,2959.5,2960,2960.5,2961,2961.5,2962,2962.5,2963,2963.5,2964,2964.5,2965,2965.5,2966,2966.5,2967,2967.5,2968,2968.5,2969,2969.5,2970,2970.5,2971,2971.5,2972,2972.5,2973,2973.5,2974,2974.5,2975,2975.5,2976,2976.5,2977,2977.5,2978,2978.5,2979,2979.5,2980,2980.5,2981,2981.5,2982,2982.5,2983,2983.5,2984,2984.5,2985,2985.5,2986,2986.5,2987,2987.5,2988,2988.5,2989,2989.5,2990,2990.5,2991,2991.5,2992,2992.5,2993,2993.5,2994,2994.5,2995,2995.5,2996,2996.5,2997,2997.5,2998,2998.5,2999,2999.5,3000,3000.5,3001,3001.5,3002,3002.5,3003,3003.5,3004,3004.5,3005,3005.5,3006,3006.5,3007,3007.5,3008,3008.5,3009,3009.5,3010,3010.5,3011,3011.5,3012,3012.5,3013,3013.5,3014,3014.5,3015,3015.5,3016,3016.5,3017,3017.5,3018,3018.5,3019,3019.5,3020,3020.5,3021,3021.5,3022,3022.5,3023,3023.5,3024,3024.5,3025,3025.5,3026,3026.5,3027,3027.5,3028],\"x\":[4.0185517982171,4.0056703776369,3.9927889570567,3.9799075364764,3.9455570815959,3.8983252061351,3.8725623649747,3.8510933306743,3.8467995238143,3.8081552620736,3.7437481591726,3.6707534425514,3.5762896916298,3.4732383269881,3.3959498035069,3.1726718467832,3.0481514478412,2.9622753106398,2.8892805940186,2.8248734911175,2.7518787744963,2.6788840578751,2.6445336029946,2.6359459892744,2.6531212167147,2.6874716715953,2.6874716715953,2.6617088304348,2.6531212167147,2.7046468990355,2.7862292293769,2.8892805940186,3.0524452547012,3.1855532673634,3.284310825145,3.4174188378072,3.4990011681486,3.5505268504694,3.5634082710496,3.524764009309,3.4431816789676,3.404537417227,3.464650713268,3.8639747512545,4.1817164588997,4.439344870504,4.7012670889683,5.0962973200947,5.4569770963406,5.6544922119039,5.7360745422452,5.6802550530643,5.538559426682,5.3410443111187,5.2551681739173,5.1349415818354,4.928838852552,4.7141485095485,4.503751973405,4.2933554372616,4.1688350383195,4.0958403216983,4.0700774805379,4.0486084462376,4.0872527079782,4.2160669137803,4.3620563470227,4.5423962351457,4.7699679987294,4.9503078868523,5.0791220926545,5.2036424915965,5.3410443111187,5.4956213580813,5.723193121665,5.7876002245661,5.7661311902657,5.7103117010848,5.6244355638834,5.4827399375011,5.3238690836785,5.2165239121767,5.1349415818354,5.0318902171937,4.9245450456919,4.8343751016304,4.8129060673301,4.8773131702311,5.0619468652142,5.1692920367159,5.1177663543951,4.9717769211527,4.7270299301287,4.4049944156234,4.2289483343605,4.1130155491386,4.0228456050771,3.9155004335754,3.7480419660326,3.6063463396503,3.5762896916298,3.6063463396503,3.6793410562715,3.6707534425514,3.5977587259302,3.4990011681486,3.3830683829267,3.2971922457253,3.2542541771245,3.2413727565443,3.2542541771245,3.284310825145,3.3186612800256,3.3186612800256,3.2757232114249,3.1855532673634,3.035270027261,2.8892805940186,2.7604663882165,2.6015955343939,2.485662749172,2.4427246805713,2.4598999080115,2.5157193971924,2.6187707618341,2.7862292293769,3.0052133792405,3.1855532673634,3.3530117349062,3.4818259407083,3.5204702024489,3.5548206573295,3.8682685581146,4.0357270256574,4.1860102657598,4.3620563470227,4.6153909517669,5.0877097063746,5.5943789158629,6.0924605116311,6.7150625063413,7.2002626815292,7.4020716039525,7.4578910931334,7.5222981960345,7.5180043891744,7.3376645010515,7.007041372826,6.5304288113582,5.907826816648,5.3152814699583,4.868725556511,4.6282723723471,4.443638677364,4.2332421412206,4.0056703776369,3.7523357728927,3.5762896916298,3.4732383269881,3.4217126446673,3.4088312240871,3.4002436103669,3.3830683829267,3.344424121186,3.3315427006058,3.3658931554864,3.4388878721076,3.5677020779097,3.6965162837118,3.7609233866129,3.7609233866129,3.6578720219712,3.4990011681486,3.3959498035069,3.3229550868857,3.3143674731655,3.3959498035069,3.4990011681486,3.6020525327902,3.7480419660326,3.9842013433365,4.3749377676029,4.8386689084905,5.3839823797194,5.9207082372282,6.1912180694127,6.2040994899929,6.1053419322113,5.9550586921088,5.7360745422452,5.4956213580813,5.2165239121767,4.9460140799923,4.6540352135075,4.3448811195824,4.1044279354185,3.9498508884559,3.8253304895139,3.6750472494114,3.5677020779097,3.5204702024489,3.4947073612885,3.464650713268,3.4388878721076,3.4174188378072,3.3787745760666,3.3186612800256,3.2671355977048,3.2327851428242,3.2156099153839,3.1898470742235,3.1726718467832,3.1726718467832,3.1726718467832,3.1898470742235,3.2284913359641,3.2585479839846,3.2456665634044,3.2241975291041,3.1898470742235,3.159790426203,3.2027284948037,3.3186612800256,3.404537417227,3.4603569064079,3.5161763955888,3.524764009309,3.524764009309,3.5634082710496,3.5934649190701,3.5719958847698,3.5290578161691,3.4603569064079,3.344424121186,3.2456665634044,3.2113161085238,3.2284913359641,3.284310825145,3.2971922457253,3.2671355977048,3.2113161085238,3.1254399713224,3.0867957095818,3.0867957095818,3.0825019027217,3.0610328684214,3.0180947998207,2.9708629243599,2.9279248557592,2.8892805940186,2.8377549116977,2.7776416156567,2.7218221264758,2.6874716715953,2.6617088304348,2.6445336029946,2.6445336029946,2.670296444155,2.6874716715953,2.7218221264758,2.7432911607762,2.8076982636772,2.8978682077387,3.039563834121,3.1984346879436,3.3530117349062,3.5204702024489,3.7308667385924,4.0400208325174,4.3663501538828,4.5080457802651,4.4951643596849,4.3105306647019,4.0400208325174,3.7523357728927,3.5290578161691,3.344424121186,3.1512028124829,2.9923319586603,2.8892805940186,2.8592239459981,2.8463425254179,2.8463425254179,2.8463425254179,2.8291672979776,2.7991106499571,2.7518787744963,2.7046468990355,2.6874716715953,2.7046468990355,2.8162858773974,2.8763991734384,2.9408062763394,3.0481514478412,3.1726718467832,3.2585479839846,3.3186612800256,3.3315427006058,3.3186612800256,3.2971922457253,3.2971922457253,3.3787745760666,3.3787745760666,3.4775321338482,3.6278153739507,3.7437481591726,3.8124490689337,3.8124490689337,3.833918103234,3.7652171934729,3.6321091808107,3.5075887818687,3.3959498035069,3.2456665634044,3.1125585507422,3.0266824135408,2.9493938900596,2.8892805940186,2.8892805940186,2.9064558214588,2.9279248557592,2.9622753106398,2.9923319586603,3.0180947998207,3.0610328684214,3.1254399713224,3.1898470742235,3.2284913359641,3.2671355977048,3.2971922457253,3.3315427006058,3.3530117349062,3.3530117349062,3.3487179280461,3.344424121186,3.3358365074659,3.3315427006058,3.344424121186,3.3530117349062,3.3615993486263,3.344424121186,3.284310825145,3.2284913359641,3.1898470742235,3.1512028124829,3.1254399713224,3.1125585507422,3.099677130162,3.1082647438822,3.1469090056228,3.1898470742235,3.2456665634044,3.3229550868857,3.3873621897867,3.4217126446673,3.4474754858277,3.464650713268,3.4732383269881,3.4775321338482,3.4775321338482,3.4818259407083,3.464650713268,3.4388878721076,3.404537417227,3.3787745760666,3.3830683829267,3.4990011681486,3.6750472494114,3.8596809443945,4.0314332187973,4.2074793000602,4.4736953253845,4.9202512388318,5.233699139617,5.3882761865795,5.3882761865795,5.2294053327569,5.0619468652142,4.9503078868523,4.868725556511,4.7785556124495,4.684091861528,4.5767466900262,4.4822829391047,4.4651077116644,4.4951643596849,4.5166333939852,4.5295148145654,4.5466900420057,4.5681590763061,4.6153909517669,4.688385668388,4.7699679987294,4.8816069770912,4.9846583417329,5.0576530583541,5.1091787406749,5.1564106161357,5.1864672641562,5.2036424915965,5.2036424915965,5.2165239121767,5.2294053327569,5.233699139617,5.2422867533371,5.2551681739173,5.2637557876375,5.2723434013576,5.2895186287979,5.3024000493781,5.3195752768184,5.3410443111187,5.3281628905385,5.2637557876375,5.1864672641562,5.1177663543951,5.0447716377739,5.0147149897534,5.0061273760333,5.0018335691732,5.0018335691732,5.0233026034735,5.0748282857944,5.1392353886954,5.2122301053166,5.353925731699,5.3839823797194,5.3968638002997,5.4011576071597,5.4011576071597,5.4011576071597,5.3968638002997,5.3839823797194,5.3367505042587,5.2680495944975,5.1907610710163,5.0962973200947,4.9846583417329,4.8730193633711,4.7570865781492,4.6712104409478,4.5939219174665,4.5252210077054,4.499458166545,4.4951643596849,4.4779891322446,4.439344870504,4.4135820293435,4.3921129950432,4.3448811195824,4.2718864029612,4.2203607206404,4.19889168634,4.1903040726199,4.2117731069202,4.2632987892411,4.3148244715619,4.3749377676029,4.3749377676029,4.4479324842241,4.503751973405,4.5338086214255,4.563865269446,4.5896281106064,4.6153909517669,4.6368599860672,4.6368599860672,4.6626228272276,4.688385668388,4.6926794752481,4.6626228272276]},\"column_names\":[\"y\",\"x\"],\"cont_ranges\":{},\"discrete_ranges\":{},\"selected\":[],\"id\":\"9ad64c8d-0dc1-490d-c9da-0dd82bac1e91\",\"doc\":null,\"tags\":[]}},{\"id\":\"88fe02b4-c305-4443-c4bc-51a48e8ab53c\",\"type\":\"Line\",\"attributes\":{\"fill_alpha\":{\"units\":\"data\",\"value\":0.2},\"line_alpha\":{\"units\":\"data\",\"value\":1},\"doc\":null,\"size\":{\"units\":\"screen\",\"value\":10},\"fill_color\":{\"value\":\"blue\"},\"line_color\":{\"value\":\"blue\"},\"x\":{\"units\":\"data\",\"field\":\"x\"},\"id\":\"88fe02b4-c305-4443-c4bc-51a48e8ab53c\",\"y\":{\"units\":\"data\",\"field\":\"y\"},\"tags\":[]}},{\"id\":\"3de3aa81-2bc2-4514-c55b-552a597be5ee\",\"type\":\"Line\",\"attributes\":{\"fill_alpha\":{\"units\":\"data\",\"value\":0.2},\"line_alpha\":{\"units\":\"data\",\"value\":1},\"doc\":null,\"size\":{\"units\":\"screen\",\"value\":10},\"fill_color\":{\"value\":\"blue\"},\"line_color\":{\"value\":\"blue\"},\"x\":{\"units\":\"data\",\"field\":\"x\"},\"id\":\"3de3aa81-2bc2-4514-c55b-552a597be5ee\",\"y\":{\"units\":\"data\",\"field\":\"y\"},\"tags\":[]}},{\"id\":\"30478146-1415-43bc-c354-2f11b7f63741\",\"type\":\"GlyphRenderer\",\"attributes\":{\"name\":null,\"nonselection_glyph\":{\"type\":\"Line\",\"id\":\"3de3aa81-2bc2-4514-c55b-552a597be5ee\"},\"doc\":null,\"server_data_source\":null,\"data_source\":{\"type\":\"ColumnDataSource\",\"id\":\"9ad64c8d-0dc1-490d-c9da-0dd82bac1e91\"},\"glyph\":{\"type\":\"Line\",\"id\":\"88fe02b4-c305-4443-c4bc-51a48e8ab53c\"},\"selection_glyph\":null,\"id\":\"30478146-1415-43bc-c354-2f11b7f63741\",\"tags\":[]}},{\"id\":\"67fedde7-77f3-4be4-cbee-f8d7e302e1f3\",\"type\":\"ColumnDataSource\",\"attributes\":{\"data\":{\"y\":[2793,2793.5,2794,2794.5,2795,2795.5,2796,2796.5,2797,2797.5,2798,2798.5,2799,2799.5,2800,2800.5,2801,2801.5,2802,2802.5,2803,2803.5,2804,2804.5,2805,2805.5,2806,2806.5,2807,2807.5,2808,2808.5,2809,2809.5,2810,2810.5,2811,2811.5,2812,2812.5,2813,2813.5,2814,2814.5,2815,2815.5,2816,2816.5,2817,2817.5,2818,2818.5,2819,2819.5,2820,2820.5,2821,2821.5,2822,2822.5,2823,2823.5,2824,2824.5,2825,2825.5,2826,2826.5,2827,2827.5,2828,2828.5,2829,2829.5,2830,2830.5,2831,2831.5,2832,2832.5,2833,2833.5,2834,2834.5,2835,2835.5,2836,2836.5,2837,2837.5,2838,2838.5,2839,2839.5,2840,2840.5,2841,2841.5,2842,2842.5,2843,2843.5,2844,2844.5,2845,2845.5,2846,2846.5,2847,2847.5,2848,2848.5,2849,2849.5,2850,2850.5,2851,2851.5,2852,2852.5,2853,2853.5,2854,2854.5,2855,2855.5,2856,2856.5,2857,2857.5,2858,2858.5,2859,2859.5,2860,2860.5,2861,2861.5,2862,2862.5,2863,2863.5,2864,2864.5,2865,2865.5,2866,2866.5,2867,2867.5,2868,2868.5,2869,2869.5,2870,2870.5,2871,2871.5,2872,2872.5,2873,2873.5,2874,2874.5,2875,2875.5,2876,2876.5,2877,2877.5,2878,2878.5,2879,2879.5,2880,2880.5,2881,2881.5,2882,2882.5,2883,2883.5,2884,2884.5,2885,2885.5,2886,2886.5,2887,2887.5,2888,2888.5,2889,2889.5,2890,2890.5,2891,2891.5,2892,2892.5,2893,2893.5,2894,2894.5,2895,2895.5,2896,2896.5,2897,2897.5,2898,2898.5,2899,2899.5,2900,2900.5,2901,2901.5,2902,2902.5,2903,2903.5,2904,2904.5,2905,2905.5,2906,2906.5,2907,2907.5,2908,2908.5,2909,2909.5,2910,2910.5,2911,2911.5,2912,2912.5,2913,2913.5,2914,2914.5,2915,2915.5,2916,2916.5,2917,2917.5,2918,2918.5,2919,2919.5,2920,2920.5,2921,2921.5,2922,2922.5,2923,2923.5,2924,2924.5,2925,2925.5,2926,2926.5,2927,2927.5,2928,2928.5,2929,2929.5,2930,2930.5,2931,2931.5,2932,2932.5,2933,2933.5,2934,2934.5,2935,2935.5,2936,2936.5,2937,2937.5,2938,2938.5,2939,2939.5,2940,2940.5,2941,2941.5,2942,2942.5,2943,2944,2944,2944.5,2945,2945.5,2946,2946.5,2947,2947.5,2948,2948.5,2949,2949.5,2950,2950.5,2951,2951.5,2952,2952.5,2953,2953.5,2954,2954.5,2955,2955.5,2956,2956.5,2957,2957.5,2958,2958.5,2959,2959.5,2960,2960.5,2961,2961.5,2962,2962.5,2963,2963.5,2964,2964.5,2965,2965.5,2966,2966.5,2967,2967.5,2968,2968.5,2969,2969.5,2970,2970.5,2971,2971.5,2972,2972.5,2973,2973.5,2974,2974.5,2975,2975.5,2976,2976.5,2977,2977.5,2978,2978.5,2979,2979.5,2980,2980.5,2981,2981.5,2982,2982.5,2983,2983.5,2984,2984.5,2985,2985.5,2986,2986.5,2987,2987.5,2988,2988.5,2989,2989.5,2990,2990.5,2991,2991.5,2992,2992.5,2993,2993.5,2994,2994.5,2995,2995.5,2996,2996.5,2997,2997.5,2998,2998.5,2999,2999.5,3000,3000.5,3001,3001.5,3002,3002.5,3003,3003.5,3004,3004.5,3005,3005.5,3006,3006.5,3007,3007.5,3008,3008.5,3009,3009.5,3010,3010.5,3011,3011.5,3012,3012.5,3013,3013.5,3014,3014.5,3015,3015.5,3016,3016.5,3017,3017.5,3018,3018.5,3019,3019.5,3020,3020.5,3021,3021.5,3022,3022.5,3023,3023.5,3024,3024.5,3025,3025.5,3026,3026.5,3027,3027.5,3028],\"x\":[8.5120999370322,9.5169013345049,9.6571061806639,9.4467989114254,9.3533290139861,9.4701663857853,9.8440459755426,10.054353244781,9.9842508217016,10.14782314222,9.6571061806639,9.3065940652665,8.8392445780698,9.3065940652665,9.5402688088648,8.956081949869,8.4186300395929,8.2550577190741,7.8811781293168,7.7409732831578,7.4839310651997,7.6241359113586,7.6007684369988,7.7877082318775,7.6241359113586,7.5540334882792,7.4138286421202,7.9279130780364,8.8859795267895,9.5169013345049,9.4467989114254,8.8859795267895,8.6055698344715,8.5120999370322,8.7925096293502,9.0261843729485,8.8392445780698,9.4935338601451,9.8907809242622,9.8206785011827,9.4701663857853,9.6337387063041,10.2179255653,8.9093470011493,7.9045456036766,7.5306660139193,7.3904611677603,7.2736237959612,7.2268888472415,7.296991270321,7.4138286421202,7.717605808798,8.0213829754758,8.535467411392,8.2083227703544,7.4605635908398,7.0399490523629,7.3904611677603,8.4653649883126,9.1897566934673,9.6804736550238,9.9375158729819,10.054353244781,9.7505760781032,8.3251601421536,7.6241359113586,7.2035213728817,6.8763767318441,6.9231116805637,7.1100514754424,7.4138286421202,7.577400962639,7.6007684369988,7.5540334882792,7.0399490523629,7.0399490523629,6.8997442062039,7.0399490523629,6.7361718856851,6.7128044113252,6.7128044113252,6.6894369369654,6.4557621933671,6.6427019882458,7.2035213728817,8.1382203472749,8.7691421549904,8.8392445780698,8.4419975139527,7.9045456036766,7.5306660139193,7.0399490523629,6.8763767318441,6.6660694626056,6.6193345138859,7.6007684369988,8.2083227703544,8.4419975139527,8.3017926677937,8.81587710371,9.0028168985887,9.096286796028,9.1663892191075,9.2832265909066,9.4935338601451,9.5636362832246,9.0261843729485,8.4653649883126,7.6241359113586,7.8344431805971,8.3952625652331,9.2832265909066,9.2598591165468,8.81587710371,7.3437262190407,6.7128044113252,7.3904611677603,8.1382203472749,7.9512805523963,7.6241359113586,7.4605635908398,7.296991270321,7.2268888472415,7.156786424162,7.5540334882792,7.7877082318775,7.7409732831578,7.2268888472415,7.0399490523629,7.9512805523963,8.0914853985553,8.3485276165134,7.6942383344381,7.2035213728817,7.3437262190407,8.0447504498356,8.0213829754758,7.6007684369988,7.3670936934005,7.156786424162,7.296991270321,7.4138286421202,7.296991270321,7.1801538985219,6.9231116805637,7.1801538985219,7.156786424162,7.1801538985219,7.0399490523629,6.9698466292834,7.1801538985219,7.6241359113586,8.3952625652331,8.6523047831912,8.4419975139527,8.2083227703544,8.2784251934339,8.8626120524297,9.3299615396263,9.6103712319443,9.6337387063041,9.236491642187,9.0261843729485,8.8626120524297,8.7691421549904,8.5588348857519,8.3952625652331,8.4653649883126,8.1615878216348,7.8110757062373,7.4839310651997,7.43719611648,7.5306660139193,7.4605635908398,6.6660694626056,5.3107559497354,5.7313704882124,5.1939185779362,6.5725995651663,6.6427019882458,7.1801538985219,7.296991270321,7.5072985395595,7.4605635908398,7.4839310651997,7.3670936934005,7.3904611677603,7.2502563216014,7.3670936934005,7.43719611648,7.4839310651997,7.156786424162,7.1100514754424,7.5306660139193,8.3251601421536,9.096286796028,9.4000639627058,9.4000639627058,9.2131241678271,9.0028168985887,8.8392445780698,8.7457746806305,8.6289373088314,8.7925096293502,8.8859795267895,8.81587710371,8.6055698344715,8.2784251934339,8.2550577190741,8.1382203472749,8.1849552959946,8.2083227703544,8.3017926677937,8.3251601421536,8.3485276165134,8.2316902447142,8.1148528729151,7.9045456036766,7.9512805523963,8.1615878216348,8.3251601421536,8.0914853985553,7.6942383344381,7.0633165267227,6.7829068344047,6.7361718856851,6.6427019882458,6.7595393600449,7.016581578003,7.1100514754424,7.0633165267227,6.8997442062039,6.9231116805637,7.1100514754424,7.0399490523629,7.016581578003,7.5306660139193,8.0681179241954,8.2083227703544,7.7877082318775,7.6708708600783,7.6007684369988,7.7877082318775,7.9512805523963,7.9746480267561,8.1615878216348,8.535467411392,9.0729193216682,9.376696488346,8.9093470011493,8.6289373088314,7.9279130780364,7.6942383344381,7.2502563216014,7.2268888472415,7.3670936934005,7.577400962639,7.7877082318775,7.857810654957,7.8110757062373,8.0681179241954,8.2083227703544,9.0495518473083,9.4000639627058,9.1663892191075,8.1148528729151,6.9231116805637,6.5959670395261,6.5024971420868,6.7361718856851,7.0399490523629,7.0399490523629,7.1100514754424,7.5306660139193,7.9045456036766,8.5120999370322,8.7691421549904,8.9794494242288,8.7691421549904,8.1615878216348,8.0213829754758,8.1148528729151,8.7925096293502,8.9093470011493,8.9794494242288,9.4234314370656,9.8206785011827,9.7505760781032,10.521702731978,10.381497885819,8.1148528729151,7.6241359113586,7.296991270321,7.2268888472415,7.2736237959612,7.3904611677603,7.4138286421202,7.4839310651997,7.3904611677603,7.2736237959612,7.2035213728817,7.296991270321,7.296991270321,7.43719611648,7.577400962639,7.577400962639,7.2035213728817,7.2035213728817,7.016581578003,7.0866840010825,7.3670936934005,7.6475033857185,7.9512805523963,8.6289373088314,9.2832265909066,9.2131241678271,9.6804736550238,9.6337387063041,9.6804736550238,9.4935338601451,9.3533290139861,9.376696488346,9.4935338601451,9.6337387063041,9.4467989114254,9.3299615396263,9.376696488346,9.2598591165468,9.3299615396263,9.236491642187,9.3533290139861,9.0495518473083,9.1430217447476,9.4000639627058,9.6103712319443,9.4000639627058,9.1663892191075,9.1196542703878,9.0028168985887,9.0028168985887,8.8392445780698,8.6523047831912,8.7925096293502,9.0729193216682,9.7038411293836,10.2179255653,10.101088193501,9.7739435524631,9.3533290139861,9.0495518473083,8.9327144755092,9.0261843729485,9.0729193216682,9.0729193216682,9.1196542703878,8.7224072062707,8.7457746806305,8.8626120524297,8.7457746806305,8.5588348857519,8.535467411392,8.5588348857519,8.7457746806305,8.675672257551,8.7691421549904,9.376696488346,9.9842508217016,9.7038411293836,8.6289373088314,7.6475033857185,7.577400962639,7.43719611648,7.3437262190407,7.1100514754424,6.7361718856851,6.2220874497688,6.2220874497688,7.0633165267227,8.3952625652331,9.3065940652665,8.7925096293502,7.857810654957,7.3203587446808,7.016581578003,6.7128044113252,6.5492320908064,6.4090272446474,6.3155573472081,6.338924821568,6.5492320908064,6.6894369369654,6.7361718856851,6.7361718856851,6.7829068344047,6.7595393600449,6.8296417831244,6.6894369369654,6.7595393600449,6.6894369369654,6.8296417831244,6.8296417831244,6.7595393600449,6.8763767318441,6.9231116805637,7.2736237959612,7.2035213728817,7.1100514754424,7.0633165267227,7.2035213728817,7.2502563216014,7.3203587446808,7.2736237959612,7.296991270321,7.3203587446808,7.4138286421202,7.8110757062373,8.1849552959946,8.5120999370322,8.6055698344715,8.535467411392,8.3718950908732,8.1615878216348,7.9746480267561,7.9045456036766,7.9746480267561,8.0213829754758,8.0213829754758,7.9746480267561,7.8811781293168,7.857810654957,7.9279130780364,7.9980155011159,7.8811781293168,7.857810654957,7.7877082318775,7.857810654957,7.857810654957,8.0681179241954,8.0914853985553,8.1148528729151,8.0681179241954,8.2784251934339,8.535467411392,8.7691421549904,8.3952625652331,8.0213829754758,7.7409732831578,7.9279130780364,7.6942383344381,7.2035213728817,6.4791296677269,6.2688223984885,6.3155573472081,6.5959670395261,6.6427019882458,6.5725995651663,6.4090272446474,6.6660694626056,6.6660694626056,6.8296417831244,6.7829068344047,6.5258646164466,6.5725995651663,6.6894369369654,6.6427019882458,6.5492320908064,6.5492320908064,6.6660694626056,6.9698466292834,6.7829068344047,6.5725995651663]},\"column_names\":[\"y\",\"x\"],\"cont_ranges\":{},\"discrete_ranges\":{},\"selected\":[],\"id\":\"67fedde7-77f3-4be4-cbee-f8d7e302e1f3\",\"doc\":null,\"tags\":[]}},{\"id\":\"bf1c741c-5060-4927-c9b9-07391de6e8a4\",\"type\":\"Line\",\"attributes\":{\"fill_alpha\":{\"units\":\"data\",\"value\":0.2},\"line_alpha\":{\"units\":\"data\",\"value\":1},\"doc\":null,\"size\":{\"units\":\"screen\",\"value\":10},\"fill_color\":{\"value\":\"green\"},\"line_color\":{\"value\":\"green\"},\"x\":{\"units\":\"data\",\"field\":\"x\"},\"id\":\"bf1c741c-5060-4927-c9b9-07391de6e8a4\",\"y\":{\"units\":\"data\",\"field\":\"y\"},\"tags\":[]}},{\"id\":\"e4375cef-c895-46d0-c6a9-fab205519e72\",\"type\":\"Line\",\"attributes\":{\"fill_alpha\":{\"units\":\"data\",\"value\":0.2},\"line_alpha\":{\"units\":\"data\",\"value\":1},\"doc\":null,\"size\":{\"units\":\"screen\",\"value\":10},\"fill_color\":{\"value\":\"green\"},\"line_color\":{\"value\":\"green\"},\"x\":{\"units\":\"data\",\"field\":\"x\"},\"id\":\"e4375cef-c895-46d0-c6a9-fab205519e72\",\"y\":{\"units\":\"data\",\"field\":\"y\"},\"tags\":[]}},{\"id\":\"648b2e60-e405-4c40-cc5b-fff61141078a\",\"type\":\"GlyphRenderer\",\"attributes\":{\"name\":null,\"nonselection_glyph\":{\"type\":\"Line\",\"id\":\"e4375cef-c895-46d0-c6a9-fab205519e72\"},\"doc\":null,\"server_data_source\":null,\"data_source\":{\"type\":\"ColumnDataSource\",\"id\":\"67fedde7-77f3-4be4-cbee-f8d7e302e1f3\"},\"glyph\":{\"type\":\"Line\",\"id\":\"bf1c741c-5060-4927-c9b9-07391de6e8a4\"},\"selection_glyph\":null,\"id\":\"648b2e60-e405-4c40-cc5b-fff61141078a\",\"tags\":[]}},{\"id\":\"489e075e-014c-4ef5-ce93-ac111bcdfad3\",\"type\":\"ColumnDataSource\",\"attributes\":{\"data\":{\"y\":[2793,2793.5,2794,2794.5,2795,2795.5,2796,2796.5,2797,2797.5,2798,2798.5,2799,2799.5,2800,2800.5,2801,2801.5,2802,2802.5,2803,2803.5,2804,2804.5,2805,2805.5,2806,2806.5,2807,2807.5,2808,2808.5,2809,2809.5,2810,2810.5,2811,2811.5,2812,2812.5,2813,2813.5,2814,2814.5,2815,2815.5,2816,2816.5,2817,2817.5,2818,2818.5,2819,2819.5,2820,2820.5,2821,2821.5,2822,2822.5,2823,2823.5,2824,2824.5,2825,2825.5,2826,2826.5,2827,2827.5,2828,2828.5,2829,2829.5,2830,2830.5,2831,2831.5,2832,2832.5,2833,2833.5,2834,2834.5,2835,2835.5,2836,2836.5,2837,2837.5,2838,2838.5,2839,2839.5,2840,2840.5,2841,2841.5,2842,2842.5,2843,2843.5,2844,2844.5,2845,2845.5,2846,2846.5,2847,2847.5,2848,2848.5,2849,2849.5,2850,2850.5,2851,2851.5,2852,2852.5,2853,2853.5,2854,2854.5,2855,2855.5,2856,2856.5,2857,2857.5,2858,2858.5,2859,2859.5,2860,2860.5,2861,2861.5,2862,2862.5,2863,2863.5,2864,2864.5,2865,2865.5,2866,2866.5,2867,2867.5,2868,2868.5,2869,2869.5,2870,2870.5,2871,2871.5,2872,2872.5,2873,2873.5,2874,2874.5,2875,2875.5,2876,2876.5,2877,2877.5,2878,2878.5,2879,2879.5,2880,2880.5,2881,2881.5,2882,2882.5,2883,2883.5,2884,2884.5,2885,2885.5,2886,2886.5,2887,2887.5,2888,2888.5,2889,2889.5,2890,2890.5,2891,2891.5,2892,2892.5,2893,2893.5,2894,2894.5,2895,2895.5,2896,2896.5,2897,2897.5,2898,2898.5,2899,2899.5,2900,2900.5,2901,2901.5,2902,2902.5,2903,2903.5,2904,2904.5,2905,2905.5,2906,2906.5,2907,2907.5,2908,2908.5,2909,2909.5,2910,2910.5,2911,2911.5,2912,2912.5,2913,2913.5,2914,2914.5,2915,2915.5,2916,2916.5,2917,2917.5,2918,2918.5,2919,2919.5,2920,2920.5,2921,2921.5,2922,2922.5,2923,2923.5,2924,2924.5,2925,2925.5,2926,2926.5,2927,2927.5,2928,2928.5,2929,2929.5,2930,2930.5,2931,2931.5,2932,2932.5,2933,2933.5,2934,2934.5,2935,2935.5,2936,2936.5,2937,2937.5,2938,2938.5,2939,2939.5,2940,2940.5,2941,2941.5,2942,2942.5,2943,2944,2944,2944.5,2945,2945.5,2946,2946.5,2947,2947.5,2948,2948.5,2949,2949.5,2950,2950.5,2951,2951.5,2952,2952.5,2953,2953.5,2954,2954.5,2955,2955.5,2956,2956.5,2957,2957.5,2958,2958.5,2959,2959.5,2960,2960.5,2961,2961.5,2962,2962.5,2963,2963.5,2964,2964.5,2965,2965.5,2966,2966.5,2967,2967.5,2968,2968.5,2969,2969.5,2970,2970.5,2971,2971.5,2972,2972.5,2973,2973.5,2974,2974.5,2975,2975.5,2976,2976.5,2977,2977.5,2978,2978.5,2979,2979.5,2980,2980.5,2981,2981.5,2982,2982.5,2983,2983.5,2984,2984.5,2985,2985.5,2986,2986.5,2987,2987.5,2988,2988.5,2989,2989.5,2990,2990.5,2991,2991.5,2992,2992.5,2993,2993.5,2994,2994.5,2995,2995.5,2996,2996.5,2997,2997.5,2998,2998.5,2999,2999.5,3000,3000.5,3001,3001.5,3002,3002.5,3003,3003.5,3004,3004.5,3005,3005.5,3006,3006.5,3007,3007.5,3008,3008.5,3009,3009.5,3010,3010.5,3011,3011.5,3012,3012.5,3013,3013.5,3014,3014.5,3015,3015.5,3016,3016.5,3017,3017.5,3018,3018.5,3019,3019.5,3020,3020.5,3021,3021.5,3022,3022.5,3023,3023.5,3024,3024.5,3025,3025.5,3026,3026.5,3027,3027.5,3028],\"x\":[11.95134521894,12.073591105042,12.164805343134,12.177029931744,12.211822991635,12.227808992125,12.330307465857,12.328426759917,12.339710995557,12.384847938118,12.225928286185,12.097099929293,12.056664751582,12.518378059861,12.823992775117,12.712090771685,12.554111472721,12.567276414302,12.604890533102,12.509914883131,12.49392888264,12.429984880679,12.48358499997,12.556932531632,12.621816886563,12.47042005839,12.274826640626,12.541886884111,13.51515220808,14.226999406384,14.145188697992,13.170042668083,12.308679347547,11.485870498781,10.698795062876,10.700675768816,11.922194276869,13.032751134461,13.49916620759,13.108919725032,12.666953829124,12.715852183565,13.099516195332,11.98425757289,10.971497424181,10.574668470833,10.579370235683,10.652717767345,10.706317886636,10.711019651486,10.798472477698,10.91037448113,11.067413427123,11.389014142869,11.469884498291,11.4256879087,11.257364727066,11.191540019165,11.323189434968,11.715316623465,12.037857692182,12.256959934196,12.134714048093,11.926896041719,11.397477319599,11.389954495839,11.44355461513,11.497154734421,11.382431672079,11.226333079056,11.003469425161,10.854893655899,10.864297185599,10.959272835571,11.001588719221,10.885925303909,10.881223539059,10.874641068269,10.90943412816,10.953630717751,11.093743310283,11.277112139437,11.373028142379,11.238557667666,11.185897901345,11.340115788428,11.598712855183,11.751050036326,11.556396971532,11.116311781564,10.700675768816,10.471229644131,10.530471881242,11.552635559652,13.386323851188,14.722565421583,14.777105893844,13.804780922846,12.717732889505,12.073591105042,11.909029335289,12.020931338721,11.917492512019,11.916552159049,12.056664751582,12.173268519864,12.221226521335,12.554111472721,13.562169856581,14.078423637121,13.717328096634,12.951880779039,12.853143717187,13.222702434404,13.548064562031,13.52831714966,12.937775484489,12.695164418224,12.879473600348,12.964105367649,13.01488442803,12.944357955279,12.797662891956,12.379205820298,12.202419461935,12.666953829124,13.480359148189,13.557468091731,12.866308658768,11.925955688749,12.445970881169,14.192206346493,14.726326833464,12.834336657787,11.256424374096,10.596296589144,10.507903409962,10.504141998082,10.42233128969,10.301966109528,10.123299045224,10.009516335852,10.040547983863,10.154330693235,10.295383638738,10.265292343697,10.280337991218,10.278457285277,10.358387287729,10.480633173831,10.675286238625,11.184957548375,11.816874744227,12.337830289617,12.147878989674,11.671120033874,11.362684259708,11.648551562594,12.295514405966,12.843740187487,13.025228310701,12.765690890976,12.503332412341,12.206180873815,12.057605104552,11.877997687278,11.837562509568,11.753871095236,11.659835798234,11.475526616111,11.314726258238,11.327891199818,11.587428619543,12.295514405966,13.826409041156,16.065389462769,16.757489248703,15.647872744081,12.727136419205,10.787188242057,10.223916813016,10.260590578847,10.328295992688,10.460885761461,10.526710469362,10.584072000533,10.607580824784,10.599117648054,10.531412234212,10.537994705002,10.624507178244,10.739230240586,10.821040948978,11.051427426632,11.46518273344,11.837562509568,11.96262945458,11.97955580804,12.006826044171,12.058545457522,12.010587456051,11.905267923409,11.95980839567,12.164805343134,12.293633700026,12.268244169836,12.137535107003,12.075471810982,12.024692750601,12.033155927331,12.128131577303,12.399893585639,12.382967232178,12.275766993596,12.061366516432,11.95228557191,11.898685452619,11.829099332837,11.849787098178,12.020931338721,12.556932531632,13.834872217886,14.734790010194,14.576810711231,13.268779729935,12.007766397141,11.709674505645,11.790544861067,11.995541808531,12.185493108474,12.347233819317,12.391430408908,12.099920988203,11.797127331857,11.633505915074,11.743527212566,11.94194168924,11.928776747659,11.844144980358,11.704032387825,11.758572860086,11.930657453599,12.005885691201,12.060426163462,12.074531458012,12.067948987222,12.165745696104,12.429984880679,12.678238064764,12.640623945963,12.549409707871,12.46007617572,12.594546650432,12.531543001441,12.426223468799,12.314321465367,12.379205820298,12.413998880189,12.357577701988,12.196777344115,12.46195688166,13.275362200725,14.385919058317,14.645456478042,13.780331745625,12.618995827653,11.93535921845,11.560158383412,11.128536370174,10.825742713828,10.806935654428,10.92730083459,10.968676365271,11.212227784506,11.641969091804,12.220286168365,12.48358499997,12.788259362256,13.102337254242,13.716387743664,13.815124805516,13.554647032821,13.045916076041,13.116442548792,13.305453495766,13.118323254732,12.9876141919,13.231165611135,13.715447390694,14.406606823657,13.631755976362,12.431865586619,11.999303220411,12.069829693162,12.157282519374,12.124370165423,12.100861341173,12.117787694633,12.136594754033,12.116847341663,12.079233222862,11.856369568968,11.856369568968,11.599653208153,11.305322728537,11.178375077585,11.136059193934,11.136059193934,11.176494371645,11.164269783035,11.329771905758,11.999303220411,13.01770548694,13.484120560069,13.402309851678,13.085410900782,12.943417602309,12.880413953318,12.915207013208,12.855964776097,12.814589245417,12.857845482037,12.896399953808,13.066603841381,13.181326903724,13.105158313152,12.650967828633,12.290812641116,12.164805343134,12.303037229727,12.308679347547,12.395191820788,12.571978179152,12.807066421656,12.886056071138,12.776034773646,12.573858885092,12.554111472721,12.558813237572,12.49769029452,12.406476056429,12.662252064274,13.097635489392,13.612948916962,13.852738924317,14.03046563565,13.870605630747,13.537720679361,13.00736160427,12.777915479586,12.696104771194,12.694224065254,12.660371358334,12.574799238062,12.49016747076,12.619936180623,12.575739591032,12.390490055938,12.346293466347,12.430925233649,12.552230766781,12.668834535064,12.553171119751,12.342532054467,12.355696996048,13.471895971459,14.108514932162,13.626113858542,11.988959337741,10.91789730489,10.621686119334,10.593475530234,10.588773765383,10.783426830177,11.092802957313,11.283694610227,11.314726258238,11.345757906248,11.595891796273,11.550754853712,11.44825637998,11.218810255296,11.117252134534,11.211287431536,11.270529668647,11.311905199327,11.246080491426,11.236676961726,11.116311781564,10.983722012791,10.879342833119,10.846430479168,10.953630717751,11.028858955352,11.089041545433,11.015694013772,10.971497424181,10.967736012301,11.040143190992,11.110669663744,11.110669663744,11.150164488484,11.159568018185,11.089041545433,11.001588719221,11.004409778132,11.042964249902,11.046725661782,10.963974600421,10.960213188541,10.968676365271,10.992185189521,10.92824118756,10.865237538569,10.91601659895,11.149224135514,11.597772502213,12.015289220901,12.093338517413,11.824397567987,11.413463320089,11.239498020636,11.136999546904,11.176494371645,11.184957548375,11.271470021617,11.278052492407,11.228213784996,11.239498020636,11.246080491426,11.301561316657,11.316606964178,11.286515669137,11.270529668647,11.221631314206,11.376789554259,11.581786501723,11.852608157088,12.019990985751,11.999303220411,12.036917339211,12.144117577794,12.387668997028,12.505213118281,12.294574052996,11.869534510548,11.219750608266,11.483049439871,11.910910041229,12.219345815395,12.176089578774,12.023752397631,11.927836394689,11.840383568478,11.810292273437,11.691807799215,11.598712855183,11.317547317148,11.317547317148,11.164269783035,11.251722609246,11.645730503684,11.989899690711,12.039738398122,11.801829096707,11.540410971042,11.540410971042,11.266768256767,11.154866253334,11.110669663744,11.090922251373]},\"column_names\":[\"y\",\"x\"],\"cont_ranges\":{},\"discrete_ranges\":{},\"selected\":[],\"id\":\"489e075e-014c-4ef5-ce93-ac111bcdfad3\",\"doc\":null,\"tags\":[]}},{\"id\":\"4323d333-fe4b-47ae-c720-624cf01f3eae\",\"type\":\"Line\",\"attributes\":{\"fill_alpha\":{\"units\":\"data\",\"value\":0.2},\"line_alpha\":{\"units\":\"data\",\"value\":1},\"doc\":null,\"size\":{\"units\":\"screen\",\"value\":10},\"fill_color\":{\"value\":\"brown\"},\"line_color\":{\"value\":\"brown\"},\"x\":{\"units\":\"data\",\"field\":\"x\"},\"id\":\"4323d333-fe4b-47ae-c720-624cf01f3eae\",\"y\":{\"units\":\"data\",\"field\":\"y\"},\"tags\":[]}},{\"id\":\"1aa638fb-0aeb-4e45-cebe-45eea8d8a6e4\",\"type\":\"Line\",\"attributes\":{\"fill_alpha\":{\"units\":\"data\",\"value\":0.2},\"line_alpha\":{\"units\":\"data\",\"value\":1},\"doc\":null,\"size\":{\"units\":\"screen\",\"value\":10},\"fill_color\":{\"value\":\"brown\"},\"line_color\":{\"value\":\"brown\"},\"x\":{\"units\":\"data\",\"field\":\"x\"},\"id\":\"1aa638fb-0aeb-4e45-cebe-45eea8d8a6e4\",\"y\":{\"units\":\"data\",\"field\":\"y\"},\"tags\":[]}},{\"id\":\"a5b6de1d-d2b3-4e39-ce5e-d76a30234d47\",\"type\":\"GlyphRenderer\",\"attributes\":{\"name\":null,\"nonselection_glyph\":{\"type\":\"Line\",\"id\":\"1aa638fb-0aeb-4e45-cebe-45eea8d8a6e4\"},\"doc\":null,\"server_data_source\":null,\"data_source\":{\"type\":\"ColumnDataSource\",\"id\":\"489e075e-014c-4ef5-ce93-ac111bcdfad3\"},\"glyph\":{\"type\":\"Line\",\"id\":\"4323d333-fe4b-47ae-c720-624cf01f3eae\"},\"selection_glyph\":null,\"id\":\"a5b6de1d-d2b3-4e39-ce5e-d76a30234d47\",\"tags\":[]}},{\"id\":\"d8769ff3-60c1-4be2-cbef-3376017c54e6\",\"type\":\"ColumnDataSource\",\"attributes\":{\"data\":{\"y\":[2793,2793.5,2794,2794.5,2795,2795.5,2796,2796.5,2797,2797.5,2798,2798.5,2799,2799.5,2800,2800.5,2801,2801.5,2802,2802.5,2803,2803.5,2804,2804.5,2805,2805.5,2806,2806.5,2807,2807.5,2808,2808.5,2809,2809.5,2810,2810.5,2811,2811.5,2812,2812.5,2813,2813.5,2814,2814.5,2815,2815.5,2816,2816.5,2817,2817.5,2818,2818.5,2819,2819.5,2820,2820.5,2821,2821.5,2822,2822.5,2823,2823.5,2824,2824.5,2825,2825.5,2826,2826.5,2827,2827.5,2828,2828.5,2829,2829.5,2830,2830.5,2831,2831.5,2832,2832.5,2833,2833.5,2834,2834.5,2835,2835.5,2836,2836.5,2837,2837.5,2838,2838.5,2839,2839.5,2840,2840.5,2841,2841.5,2842,2842.5,2843,2843.5,2844,2844.5,2845,2845.5,2846,2846.5,2847,2847.5,2848,2848.5,2849,2849.5,2850,2850.5,2851,2851.5,2852,2852.5,2853,2853.5,2854,2854.5,2855,2855.5,2856,2856.5,2857,2857.5,2858,2858.5,2859,2859.5,2860,2860.5,2861,2861.5,2862,2862.5,2863,2863.5,2864,2864.5,2865,2865.5,2866,2866.5,2867,2867.5,2868,2868.5,2869,2869.5,2870,2870.5,2871,2871.5,2872,2872.5,2873,2873.5,2874,2874.5,2875,2875.5,2876,2876.5,2877,2877.5,2878,2878.5,2879,2879.5,2880,2880.5,2881,2881.5,2882,2882.5,2883,2883.5,2884,2884.5,2885,2885.5,2886,2886.5,2887,2887.5,2888,2888.5,2889,2889.5,2890,2890.5,2891,2891.5,2892,2892.5,2893,2893.5,2894,2894.5,2895,2895.5,2896,2896.5,2897,2897.5,2898,2898.5,2899,2899.5,2900,2900.5,2901,2901.5,2902,2902.5,2903,2903.5,2904,2904.5,2905,2905.5,2906,2906.5,2907,2907.5,2908,2908.5,2909,2909.5,2910,2910.5,2911,2911.5,2912,2912.5,2913,2913.5,2914,2914.5,2915,2915.5,2916,2916.5,2917,2917.5,2918,2918.5,2919,2919.5,2920,2920.5,2921,2921.5,2922,2922.5,2923,2923.5,2924,2924.5,2925,2925.5,2926,2926.5,2927,2927.5,2928,2928.5,2929,2929.5,2930,2930.5,2931,2931.5,2932,2932.5,2933,2933.5,2934,2934.5,2935,2935.5,2936,2936.5,2937,2937.5,2938,2938.5,2939,2939.5,2940,2940.5,2941,2941.5,2942,2942.5,2943,2944,2944,2944.5,2945,2945.5,2946,2946.5,2947,2947.5,2948,2948.5,2949,2949.5,2950,2950.5,2951,2951.5,2952,2952.5,2953,2953.5,2954,2954.5,2955,2955.5,2956,2956.5,2957,2957.5,2958,2958.5,2959,2959.5,2960,2960.5,2961,2961.5,2962,2962.5,2963,2963.5,2964,2964.5,2965,2965.5,2966,2966.5,2967,2967.5,2968,2968.5,2969,2969.5,2970,2970.5,2971,2971.5,2972,2972.5,2973,2973.5,2974,2974.5,2975,2975.5,2976,2976.5,2977,2977.5,2978,2978.5,2979,2979.5,2980,2980.5,2981,2981.5,2982,2982.5,2983,2983.5,2984,2984.5,2985,2985.5,2986,2986.5,2987,2987.5,2988,2988.5,2989,2989.5,2990,2990.5,2991,2991.5,2992,2992.5,2993,2993.5,2994,2994.5,2995,2995.5,2996,2996.5,2997,2997.5,2998,2998.5,2999,2999.5,3000,3000.5,3001,3001.5,3002,3002.5,3003,3003.5,3004,3004.5,3005,3005.5,3006,3006.5,3007,3007.5,3008,3008.5,3009,3009.5,3010,3010.5,3011,3011.5,3012,3012.5,3013,3013.5,3014,3014.5,3015,3015.5,3016,3016.5,3017,3017.5,3018,3018.5,3019,3019.5,3020,3020.5,3021,3021.5,3022,3022.5,3023,3023.5,3024,3024.5,3025,3025.5,3026,3026.5,3027,3027.5,3028],\"x\":[16.420948809054,15.867130683176,15.313312557297,15.202548932122,15.091785306946,15.313312557297,15.424076182473,15.202548932122,15.091785306946,15.202548932122,15.313312557297,15.424076182473,15.202548932122,15.091785306946,14.870258056595,14.759494431419,14.759494431419,14.648730806244,14.537967181068,14.427203555892,14.648730806244,14.648730806244,14.648730806244,14.648730806244,14.648730806244,14.648730806244,14.648730806244,14.648730806244,14.759494431419,14.648730806244,14.759494431419,14.759494431419,14.759494431419,14.870258056595,15.091785306946,16.420948809054,15.867130683176,15.202548932122,14.870258056595,14.870258056595,14.98102168177,14.98102168177,14.98102168177,15.202548932122,15.756367058,16.864003309757,17.417821435635,17.52858506081,17.417821435635,17.307057810459,17.307057810459,17.307057810459,17.417821435635,16.753239684581,16.310185183878,16.088657933527,15.867130683176,16.088657933527,16.088657933527,16.199421558703,15.756367058,15.645603432824,15.424076182473,15.424076182473,16.310185183878,16.974766934932,17.417821435635,17.52858506081,17.307057810459,17.196294185284,17.196294185284,17.085530560108,17.52858506081,17.52858506081,18.082403186689,18.193166811864,17.750112311162,17.639348685986,17.417821435635,17.307057810459,17.196294185284,16.753239684581,16.53171243423,16.420948809054,16.420948809054,16.642476059405,16.420948809054,16.53171243423,16.420948809054,16.53171243423,16.864003309757,17.307057810459,17.417821435635,17.639348685986,15.756367058,14.98102168177,14.427203555892,14.316439930717,14.537967181068,15.202548932122,15.977894308351,15.977894308351,15.645603432824,15.645603432824,15.645603432824,15.534839807649,15.424076182473,15.313312557297,15.313312557297,15.091785306946,15.202548932122,15.091785306946,15.202548932122,15.202548932122,14.98102168177,14.759494431419,14.427203555892,14.427203555892,14.537967181068,14.537967181068,14.537967181068,14.648730806244,14.648730806244,14.870258056595,15.091785306946,15.534839807649,15.202548932122,14.98102168177,14.759494431419,14.98102168177,15.424076182473,15.313312557297,14.759494431419,14.759494431419,15.202548932122,16.420948809054,16.642476059405,16.53171243423,16.420948809054,16.974766934932,17.307057810459,17.860875936337,18.082403186689,17.971639561513,17.750112311162,17.52858506081,17.52858506081,17.639348685986,17.639348685986,17.860875936337,16.974766934932,16.420948809054,15.645603432824,15.313312557297,15.091785306946,14.98102168177,15.202548932122,15.313312557297,15.645603432824,15.645603432824,15.645603432824,15.534839807649,15.424076182473,15.534839807649,15.424076182473,15.756367058,15.867130683176,16.088657933527,16.199421558703,16.199421558703,16.088657933527,15.977894308351,15.756367058,15.424076182473,15.424076182473,14.870258056595,14.648730806244,14.427203555892,14.537967181068,15.313312557297,16.864003309757,17.750112311162,18.193166811864,18.30393043704,18.193166811864,17.860875936337,17.750112311162,17.750112311162,17.639348685986,17.639348685986,17.417821435635,17.52858506081,17.52858506081,17.307057810459,16.53171243423,15.756367058,15.313312557297,15.313312557297,15.424076182473,15.424076182473,15.424076182473,15.202548932122,15.091785306946,14.98102168177,14.98102168177,14.98102168177,14.870258056595,14.98102168177,14.870258056595,14.870258056595,14.870258056595,14.98102168177,14.98102168177,14.98102168177,15.091785306946,14.98102168177,14.98102168177,14.98102168177,15.202548932122,15.202548932122,15.202548932122,15.202548932122,14.98102168177,14.870258056595,14.870258056595,15.424076182473,16.642476059405,17.085530560108,17.307057810459,17.085530560108,17.085530560108,17.196294185284,17.417821435635,17.639348685986,17.639348685986,17.52858506081,16.974766934932,15.756367058,15.313312557297,14.98102168177,15.202548932122,15.091785306946,15.091785306946,15.091785306946,14.98102168177,15.091785306946,14.98102168177,14.98102168177,14.870258056595,14.98102168177,14.870258056595,14.870258056595,14.648730806244,14.648730806244,14.759494431419,14.870258056595,14.98102168177,14.98102168177,14.870258056595,14.870258056595,14.870258056595,15.091785306946,15.202548932122,14.870258056595,14.759494431419,15.091785306946,16.53171243423,17.860875936337,17.639348685986,17.639348685986,17.750112311162,17.52858506081,17.196294185284,16.864003309757,15.977894308351,15.313312557297,14.759494431419,14.870258056595,15.091785306946,14.870258056595,14.870258056595,14.759494431419,14.98102168177,14.870258056595,14.870258056595,14.870258056595,15.091785306946,15.424076182473,15.645603432824,15.534839807649,14.98102168177,15.091785306946,15.756367058,16.864003309757,16.864003309757,17.196294185284,17.971639561513,18.082403186689,17.52858506081,16.974766934932,16.864003309757,16.642476059405,16.642476059405,16.974766934932,17.196294185284,17.639348685986,17.639348685986,17.639348685986,17.639348685986,17.417821435635,16.53171243423,15.977894308351,15.313312557297,14.98102168177,14.870258056595,14.870258056595,15.202548932122,15.313312557297,15.424076182473,15.424076182473,15.424076182473,15.313312557297,15.313312557297,15.202548932122,15.202548932122,15.313312557297,15.534839807649,15.867130683176,16.088657933527,15.977894308351,15.867130683176,15.756367058,15.756367058,15.645603432824,15.645603432824,15.534839807649,15.756367058,15.756367058,15.645603432824,15.645603432824,15.645603432824,15.977894308351,15.977894308351,15.645603432824,15.313312557297,15.091785306946,15.091785306946,15.313312557297,15.424076182473,15.534839807649,15.645603432824,15.534839807649,15.645603432824,15.534839807649,15.756367058,15.645603432824,15.645603432824,15.645603432824,15.756367058,15.645603432824,15.534839807649,15.424076182473,15.534839807649,15.424076182473,15.645603432824,15.424076182473,15.313312557297,14.98102168177,15.424076182473,16.199421558703,17.417821435635,17.085530560108,16.864003309757,16.974766934932,17.085530560108,17.307057810459,17.307057810459,16.864003309757,16.310185183878,15.756367058,16.088657933527,16.53171243423,16.642476059405,16.864003309757,16.974766934932,17.085530560108,16.642476059405,16.088657933527,15.756367058,15.756367058,15.867130683176,16.088657933527,16.199421558703,16.088657933527,15.977894308351,15.756367058,15.977894308351,16.088657933527,16.310185183878,15.977894308351,15.977894308351,16.199421558703,15.756367058,15.756367058,15.534839807649,15.867130683176,16.088657933527,16.199421558703,16.310185183878,16.420948809054,16.420948809054,16.310185183878,16.088657933527,15.977894308351,15.977894308351,16.310185183878,16.420948809054,16.642476059405,16.53171243423,16.420948809054,16.088657933527,16.310185183878,16.642476059405,16.974766934932,16.864003309757,16.753239684581,16.753239684581,16.53171243423,16.420948809054,16.53171243423,16.642476059405,16.642476059405,16.53171243423,16.310185183878,16.310185183878,16.420948809054,16.864003309757,17.085530560108,16.974766934932,16.642476059405,16.53171243423,16.420948809054,16.199421558703,16.088657933527,16.088657933527,16.199421558703,15.867130683176,15.867130683176,16.753239684581,16.864003309757,16.974766934932,17.085530560108,17.196294185284,17.196294185284,17.307057810459,17.307057810459,17.417821435635,17.196294185284,17.196294185284,17.52858506081,17.639348685986,17.750112311162,17.417821435635,17.307057810459,17.417821435635,17.307057810459,17.307057810459,17.417821435635,17.307057810459,17.750112311162,17.750112311162]},\"column_names\":[\"y\",\"x\"],\"cont_ranges\":{},\"discrete_ranges\":{},\"selected\":[],\"id\":\"d8769ff3-60c1-4be2-cbef-3376017c54e6\",\"doc\":null,\"tags\":[]}},{\"id\":\"5cff97a7-73c3-432a-c325-b8d3f3c8984a\",\"type\":\"Line\",\"attributes\":{\"fill_alpha\":{\"units\":\"data\",\"value\":0.2},\"line_alpha\":{\"units\":\"data\",\"value\":1},\"doc\":null,\"size\":{\"units\":\"screen\",\"value\":10},\"fill_color\":{\"value\":\"grey\"},\"line_color\":{\"value\":\"grey\"},\"x\":{\"units\":\"data\",\"field\":\"x\"},\"id\":\"5cff97a7-73c3-432a-c325-b8d3f3c8984a\",\"y\":{\"units\":\"data\",\"field\":\"y\"},\"tags\":[]}},{\"id\":\"8fece7b3-34f4-4a7d-ca00-df339eec392a\",\"type\":\"Line\",\"attributes\":{\"fill_alpha\":{\"units\":\"data\",\"value\":0.2},\"line_alpha\":{\"units\":\"data\",\"value\":1},\"doc\":null,\"size\":{\"units\":\"screen\",\"value\":10},\"fill_color\":{\"value\":\"grey\"},\"line_color\":{\"value\":\"grey\"},\"x\":{\"units\":\"data\",\"field\":\"x\"},\"id\":\"8fece7b3-34f4-4a7d-ca00-df339eec392a\",\"y\":{\"units\":\"data\",\"field\":\"y\"},\"tags\":[]}},{\"id\":\"51b3bdeb-9054-46ac-c68b-ae4a6f851315\",\"type\":\"GlyphRenderer\",\"attributes\":{\"name\":null,\"nonselection_glyph\":{\"type\":\"Line\",\"id\":\"8fece7b3-34f4-4a7d-ca00-df339eec392a\"},\"doc\":null,\"server_data_source\":null,\"data_source\":{\"type\":\"ColumnDataSource\",\"id\":\"d8769ff3-60c1-4be2-cbef-3376017c54e6\"},\"glyph\":{\"type\":\"Line\",\"id\":\"5cff97a7-73c3-432a-c325-b8d3f3c8984a\"},\"selection_glyph\":null,\"id\":\"51b3bdeb-9054-46ac-c68b-ae4a6f851315\",\"tags\":[]}},{\"id\":\"4e5f4750-9a88-4fca-cf9f-cd4ce3b7a203\",\"type\":\"DataRange1d\",\"attributes\":{\"sources\":[{\"columns\":[\"x\"],\"source\":{\"type\":\"ColumnDataSource\",\"id\":\"3341b4ae-cbb7-4b06-cb09-af6b68284b67\"}},{\"columns\":[\"x\"],\"source\":{\"type\":\"ColumnDataSource\",\"id\":\"9ad64c8d-0dc1-490d-c9da-0dd82bac1e91\"}},{\"columns\":[\"x\"],\"source\":{\"type\":\"ColumnDataSource\",\"id\":\"67fedde7-77f3-4be4-cbee-f8d7e302e1f3\"}},{\"columns\":[\"x\"],\"source\":{\"type\":\"ColumnDataSource\",\"id\":\"489e075e-014c-4ef5-ce93-ac111bcdfad3\"}},{\"columns\":[\"x\"],\"source\":{\"type\":\"ColumnDataSource\",\"id\":\"d8769ff3-60c1-4be2-cbef-3376017c54e6\"}}],\"id\":\"4e5f4750-9a88-4fca-cf9f-cd4ce3b7a203\",\"tags\":[],\"doc\":null}},{\"id\":\"49fd7e0a-99e4-42c9-c230-569e198fd904\",\"type\":\"DataRange1d\",\"attributes\":{\"sources\":[{\"columns\":[\"y\"],\"source\":{\"type\":\"ColumnDataSource\",\"id\":\"3341b4ae-cbb7-4b06-cb09-af6b68284b67\"}},{\"columns\":[\"y\"],\"source\":{\"type\":\"ColumnDataSource\",\"id\":\"9ad64c8d-0dc1-490d-c9da-0dd82bac1e91\"}},{\"columns\":[\"y\"],\"source\":{\"type\":\"ColumnDataSource\",\"id\":\"67fedde7-77f3-4be4-cbee-f8d7e302e1f3\"}},{\"columns\":[\"y\"],\"source\":{\"type\":\"ColumnDataSource\",\"id\":\"489e075e-014c-4ef5-ce93-ac111bcdfad3\"}},{\"columns\":[\"y\"],\"source\":{\"type\":\"ColumnDataSource\",\"id\":\"d8769ff3-60c1-4be2-cbef-3376017c54e6\"}}],\"id\":\"49fd7e0a-99e4-42c9-c230-569e198fd904\",\"tags\":[],\"doc\":null}},{\"id\":\"71c762a4-7339-4c46-cc34-a9cde1830045\",\"type\":\"ToolEvents\",\"attributes\":{\"tags\":[],\"id\":\"71c762a4-7339-4c46-cc34-a9cde1830045\",\"geometries\":[],\"doc\":null}},{\"id\":\"c743e878-2950-4f7e-cfc8-7835840a558a\",\"type\":\"BasicTickFormatter\",\"attributes\":{\"id\":\"c743e878-2950-4f7e-cfc8-7835840a558a\",\"tags\":[],\"doc\":null}},{\"id\":\"80916607-4ec3-4111-c1ce-45221464354c\",\"type\":\"BasicTicker\",\"attributes\":{\"num_minor_ticks\":5,\"id\":\"80916607-4ec3-4111-c1ce-45221464354c\",\"tags\":[],\"doc\":null}},{\"id\":\"38bd9b0b-8d2c-432c-c33c-6353b5ddd497\",\"type\":\"LinearAxis\",\"attributes\":{\"formatter\":{\"type\":\"BasicTickFormatter\",\"id\":\"c743e878-2950-4f7e-cfc8-7835840a558a\"},\"ticker\":{\"type\":\"BasicTicker\",\"id\":\"80916607-4ec3-4111-c1ce-45221464354c\"},\"plot\":{\"id\":\"fc73a7e6-7404-4f02-cf0e-21bbb4c021ef\",\"type\":\"Plot\",\"subtype\":\"Figure\"},\"axis_label\":null,\"id\":\"38bd9b0b-8d2c-432c-c33c-6353b5ddd497\",\"doc\":null,\"tags\":[]}},{\"id\":\"38e71985-908a-4f41-cfdb-a4f2127a8589\",\"type\":\"Grid\",\"attributes\":{\"dimension\":0,\"plot\":{\"id\":\"fc73a7e6-7404-4f02-cf0e-21bbb4c021ef\",\"type\":\"Plot\",\"subtype\":\"Figure\"},\"ticker\":{\"type\":\"BasicTicker\",\"id\":\"80916607-4ec3-4111-c1ce-45221464354c\"},\"id\":\"38e71985-908a-4f41-cfdb-a4f2127a8589\",\"doc\":null,\"tags\":[]}},{\"id\":\"fb1c0a8c-3974-4ba7-cb54-d027d9fce98f\",\"type\":\"BasicTickFormatter\",\"attributes\":{\"id\":\"fb1c0a8c-3974-4ba7-cb54-d027d9fce98f\",\"tags\":[],\"doc\":null}},{\"id\":\"3d45818a-b5bc-48e0-c871-129881dfe385\",\"type\":\"BasicTicker\",\"attributes\":{\"num_minor_ticks\":5,\"id\":\"3d45818a-b5bc-48e0-c871-129881dfe385\",\"tags\":[],\"doc\":null}},{\"id\":\"bb20367c-45be-4187-c160-91a65e1b87ee\",\"type\":\"LinearAxis\",\"attributes\":{\"formatter\":{\"type\":\"BasicTickFormatter\",\"id\":\"fb1c0a8c-3974-4ba7-cb54-d027d9fce98f\"},\"ticker\":{\"type\":\"BasicTicker\",\"id\":\"3d45818a-b5bc-48e0-c871-129881dfe385\"},\"plot\":{\"id\":\"fc73a7e6-7404-4f02-cf0e-21bbb4c021ef\",\"type\":\"Plot\",\"subtype\":\"Figure\"},\"axis_label\":null,\"id\":\"bb20367c-45be-4187-c160-91a65e1b87ee\",\"doc\":null,\"tags\":[]}},{\"id\":\"75deb4e1-de4b-4277-c2b6-03402a290f7d\",\"type\":\"Grid\",\"attributes\":{\"dimension\":1,\"plot\":{\"id\":\"fc73a7e6-7404-4f02-cf0e-21bbb4c021ef\",\"type\":\"Plot\",\"subtype\":\"Figure\"},\"ticker\":{\"type\":\"BasicTicker\",\"id\":\"3d45818a-b5bc-48e0-c871-129881dfe385\"},\"id\":\"75deb4e1-de4b-4277-c2b6-03402a290f7d\",\"doc\":null,\"tags\":[]}},{\"id\":\"c77fc70e-c027-4bdd-cb74-9efe64b30c3f\",\"type\":\"PanTool\",\"attributes\":{\"plot\":{\"id\":\"fc73a7e6-7404-4f02-cf0e-21bbb4c021ef\",\"type\":\"Plot\",\"subtype\":\"Figure\"},\"dimensions\":[\"width\",\"height\"],\"id\":\"c77fc70e-c027-4bdd-cb74-9efe64b30c3f\",\"doc\":null,\"tags\":[]}},{\"id\":\"6761a806-b16f-4d65-cdfb-ac8a32d052d3\",\"type\":\"WheelZoomTool\",\"attributes\":{\"plot\":{\"id\":\"fc73a7e6-7404-4f02-cf0e-21bbb4c021ef\",\"type\":\"Plot\",\"subtype\":\"Figure\"},\"dimensions\":[\"width\",\"height\"],\"id\":\"6761a806-b16f-4d65-cdfb-ac8a32d052d3\",\"doc\":null,\"tags\":[]}},{\"id\":\"94195310-aa19-4ca4-ccff-ddd71d30ae2e\",\"type\":\"BoxZoomTool\",\"attributes\":{\"plot\":{\"id\":\"fc73a7e6-7404-4f02-cf0e-21bbb4c021ef\",\"type\":\"Plot\",\"subtype\":\"Figure\"},\"id\":\"94195310-aa19-4ca4-ccff-ddd71d30ae2e\",\"tags\":[],\"doc\":null}},{\"id\":\"1a51a132-5544-45d0-c517-c7413397c262\",\"type\":\"PreviewSaveTool\",\"attributes\":{\"plot\":{\"id\":\"fc73a7e6-7404-4f02-cf0e-21bbb4c021ef\",\"type\":\"Plot\",\"subtype\":\"Figure\"},\"id\":\"1a51a132-5544-45d0-c517-c7413397c262\",\"tags\":[],\"doc\":null}},{\"id\":\"bb1614d0-945b-49bc-c939-478134e839e5\",\"type\":\"ResizeTool\",\"attributes\":{\"plot\":{\"id\":\"fc73a7e6-7404-4f02-cf0e-21bbb4c021ef\",\"type\":\"Plot\",\"subtype\":\"Figure\"},\"id\":\"bb1614d0-945b-49bc-c939-478134e839e5\",\"tags\":[],\"doc\":null}},{\"id\":\"ba89f1af-8906-4b2e-cb32-cc24feeefc78\",\"type\":\"ResetTool\",\"attributes\":{\"plot\":{\"id\":\"fc73a7e6-7404-4f02-cf0e-21bbb4c021ef\",\"type\":\"Plot\",\"subtype\":\"Figure\"},\"id\":\"ba89f1af-8906-4b2e-cb32-cc24feeefc78\",\"tags\":[],\"doc\":null}},{\"id\":\"6a3bde1f-0946-44d8-c4ae-464b440e8a88\",\"type\":\"Legend\",\"attributes\":{\"plot\":{\"id\":\"fc73a7e6-7404-4f02-cf0e-21bbb4c021ef\",\"type\":\"Plot\",\"subtype\":\"Figure\"},\"legends\":[[\"gamma\",[{\"type\":\"GlyphRenderer\",\"id\":\"edb83bf6-05e3-44b6-c4a2-4de8e78dc2eb\"}]],[\"ILD\",[{\"type\":\"GlyphRenderer\",\"id\":\"30478146-1415-43bc-c354-2f11b7f63741\"}]],[\"dPhi\",[{\"type\":\"GlyphRenderer\",\"id\":\"648b2e60-e405-4c40-cc5b-fff61141078a\"}]],[\"nPor\",[{\"type\":\"GlyphRenderer\",\"id\":\"a5b6de1d-d2b3-4e39-ce5e-d76a30234d47\"}]],[\"PE\",[{\"type\":\"GlyphRenderer\",\"id\":\"51b3bdeb-9054-46ac-c68b-ae4a6f851315\"}]]],\"id\":\"6a3bde1f-0946-44d8-c4ae-464b440e8a88\",\"doc\":null,\"tags\":[]}},{\"id\":\"fc73a7e6-7404-4f02-cf0e-21bbb4c021ef\",\"type\":\"Plot\",\"attributes\":{\"x_range\":{\"type\":\"DataRange1d\",\"id\":\"4e5f4750-9a88-4fca-cf9f-cd4ce3b7a203\"},\"tool_events\":{\"type\":\"ToolEvents\",\"id\":\"71c762a4-7339-4c46-cc34-a9cde1830045\"},\"below\":[{\"type\":\"LinearAxis\",\"id\":\"38bd9b0b-8d2c-432c-c33c-6353b5ddd497\"}],\"renderers\":[{\"type\":\"GlyphRenderer\",\"id\":\"edb83bf6-05e3-44b6-c4a2-4de8e78dc2eb\"},{\"type\":\"GlyphRenderer\",\"id\":\"30478146-1415-43bc-c354-2f11b7f63741\"},{\"type\":\"GlyphRenderer\",\"id\":\"648b2e60-e405-4c40-cc5b-fff61141078a\"},{\"type\":\"GlyphRenderer\",\"id\":\"a5b6de1d-d2b3-4e39-ce5e-d76a30234d47\"},{\"type\":\"GlyphRenderer\",\"id\":\"51b3bdeb-9054-46ac-c68b-ae4a6f851315\"},{\"type\":\"LinearAxis\",\"id\":\"38bd9b0b-8d2c-432c-c33c-6353b5ddd497\"},{\"type\":\"Grid\",\"id\":\"38e71985-908a-4f41-cfdb-a4f2127a8589\"},{\"type\":\"LinearAxis\",\"id\":\"bb20367c-45be-4187-c160-91a65e1b87ee\"},{\"type\":\"Grid\",\"id\":\"75deb4e1-de4b-4277-c2b6-03402a290f7d\"},{\"type\":\"Legend\",\"id\":\"6a3bde1f-0946-44d8-c4ae-464b440e8a88\"}],\"above\":[],\"tools\":[{\"type\":\"PanTool\",\"id\":\"c77fc70e-c027-4bdd-cb74-9efe64b30c3f\"},{\"type\":\"WheelZoomTool\",\"id\":\"6761a806-b16f-4d65-cdfb-ac8a32d052d3\"},{\"type\":\"BoxZoomTool\",\"id\":\"94195310-aa19-4ca4-ccff-ddd71d30ae2e\"},{\"type\":\"PreviewSaveTool\",\"id\":\"1a51a132-5544-45d0-c517-c7413397c262\"},{\"type\":\"ResizeTool\",\"id\":\"bb1614d0-945b-49bc-c939-478134e839e5\"},{\"type\":\"ResetTool\",\"id\":\"ba89f1af-8906-4b2e-cb32-cc24feeefc78\"}],\"doc\":null,\"right\":[],\"title\":\"Shrimplin Logs\",\"extra_x_ranges\":{},\"left\":[{\"type\":\"LinearAxis\",\"id\":\"bb20367c-45be-4187-c160-91a65e1b87ee\"}],\"y_range\":{\"type\":\"DataRange1d\",\"id\":\"49fd7e0a-99e4-42c9-c230-569e198fd904\"},\"id\":\"fc73a7e6-7404-4f02-cf0e-21bbb4c021ef\",\"extra_y_ranges\":{},\"tags\":[]}}];\n",
       "      Bokeh.load_models(all_models);\n",
       "      var model = Bokeh.Collections(modeltype).get(modelid);\n",
       "      $(\"#c1b533d8-3c18-4cdd-cc47-403647fe1018\").html(''); // clear any previous plot in window_id\n",
       "      var view = new model.default_view({model: model, el: \"#c1b533d8-3c18-4cdd-cc47-403647fe1018\"});\n",
       "  });\n",
       "    }\n",
       "});\n",
       "</script>\n",
       "<div class=\"plotdiv\" id=\"c2b03050-7182-4818-c81f-517947bf8a35\"></div>\n"
      ]
     },
     "metadata": {},
     "output_type": "display_data"
    }
   ],
   "source": [
    "plot = Plot():line(training_data[\"shrimplin\"][{{},{1}}]:reshape(training_data[\"shrimplin\"]:size(1)), depth[\"shrimplin\"]:reshape(training_data[\"shrimplin\"]:size(1)),'red','gamma'):draw()\n",
    "\n",
    "plot:line(training_data[\"shrimplin\"][{{},{2}}]:reshape(training_data[\"shrimplin\"]:size(1))+4, depth[\"shrimplin\"]:reshape(training_data[\"shrimplin\"]:size(1)),'blue','ILD')\n",
    "plot:line(training_data[\"shrimplin\"][{{},{3}}]:reshape(training_data[\"shrimplin\"]:size(1))+8, depth[\"shrimplin\"]:reshape(training_data[\"shrimplin\"]:size(1)),'green','dPhi')\n",
    "plot:line(training_data[\"shrimplin\"][{{},{4}}]:reshape(training_data[\"shrimplin\"]:size(1))+12, depth[\"shrimplin\"]:reshape(training_data[\"shrimplin\"]:size(1)),'brown','nPor')\n",
    "plot:line(training_data[\"shrimplin\"][{{},{5}}]:reshape(training_data[\"shrimplin\"]:size(1))+16, depth[\"shrimplin\"]:reshape(training_data[\"shrimplin\"]:size(1)),'grey','PE')\n",
    "--plot:line(training_data[\"shrimplin\"][{{},{6}}]:reshape(training_data[\"shrimplin\"]:size(1))+10, depth[\"shrimplin\"]:reshape(training_data[\"shrimplin\"]:size(1)),'black','NM_M')\n",
    "--plot:line(training_data[\"shrimplin\"][{{},{7}}]:reshape(training_data[\"shrimplin\"]:size(1))+12, depth[\"shrimplin\"]:reshape(training_data[\"shrimplin\"]:size(1)),'yellow','RelPos')\n",
    "\n",
    "plot:legend(true)\n",
    "plot:title(\"Shrimplin Logs\")\n",
    "plot:redraw()"
   ]
  },
  {
   "cell_type": "markdown",
   "metadata": {},
   "source": [
    "## Facies labels\n",
    "To train and test the model we'll need the correct facies labels, so we memorize them here."
   ]
  },
  {
   "cell_type": "code",
   "execution_count": 8,
   "metadata": {
    "collapsed": true
   },
   "outputs": [],
   "source": [
    "facies_labels = {}\n",
    "\n",
    "facies_labels[\"shrimplin\"] = facies[{{1,471},{1}}]\n",
    "facies_labels[\"alexander\"] = facies[{{472,937},{1}}]\n",
    "facies_labels[\"shankle\"] = facies[{{938,1386},{1}}]\n",
    "facies_labels[\"luke\"] = facies[{{1387,1847},{1}}]\n",
    "facies_labels[\"kimzey\"] = facies[{{1848,2286},{1}}]\n",
    "facies_labels[\"cross\"] = facies[{{2287,2787},{1}}]\n",
    "facies_labels[\"nolan\"] = facies[{{2788,3202},{1}}]\n",
    "facies_labels[\"recruit\"] = facies[{{3203,3282},{1}}]\n",
    "facies_labels[\"newby\"] = facies[{{3283,3745},{1}}]\n",
    "facies_labels[\"churchman\"] = facies[{{3746,4149},{1}}]"
   ]
  },
  {
   "cell_type": "markdown",
   "metadata": {
    "collapsed": true
   },
   "source": [
    "## Extract blind well\n",
    "Next we separate the Newby well for blind testing."
   ]
  },
  {
   "cell_type": "code",
   "execution_count": 9,
   "metadata": {
    "collapsed": true
   },
   "outputs": [],
   "source": [
    "-- create blind data\n",
    "blind_well = {}\n",
    "\n",
    "blind_well[\"newby\"] = training_data[\"newby\"][{{},{}}]\n",
    "\n",
    "-- remove blind data from training data\n",
    "training_data[\"newby\"] = nil"
   ]
  },
  {
   "cell_type": "markdown",
   "metadata": {
    "collapsed": true
   },
   "source": [
    "## Build a net\n",
    "I'll naively build a neural net here and run the data through. I have no idea what I'm doing or what type of layers I need, but here goes!"
   ]
  },
  {
   "cell_type": "code",
   "execution_count": 38,
   "metadata": {
    "collapsed": true
   },
   "outputs": [],
   "source": [
    "net = nn.Sequential()\n",
    "net:add(nn.TemporalConvolution(1,3,2))\n",
    "net:add(nn.ReLU())\n",
    "net:add(nn.TemporalMaxPooling(2))\n",
    "net:add(nn.TemporalConvolution(3,5,2))\n",
    "net:add(nn.ReLU())\n",
    "net:add(nn.TemporalMaxPooling(2))\n",
    "net:add(nn.View(5*1))\n",
    "net:add(nn.Linear(5*1,20))\n",
    "net:add(nn.ReLU())\n",
    "net:add(nn.Linear(20,10))\n",
    "net:add(nn.ReLU())\n",
    "net:add(nn.Linear(10,9))\n",
    "net:add(nn.LogSoftMax())"
   ]
  },
  {
   "cell_type": "markdown",
   "metadata": {},
   "source": [
    "## See if the net goes\n",
    "The input to Torch NNs obviously has to be a `torch.Tensor`. Not quite as obviously, when you load in data as above it inherits the `readObject` top level properties. Sooooo to feed data into the net we have to first convert it to a `torch.Tensor`."
   ]
  },
  {
   "cell_type": "code",
   "execution_count": 11,
   "metadata": {
    "collapsed": false
   },
   "outputs": [],
   "source": [
    "temp = torch.Tensor(7,1)\n",
    "for i = 1,7 do\n",
    "    temp[i] = training_data[\"shrimplin\"][1][i]\n",
    "end\n",
    "input = temp"
   ]
  },
  {
   "cell_type": "code",
   "execution_count": 12,
   "metadata": {
    "collapsed": false
   },
   "outputs": [],
   "source": [
    "output = net:forward(input)"
   ]
  },
  {
   "cell_type": "code",
   "execution_count": 13,
   "metadata": {
    "collapsed": false
   },
   "outputs": [
    {
     "data": {
      "text/plain": [
       "-2.2578\n",
       "-2.2554\n",
       "-2.2294\n",
       "-2.2501\n",
       "-2.1246\n",
       "-2.1108\n",
       "-2.2168\n",
       "-2.1881\n",
       "-2.1550\n",
       "[torch.DoubleTensor of size 9]\n",
       "\n"
      ]
     },
     "execution_count": 13,
     "metadata": {},
     "output_type": "execute_result"
    }
   ],
   "source": [
    "output"
   ]
  },
  {
   "cell_type": "code",
   "execution_count": 14,
   "metadata": {
    "collapsed": false
   },
   "outputs": [],
   "source": [
    "net:zeroGradParameters() -- zero the internal gradient buffers of the network"
   ]
  },
  {
   "cell_type": "code",
   "execution_count": 15,
   "metadata": {
    "collapsed": false
   },
   "outputs": [],
   "source": [
    "gradInput = net:backward(input, torch.rand(9))"
   ]
  },
  {
   "cell_type": "code",
   "execution_count": 16,
   "metadata": {
    "collapsed": false
   },
   "outputs": [
    {
     "data": {
      "text/plain": [
       "0.01 *\n",
       "  0.0695\n",
       "  0.0000\n",
       " -1.0845\n",
       "  0.0000\n",
       "  0.0000\n",
       "  0.0000\n",
       "  0.0000\n",
       "[torch.DoubleTensor of size 7x1]\n",
       "\n"
      ]
     },
     "execution_count": 16,
     "metadata": {},
     "output_type": "execute_result"
    }
   ],
   "source": [
    "gradInput"
   ]
  },
  {
   "cell_type": "markdown",
   "metadata": {},
   "source": [
    "## Define Loss Function\n",
    "On the suggestion of the intewebs, I'm going to use a negative-log likeihood as an error criterion. Apparently it works well in classification problems. (Again, no idea wtf I'm doing)"
   ]
  },
  {
   "cell_type": "code",
   "execution_count": 17,
   "metadata": {
    "collapsed": false
   },
   "outputs": [],
   "source": [
    "criterion = nn.ClassNLLCriterion()"
   ]
  },
  {
   "cell_type": "code",
   "execution_count": 18,
   "metadata": {
    "collapsed": false
   },
   "outputs": [
    {
     "data": {
      "text/plain": [
       "2.2294142782347\t1\t\n"
      ]
     },
     "execution_count": 18,
     "metadata": {},
     "output_type": "execute_result"
    }
   ],
   "source": [
    "criterion:forward(output,facies_labels[\"shrimplin\"][1])"
   ]
  },
  {
   "cell_type": "code",
   "execution_count": 19,
   "metadata": {
    "collapsed": false
   },
   "outputs": [],
   "source": [
    "gradients = criterion:backward(output, facies_labels[\"shrimplin\"][1])"
   ]
  },
  {
   "cell_type": "code",
   "execution_count": 20,
   "metadata": {
    "collapsed": false
   },
   "outputs": [
    {
     "data": {
      "text/plain": [
       " 0\n",
       " 0\n",
       "-1\n",
       " 0\n",
       " 0\n",
       " 0\n",
       " 0\n",
       " 0\n",
       " 0\n",
       "[torch.DoubleTensor of size 9]\n",
       "\n"
      ]
     },
     "execution_count": 20,
     "metadata": {},
     "output_type": "execute_result"
    }
   ],
   "source": [
    "gradients"
   ]
  },
  {
   "cell_type": "code",
   "execution_count": 21,
   "metadata": {
    "collapsed": false
   },
   "outputs": [],
   "source": [
    "gradInput = net:backward(input, gradients)"
   ]
  },
  {
   "cell_type": "markdown",
   "metadata": {},
   "source": [
    "## Condition the data\n",
    "`nn.StochasticGradient` expects it's input in the form outlined in the <a href=\"https://github.com/torch/nn/blob/master/doc/training.md#traindataset\">docs</a>. Also, as mentioned above, my data isn't in the cleverest of forms to begin with. So let's fix all this malarchy."
   ]
  },
  {
   "cell_type": "code",
   "execution_count": 22,
   "metadata": {
    "collapsed": false
   },
   "outputs": [],
   "source": [
    "trainset = {}\n",
    "\n",
    "-- the data\n",
    "trainset[\"data\"] = torch.Tensor(facies:size()[1],7,1) \n",
    "--[[ the extra 1 dimension here is, as was shown above, \n",
    "    because the net requires a 2D input tensor]]--\n",
    "\n",
    "idx = 0\n",
    "for key,value in pairs(training_data) do\n",
    "    for i = 1,training_data[key]:size()[1] do\n",
    "        trainset[\"data\"][i + idx] = training_data[key][i]\n",
    "    end\n",
    "    idx = idx + training_data[key]:size()[1]\n",
    "end\n",
    "\n",
    "-- the answers\n",
    "trainset[\"facies\"] = torch.Tensor(facies:size()[1])\n",
    "\n",
    "idx = 0\n",
    "for key,value in pairs(facies_labels) do\n",
    "    for i = 1, facies_labels[key]:size()[1] do\n",
    "        trainset[\"facies\"][i + idx] = facies_labels[key][i]\n",
    "    end\n",
    "    idx = idx + facies_labels[key]:size()[1]\n",
    "end"
   ]
  },
  {
   "cell_type": "code",
   "execution_count": 23,
   "metadata": {
    "collapsed": false
   },
   "outputs": [
    {
     "data": {
      "text/plain": [
       "{\n",
       "  data : DoubleTensor - size: 4149x7x1\n",
       "  facies : DoubleTensor - size: 4149\n",
       "}\n"
      ]
     },
     "execution_count": 23,
     "metadata": {},
     "output_type": "execute_result"
    }
   ],
   "source": [
    "trainset"
   ]
  },
  {
   "cell_type": "code",
   "execution_count": 24,
   "metadata": {
    "collapsed": false
   },
   "outputs": [
    {
     "data": {
      "text/plain": [
       " 4149\n",
       "    7\n",
       "    1\n",
       "[torch.LongStorage of size 3]\n",
       "\n"
      ]
     },
     "execution_count": 24,
     "metadata": {},
     "output_type": "execute_result"
    }
   ],
   "source": [
    "#trainset.data"
   ]
  },
  {
   "cell_type": "code",
   "execution_count": 25,
   "metadata": {
    "collapsed": false
   },
   "outputs": [
    {
     "data": {
      "text/plain": [
       " 4149\n",
       "[torch.LongStorage of size 1]\n",
       "\n"
      ]
     },
     "execution_count": 25,
     "metadata": {},
     "output_type": "execute_result"
    }
   ],
   "source": [
    "#trainset.facies"
   ]
  },
  {
   "cell_type": "markdown",
   "metadata": {},
   "source": [
    "\n",
    "1. First, we need a `torch.Tensor` input to the neural net. This automatically satisfies the `StochasticGradient` requirement that the data must have an index function.\n",
    "2. Second, the data must have a `:size()` function."
   ]
  },
  {
   "cell_type": "code",
   "execution_count": 26,
   "metadata": {
    "collapsed": false
   },
   "outputs": [],
   "source": [
    "setmetatable(trainset, \n",
    "    {__index = function(t, i) \n",
    "                    return {t.data[i], t.facies[i]} \n",
    "                end}\n",
    ");\n",
    "\n",
    "function trainset:size() \n",
    "    return self.data:size(1) \n",
    "end"
   ]
  },
  {
   "cell_type": "code",
   "execution_count": 27,
   "metadata": {
    "collapsed": false
   },
   "outputs": [
    {
     "data": {
      "text/plain": [
       "4149\t\n"
      ]
     },
     "execution_count": 27,
     "metadata": {},
     "output_type": "execute_result"
    }
   ],
   "source": [
    "trainset:size()"
   ]
  },
  {
   "cell_type": "code",
   "execution_count": 28,
   "metadata": {
    "collapsed": false
   },
   "outputs": [
    {
     "data": {
      "text/plain": [
       "{\n",
       "  data : DoubleTensor - size: 4149x7x1\n",
       "  size : function: 0x410eb800\n",
       "  facies : DoubleTensor - size: 4149\n",
       "}\n"
      ]
     },
     "execution_count": 28,
     "metadata": {},
     "output_type": "execute_result"
    }
   ],
   "source": [
    "trainset"
   ]
  },
  {
   "cell_type": "markdown",
   "metadata": {},
   "source": [
    "## Train the net"
   ]
  },
  {
   "cell_type": "code",
   "execution_count": 29,
   "metadata": {
    "collapsed": false
   },
   "outputs": [],
   "source": [
    "trainer = nn.StochasticGradient(net, criterion)\n",
    "trainer.learningRate = 0.001\n",
    "trainer.maxIteration = 5"
   ]
  },
  {
   "cell_type": "code",
   "execution_count": 39,
   "metadata": {
    "collapsed": false
   },
   "outputs": [
    {
     "data": {
      "text/plain": [
       "# StochasticGradient: training\t\n"
      ]
     },
     "execution_count": 39,
     "metadata": {},
     "output_type": "execute_result"
    },
    {
     "data": {
      "text/plain": [
       "# current error = 2.0218501810146\t\n"
      ]
     },
     "execution_count": 39,
     "metadata": {},
     "output_type": "execute_result"
    },
    {
     "data": {
      "text/plain": [
       "# current error = 2.0218536981833\t\n"
      ]
     },
     "execution_count": 39,
     "metadata": {},
     "output_type": "execute_result"
    },
    {
     "data": {
      "text/plain": [
       "# current error = 2.0218645171743\t\n"
      ]
     },
     "execution_count": 39,
     "metadata": {},
     "output_type": "execute_result"
    },
    {
     "data": {
      "text/plain": [
       "# current error = 2.0218661067947\t\n"
      ]
     },
     "execution_count": 39,
     "metadata": {},
     "output_type": "execute_result"
    },
    {
     "data": {
      "text/plain": [
       "# current error = 2.0218651808945\t\n",
       "# StochasticGradient: you have reached the maximum number of iterations\t\n",
       "# training error = 2.0218651808945\t\n"
      ]
     },
     "execution_count": 39,
     "metadata": {},
     "output_type": "execute_result"
    },
    {
     "data": {
      "text/plain": [
       "9.1088891029358\t\n"
      ]
     },
     "execution_count": 39,
     "metadata": {},
     "output_type": "execute_result"
    }
   ],
   "source": [
    "timer = torch.Timer()\n",
    "trainer:train(trainset)\n",
    "print(timer:time().real)"
   ]
  },
  {
   "cell_type": "markdown",
   "metadata": {},
   "source": [
    "## Predict using the net\n",
    "Again we'll have to organize the data and define an index and size function for the test set."
   ]
  },
  {
   "cell_type": "code",
   "execution_count": null,
   "metadata": {
    "collapsed": true
   },
   "outputs": [],
   "source": []
  },
  {
   "cell_type": "code",
   "execution_count": 43,
   "metadata": {
    "collapsed": false
   },
   "outputs": [
    {
     "ename": "[string \"predicted = net:forward(testset.data[1])...\"]:1: attempt to index global 'testset' (a nil value)\nstack traceback:\n\t[string \"predicted = net:forward(testset.data[1])...\"]:1: in main chunk\n\t[C]: in function 'xpcall'\n\t/home/gram/torch/install/share/lua/5.1/itorch/main.lua:210: in function </home/gram/torch/install/share/lua/5.1/itorch/main.lua:174>\n\t/home/gram/torch/install/share/lua/5.1/lzmq/poller.lua:75: in function 'poll'\n\t/home/gram/torch/install/share/lua/5.1/lzmq/impl/loop.lua:307: in function 'poll'\n\t/home/gram/torch/install/share/lua/5.1/lzmq/impl/loop.lua:325: in function 'sleep_ex'\n\t/home/gram/torch/install/share/lua/5.1/lzmq/impl/loop.lua:370: in function 'start'\n\t/home/gram/torch/install/share/lua/5.1/itorch/main.lua:389: in main chunk\n\t[C]: in function 'require'\n\t(command line):1: in main chunk\n\t[C]: at 0x00405d50",
     "evalue": "",
     "output_type": "error",
     "traceback": [
      "[string \"predicted = net:forward(testset.data[1])...\"]:1: attempt to index global 'testset' (a nil value)\nstack traceback:\n\t[string \"predicted = net:forward(testset.data[1])...\"]:1: in main chunk\n\t[C]: in function 'xpcall'\n\t/home/gram/torch/install/share/lua/5.1/itorch/main.lua:210: in function </home/gram/torch/install/share/lua/5.1/itorch/main.lua:174>\n\t/home/gram/torch/install/share/lua/5.1/lzmq/poller.lua:75: in function 'poll'\n\t/home/gram/torch/install/share/lua/5.1/lzmq/impl/loop.lua:307: in function 'poll'\n\t/home/gram/torch/install/share/lua/5.1/lzmq/impl/loop.lua:325: in function 'sleep_ex'\n\t/home/gram/torch/install/share/lua/5.1/lzmq/impl/loop.lua:370: in function 'start'\n\t/home/gram/torch/install/share/lua/5.1/itorch/main.lua:389: in main chunk\n\t[C]: in function 'require'\n\t(command line):1: in main chunk\n\t[C]: at 0x00405d50"
     ]
    }
   ],
   "source": [
    "predicted = net:forward(testset.data[1])"
   ]
  },
  {
   "cell_type": "code",
   "execution_count": null,
   "metadata": {
    "collapsed": true
   },
   "outputs": [],
   "source": []
  }
 ],
 "metadata": {
  "kernelspec": {
   "display_name": "iTorch",
   "language": "lua",
   "name": "itorch"
  },
  "language_info": {
   "name": "lua",
   "version": "5.1"
  }
 },
 "nbformat": 4,
 "nbformat_minor": 1
}
