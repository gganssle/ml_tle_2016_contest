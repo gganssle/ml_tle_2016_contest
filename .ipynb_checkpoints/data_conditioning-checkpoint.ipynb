{
 "cells": [
  {
   "cell_type": "markdown",
   "metadata": {},
   "source": [
    "# Load the data\n",
    "We first load the weird t7 converted files containing the data. The conversion step is in the <a href=\"\">data loading notebook</a>."
   ]
  },
  {
   "cell_type": "code",
   "execution_count": null,
   "metadata": {
    "collapsed": true
   },
   "outputs": [],
   "source": [
    "file = torch.DiskFile('dat/facies_vectors.t7', 'r')\n",
    "facies = file:readObject()\n",
    "file:close()\n",
    "file = torch.DiskFile('dat/nofacies_data.t7', 'r')\n",
    "nofacies = file:readObject()\n",
    "file:close()\n",
    "file = torch.DiskFile('dat/training_data.t7', 'r')\n",
    "training = file:readObject()\n",
    "file:close()\n",
    "file = torch.DiskFile('dat/validation_data_nofacies.t7', 'r')\n",
    "validate = file:readObject()\n",
    "file:close()\n",
    "file = torch.DiskFile('dat/well_data_with_facies.t7', 'r')\n",
    "well = file:readObject()\n",
    "file:close()"
   ]
  }
 ],
 "metadata": {
  "kernelspec": {
   "display_name": "iTorch",
   "language": "lua",
   "name": "itorch"
  },
  "language_info": {
   "name": "lua",
   "version": "5.1"
  }
 },
 "nbformat": 4,
 "nbformat_minor": 1
}
